{
 "cells": [
  {
   "cell_type": "code",
   "execution_count": 25,
   "metadata": {
    "ExecuteTime": {
     "end_time": "2023-06-23T03:21:54.766249Z",
     "start_time": "2023-06-23T03:21:54.752765Z"
    }
   },
   "outputs": [],
   "source": [
    "import sys\n",
    "sys.path.append(\"..\")\n",
    "import torch\n",
    "import torch.nn as nn\n",
    "import torch.nn.functional as F\n",
    "from model.util import MinPool\n",
    "from model.RESUNet import ResBlock\n",
    "from model.model import *\n",
    "from model.util import cat_tensor, crop_tensor\n",
    "from model.model import Unet"
   ]
  },
  {
   "cell_type": "code",
   "execution_count": 28,
   "metadata": {
    "ExecuteTime": {
     "end_time": "2023-06-23T03:27:22.346996Z",
     "start_time": "2023-06-23T03:27:22.338011Z"
    },
    "code_folding": [
     0
    ]
   },
   "outputs": [],
   "source": [
    "class RC(nn.Module):\n",
    "    def __init__(self, in_channels, out_channels, kernel_size = 3, strides = 1, padding = 1, block_number = 2) -> None:\n",
    "        super().__init__()\n",
    "        d = [\n",
    "               nn.Conv2d(in_channels, out_channels, kernel_size, strides, padding)\n",
    "            ]\n",
    "   \n",
    "        for i in range(block_number - 1):\n",
    "            d.append(  nn.Conv2d(out_channels, out_channels, kernel_size, strides, padding)  )\n",
    "        self.body = nn.Sequential(*d)\n",
    "\n",
    "    def forward(self, x):\n",
    "        x = self.body(x)\n",
    "        return x\n",
    "class Encode(nn.Module):\n",
    "    def __init__(self, in_channel, out_channel, block_number = 1, conv_type = \"conv\"):\n",
    "        super().__init__( )\n",
    "        if conv_type == \"conv\":\n",
    "            self.conv = RC(in_channel, out_channel, block_number = block_number)\n",
    "        else:\n",
    "            self.conv = RCS(in_channel, out_channel, block_number = block_number)\n",
    "        self.downsample = nn.MaxPool2d(2)\n",
    "        \n",
    "    def forward(self, x):\n",
    "        x_conv = self.conv(x)\n",
    "        x_pool = self.downsample(x_conv)\n",
    "        return x_conv, x_pool"
   ]
  },
  {
   "cell_type": "code",
   "execution_count": 37,
   "metadata": {
    "ExecuteTime": {
     "end_time": "2023-06-23T04:04:28.721548Z",
     "start_time": "2023-06-23T04:04:28.705637Z"
    },
    "code_folding": []
   },
   "outputs": [],
   "source": [
    "class EncodeBlock(nn.Module):\n",
    "    def __init__(self, in_channel, block_number = [ 2, 2, 2, 2], middle_channel = [8, 16, 32, 64, 128], conv_type = \"conv\"):\n",
    "        super().__init__( )\n",
    "        self.encode_0 = Encode(in_channel, middle_channel[0], block_number[0], conv_type)\n",
    "        self.encode_1 = Encode(middle_channel[0], middle_channel[1], block_number[0], conv_type)\n",
    "        self.encode_2 = Encode(middle_channel[1], middle_channel[2], block_number[1], conv_type)\n",
    "        self.encode_3 = Encode(middle_channel[2], middle_channel[3], block_number[2], conv_type)\n",
    "        self.encode_4 = Encode(middle_channel[3], middle_channel[4], block_number[3], conv_type)\n",
    "        \n",
    "        \n",
    "    def forward(self, x):\n",
    "        x0_conv, x0_pool = self.encode_0(x)\n",
    "        x1_conv, x1_pool = self.encode_1(x0_pool)\n",
    "        x2_conv, x2_pool = self.encode_2(x1_pool)\n",
    "        x3_conv, x3_pool = self.encode_3(x2_pool)\n",
    "        x4_conv, x4_pool = self.encode_4(x3_pool)\n",
    "        return x0_conv, x1_conv, x2_conv, x3_conv, x4_conv"
   ]
  },
  {
   "cell_type": "code",
   "execution_count": 38,
   "metadata": {
    "ExecuteTime": {
     "end_time": "2023-06-23T04:04:29.530663Z",
     "start_time": "2023-06-23T04:04:29.521684Z"
    },
    "code_folding": [
     1,
     20
    ]
   },
   "outputs": [],
   "source": [
    "\n",
    "class DecodeBlock(nn.Module):\n",
    "    def __init__(self, middle_channel = [8, 16, 32, 64, 128]):\n",
    "        super().__init__( )\n",
    "        self.pre = nn.Conv2d(in_channel, middle_channel[0], 1, 1)\n",
    "        self.encode_1 = Encode(middle_channel[0], middle_channel[1], block_number)\n",
    "        self.encode_2 = Encode(middle_channel[1], middle_channel[2], block_number)\n",
    "        self.encode_3 = Encode(middle_channel[2], middle_channel[3], block_number)\n",
    "        self.encode_4 = Encode(middle_channel[3], middle_channel[4], block_number)\n",
    "        \n",
    "    def forward(self, x):\n",
    "        x = self.pre(x)\n",
    "        x1 = self.encode_1(x)\n",
    "        x2 = self.encode_2(x1)\n",
    "        x3 = self.encode_3(x2)\n",
    "        x4 = self.encode_4(x3)\n",
    "        return x1, x2, x3, x4\n",
    "\n",
    "\n",
    "\n",
    "class Decode(nn.Module):\n",
    "    def __init__(self, in_channel, out_channel, conv_type = \"conv\"):\n",
    "        super().__init__( )\n",
    "        self.deconv = DCBL( in_channel, out_channel)\n",
    "        self.conv = RCS(in_channel, out_channel, conv_type)\n",
    "        \n",
    "    def forward(self, x, y):\n",
    "        x = self.deconv(x)\n",
    "        # print(x.shape, y.shape)\n",
    "        concat = torch.cat([x, y], dim=1)\n",
    "        x = self.conv(concat)\n",
    "        return x\n",
    "\n"
   ]
  },
  {
   "cell_type": "code",
   "execution_count": 55,
   "metadata": {
    "ExecuteTime": {
     "end_time": "2023-06-23T04:19:59.752866Z",
     "start_time": "2023-06-23T04:19:59.732659Z"
    }
   },
   "outputs": [],
   "source": [
    "class UBlock(nn.Module):\n",
    "    def __init__(self, in_channel = 1, out_channel = 16, middle_channel = [ 8, 16, 32, 64, 128 ]):\n",
    "        super().__init__()\n",
    "        self.encode = EncodeBlock(in_channel, block_number = [2, 2, 2, 2], middle_channel = middle_channel , conv_type = \"conv\")\n",
    "        self.up = nn.Upsample(scale_factor = 2)\n",
    "        self.decode_0 = Decode(middle_channel[1], middle_channel[0], conv_type = \"conv\")\n",
    "        self.decode_1 = Decode(middle_channel[2], middle_channel[1], conv_type = \"conv\")\n",
    "        self.decode_2 = Decode(middle_channel[3], middle_channel[2], conv_type = \"conv\")\n",
    "        self.decode_3 = Decode(middle_channel[4], middle_channel[3], conv_type = \"conv\")\n",
    "        self.final = nn.Conv2d( middle_channel[0], out_channel, 1, 1)\n",
    "        self.sigmoid = nn.Sigmoid()\n",
    "    def forward(self, x):\n",
    "        x0, x1, x2, x3, x4 = self.encode(x)\n",
    "        print(x0.shape, x1.shape, x2.shape, x3.shape, x4.shape)\n",
    "        # x4 = self.up(x4)\n",
    "\n",
    "        x_1 = self.decode_3(x4, x3)\n",
    "        \n",
    "        x_2 = self.decode_2(x_1, x2)\n",
    "        \n",
    "        x_3 = self.decode_1(x_2, x1)\n",
    "        \n",
    "        x_4 = self.decode_0(x_3, x0)\n",
    "        # print(x_4.shape)\n",
    "        outp = self.sigmoid(self.final(x_4))\n",
    "        # print(x_4.shape)\n",
    "        return  outp"
   ]
  },
  {
   "cell_type": "code",
   "execution_count": 56,
   "metadata": {
    "ExecuteTime": {
     "end_time": "2023-06-23T04:20:00.622266Z",
     "start_time": "2023-06-23T04:20:00.595199Z"
    }
   },
   "outputs": [],
   "source": [
    "a = UBlock(1,1)"
   ]
  },
  {
   "cell_type": "code",
   "execution_count": 57,
   "metadata": {
    "ExecuteTime": {
     "end_time": "2023-06-23T04:20:00.937003Z",
     "start_time": "2023-06-23T04:20:00.930022Z"
    }
   },
   "outputs": [],
   "source": [
    "d = torch.zeros((1,1,80,80))"
   ]
  },
  {
   "cell_type": "code",
   "execution_count": 58,
   "metadata": {
    "ExecuteTime": {
     "end_time": "2023-06-23T04:20:01.506490Z",
     "start_time": "2023-06-23T04:20:01.474574Z"
    }
   },
   "outputs": [
    {
     "name": "stdout",
     "output_type": "stream",
     "text": [
      "torch.Size([1, 8, 80, 80]) torch.Size([1, 16, 40, 40]) torch.Size([1, 32, 20, 20]) torch.Size([1, 64, 10, 10]) torch.Size([1, 128, 5, 5])\n",
      "torch.Size([1, 8, 80, 80])\n"
     ]
    },
    {
     "data": {
      "text/plain": [
       "tensor([[[[0.5349, 0.4223, 0.5027,  ..., 0.5012, 0.5160, 0.5606],\n",
       "          [0.4539, 0.7564, 0.6146,  ..., 0.6628, 0.5574, 0.5171],\n",
       "          [0.4196, 0.4581, 0.4133,  ..., 0.5134, 0.6109, 0.5072],\n",
       "          ...,\n",
       "          [0.5070, 0.5513, 0.5393,  ..., 0.6484, 0.4538, 0.5778],\n",
       "          [0.5582, 0.4084, 0.6523,  ..., 0.5177, 0.6396, 0.5299],\n",
       "          [0.4728, 0.5026, 0.5293,  ..., 0.4657, 0.4785, 0.5060]]]],\n",
       "       grad_fn=<SigmoidBackward0>)"
      ]
     },
     "execution_count": 58,
     "metadata": {},
     "output_type": "execute_result"
    }
   ],
   "source": [
    "a(d)"
   ]
  },
  {
   "cell_type": "code",
   "execution_count": null,
   "metadata": {},
   "outputs": [],
   "source": []
  },
  {
   "cell_type": "code",
   "execution_count": 34,
   "metadata": {
    "ExecuteTime": {
     "end_time": "2023-06-23T03:31:22.741981Z",
     "start_time": "2023-06-23T03:31:22.721057Z"
    }
   },
   "outputs": [],
   "source": [
    "class Unet(nn.Module):\n",
    "    def __init__(self, need_return_dict = True):\n",
    "        super(Unet, self).__init__()\n",
    "        self.need_return_dict = need_return_dict\n",
    "        self.layer1_conv = double_conv2d_bn(1, 8)\n",
    "        self.layer2_conv = double_conv2d_bn(8, 16)\n",
    "        self.layer3_conv = double_conv2d_bn(16, 32)\n",
    "        self.layer4_conv = double_conv2d_bn(32, 64)\n",
    "        self.layer5_conv = double_conv2d_bn(64, 128)\n",
    "        self.layer6_conv = double_conv2d_bn(128, 64)\n",
    "        self.layer7_conv = double_conv2d_bn(64, 32)\n",
    "        self.layer8_conv = double_conv2d_bn(32, 16)\n",
    "        self.layer9_conv = double_conv2d_bn(16, 8)\n",
    "        \n",
    "        self.layer10_conv = nn.Conv2d(8, 1, kernel_size = 3,\n",
    "                                      stride = 1, padding = 1, bias=True)\n",
    "\n",
    "        self.deconv1 = deconv2d_bn(128, 64)\n",
    "        self.deconv2 = deconv2d_bn(64, 32)\n",
    "        self.deconv3 = deconv2d_bn(32, 16)\n",
    "        self.deconv4 = deconv2d_bn(16, 8)\n",
    "\n",
    "        self.sigmoid = nn.Sigmoid()\n",
    "        self.erode = MinPool(2,2,1)\n",
    "        self.dilate = nn.MaxPool2d(2, stride = 1)\n",
    "\n",
    "    def build_result(self, x, y):\n",
    "        return {\n",
    "            \"mask\": x,\n",
    "            \"edge\": y,\n",
    "        }\n",
    "\n",
    "    def forward(self, x):\n",
    "        # print(x.shape)\n",
    "        conv1 = self.layer1_conv(x)\n",
    "        pool1 = F.max_pool2d(conv1, 2)\n",
    "\n",
    "        conv2 = self.layer2_conv(pool1)\n",
    "        pool2 = F.max_pool2d(conv2, 2)\n",
    "\n",
    "        conv3 = self.layer3_conv(pool2)\n",
    "        pool3 = F.max_pool2d(conv3, 2)\n",
    "\n",
    "        conv4 = self.layer4_conv(pool3)\n",
    "        pool4 = F.max_pool2d(conv4, 2)\n",
    "\n",
    "        conv5 = self.layer5_conv(pool4)\n",
    "        print(conv1.shape, conv2.shape, conv3.shape,  conv4.shape,   conv5.shape)\n",
    "        convt1 = self.deconv1(conv5)\n",
    "        concat1 = torch.cat([convt1, conv4], dim=1)\n",
    "        conv6 = self.layer6_conv(concat1)\n",
    "\n",
    "        convt2 = self.deconv2(conv6)\n",
    "        concat2 = torch.cat([convt2, conv3], dim=1)\n",
    "        conv7 = self.layer7_conv(concat2)\n",
    "\n",
    "        convt3 = self.deconv3(conv7)\n",
    "        concat3 = torch.cat([convt3, conv2], dim=1)\n",
    "        conv8 = self.layer8_conv(concat3)\n",
    "\n",
    "        convt4 = self.deconv4(conv8)\n",
    "        concat4 = torch.cat([convt4, conv1], dim=1)\n",
    "        conv9 = self.layer9_conv(concat4)\n",
    "        outp = self.layer10_conv(conv9)\n",
    "        outp = self.sigmoid(outp)\n",
    "        edge = nn.functional.pad(outp, (1, 0, 1, 0))\n",
    "        edge = self.dilate(edge) - self.erode(edge)\n",
    "        return  self.build_result(outp, edge) if self.need_return_dict else (outp, edge) "
   ]
  },
  {
   "cell_type": "code",
   "execution_count": 35,
   "metadata": {
    "ExecuteTime": {
     "end_time": "2023-06-23T03:31:31.893347Z",
     "start_time": "2023-06-23T03:31:31.872342Z"
    }
   },
   "outputs": [],
   "source": [
    "m = Unet(False)"
   ]
  },
  {
   "cell_type": "code",
   "execution_count": 36,
   "metadata": {
    "ExecuteTime": {
     "end_time": "2023-06-23T03:31:43.754654Z",
     "start_time": "2023-06-23T03:31:43.649428Z"
    }
   },
   "outputs": [
    {
     "name": "stdout",
     "output_type": "stream",
     "text": [
      "torch.Size([1, 8, 80, 80]) torch.Size([1, 16, 40, 40]) torch.Size([1, 32, 20, 20]) torch.Size([1, 64, 10, 10]) torch.Size([1, 128, 5, 5])\n"
     ]
    },
    {
     "data": {
      "text/plain": [
       "(tensor([[[[0.4911, 0.4911, 0.4911,  ..., 0.4911, 0.4911, 0.4911],\n",
       "           [0.4911, 0.4911, 0.4911,  ..., 0.4911, 0.4911, 0.4911],\n",
       "           [0.4911, 0.4911, 0.4911,  ..., 0.4911, 0.4911, 0.4911],\n",
       "           ...,\n",
       "           [0.4911, 0.4911, 0.4911,  ..., 0.4911, 0.4911, 0.4911],\n",
       "           [0.4911, 0.4911, 0.4911,  ..., 0.4911, 0.4911, 0.4911],\n",
       "           [0.4911, 0.4911, 0.4911,  ..., 0.4911, 0.4911, 0.4911]]]],\n",
       "        grad_fn=<SigmoidBackward0>),\n",
       " tensor([[[[0.4911, 0.4911, 0.4911,  ..., 0.4911, 0.4911, 0.4911],\n",
       "           [0.4911, 0.0000, 0.0000,  ..., 0.0000, 0.0000, 0.0000],\n",
       "           [0.4911, 0.0000, 0.0000,  ..., 0.0000, 0.0000, 0.0000],\n",
       "           ...,\n",
       "           [0.4911, 0.0000, 0.0000,  ..., 0.0000, 0.0000, 0.0000],\n",
       "           [0.4911, 0.0000, 0.0000,  ..., 0.0000, 0.0000, 0.0000],\n",
       "           [0.4911, 0.0000, 0.0000,  ..., 0.0000, 0.0000, 0.0000]]]],\n",
       "        grad_fn=<SubBackward0>))"
      ]
     },
     "execution_count": 36,
     "metadata": {},
     "output_type": "execute_result"
    }
   ],
   "source": [
    "m(torch.zeros(1,1,80,80))"
   ]
  },
  {
   "cell_type": "code",
   "execution_count": null,
   "metadata": {},
   "outputs": [],
   "source": []
  }
 ],
 "metadata": {
  "hide_input": false,
  "kernelspec": {
   "display_name": "DSIM",
   "language": "python",
   "name": "dsim"
  },
  "language_info": {
   "codemirror_mode": {
    "name": "ipython",
    "version": 3
   },
   "file_extension": ".py",
   "mimetype": "text/x-python",
   "name": "python",
   "nbconvert_exporter": "python",
   "pygments_lexer": "ipython3",
   "version": "3.10.4"
  },
  "latex_envs": {
   "LaTeX_envs_menu_present": true,
   "autoclose": false,
   "autocomplete": true,
   "bibliofile": "biblio.bib",
   "cite_by": "apalike",
   "current_citInitial": 1,
   "eqLabelWithNumbers": true,
   "eqNumInitial": 1,
   "hotkeys": {
    "equation": "Ctrl-E",
    "itemize": "Ctrl-I"
   },
   "labels_anchors": false,
   "latex_user_defs": false,
   "report_style_numbering": false,
   "user_envs_cfg": false
  },
  "toc": {
   "base_numbering": 1,
   "nav_menu": {},
   "number_sections": true,
   "sideBar": true,
   "skip_h1_title": false,
   "title_cell": "Table of Contents",
   "title_sidebar": "Contents",
   "toc_cell": false,
   "toc_position": {},
   "toc_section_display": true,
   "toc_window_display": false
  },
  "varInspector": {
   "cols": {
    "lenName": 16,
    "lenType": 16,
    "lenVar": 40
   },
   "kernels_config": {
    "python": {
     "delete_cmd_postfix": "",
     "delete_cmd_prefix": "del ",
     "library": "var_list.py",
     "varRefreshCmd": "print(var_dic_list())"
    },
    "r": {
     "delete_cmd_postfix": ") ",
     "delete_cmd_prefix": "rm(",
     "library": "var_list.r",
     "varRefreshCmd": "cat(var_dic_list()) "
    }
   },
   "types_to_exclude": [
    "module",
    "function",
    "builtin_function_or_method",
    "instance",
    "_Feature"
   ],
   "window_display": false
  }
 },
 "nbformat": 4,
 "nbformat_minor": 2
}
