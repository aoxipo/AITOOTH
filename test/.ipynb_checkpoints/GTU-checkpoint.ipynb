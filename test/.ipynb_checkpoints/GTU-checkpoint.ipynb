{
 "cells": [
  {
   "cell_type": "code",
   "execution_count": 1,
   "metadata": {
    "ExecuteTime": {
     "end_time": "2023-08-11T05:18:55.428740Z",
     "start_time": "2023-08-11T05:18:53.275666Z"
    }
   },
   "outputs": [
    {
     "name": "stderr",
     "output_type": "stream",
     "text": [
      "E:\\anaconda\\envs\\DSIM\\lib\\site-packages\\tqdm\\auto.py:21: TqdmWarning: IProgress not found. Please update jupyter and ipywidgets. See https://ipywidgets.readthedocs.io/en/stable/user_install.html\n",
      "  from .autonotebook import tqdm as notebook_tqdm\n"
     ]
    },
    {
     "name": "stdout",
     "output_type": "stream",
     "text": [
      "[0]\n",
      "detect set : [0]\n",
      "use gpu: True\n"
     ]
    }
   ],
   "source": [
    "import sys \n",
    "sys.path.append(\"..\") \n",
    "from train import *\n",
    "from utils.score import cal_all_score\n",
    "from dataloader import Dataload\n",
    "from torch.utils.data import DataLoader\n",
    "import cv2\n",
    "import matplotlib.pyplot as plt\n",
    "matplotlib.use('TkAgg')\n",
    "%matplotlib inline\n",
    "import datetime"
   ]
  },
  {
   "cell_type": "code",
   "execution_count": 2,
   "metadata": {
    "ExecuteTime": {
     "end_time": "2023-08-11T05:18:55.443455Z",
     "start_time": "2023-08-11T05:18:55.429489Z"
    }
   },
   "outputs": [],
   "source": [
    "from model.GTU.models.GT_UNet import *"
   ]
  },
  {
   "cell_type": "code",
   "execution_count": 25,
   "metadata": {
    "ExecuteTime": {
     "end_time": "2023-08-11T05:33:28.845076Z",
     "start_time": "2023-08-11T05:33:28.838093Z"
    }
   },
   "outputs": [],
   "source": [
    "class Decode(nn.Module):\n",
    "    def __init__(self, ch_in, ch_out):\n",
    "        dim_in = ch_in\n",
    "        dim_out = ch_out\n",
    "        super(Decode, self).__init__()\n",
    "        self.conv = nn.Sequential(\n",
    "            nn.Conv2d( dim_in, dim_out, kernel_size = 3, stride = 1, padding = 1),\n",
    "            nn.BatchNorm2d(dim_out),\n",
    "            nn.ReLU(),\n",
    "            nn.Conv2d(dim_out, dim_out, kernel_size = 1, stride = 1, padding = 0),\n",
    "            nn.BatchNorm2d(dim_out),\n",
    "            nn.ReLU(),\n",
    "            nn.Conv2d(dim_out, dim_out, kernel_size = 1, stride = 1, padding = 0),\n",
    "            nn.BatchNorm2d(dim_out),\n",
    "            nn.ReLU(),\n",
    "        )\n",
    "        self.up = nn.Upsample( scale_factor = 2)\n",
    "        \n",
    "    def forward(self, x, y):\n",
    "        y = self.up(y)\n",
    "        x = torch.cat([x,y], 1)\n",
    "        x = self.conv(x)\n",
    "        return x\n"
   ]
  },
  {
   "cell_type": "code",
   "execution_count": 26,
   "metadata": {
    "ExecuteTime": {
     "end_time": "2023-08-11T05:33:30.027971Z",
     "start_time": "2023-08-11T05:33:30.010941Z"
    },
    "code_folding": [
     0
    ]
   },
   "outputs": [],
   "source": [
    "class BotBlock(nn.Module):\n",
    "\n",
    "    def __init__(self, in_dimension, curr_h, curr_w, proj_factor = 4, activation = 'relu', pos_enc_type = 'relative',\n",
    "                 stride = 1, target_dimension = None):\n",
    "        self.w = curr_w\n",
    "        super(BotBlock, self).__init__()\n",
    "        if stride !=  1 or in_dimension !=  target_dimension:\n",
    "            self.shortcut  =  nn.Sequential(\n",
    "                nn.Conv2d(in_dimension, target_dimension, kernel_size = 3, padding = 1, stride = stride),\n",
    "                BNReLU(target_dimension, activation = activation, nonlinearity = True),\n",
    "            )\n",
    "        else:\n",
    "            self.shortcut  =  None\n",
    "\n",
    "        bottleneck_dimension  =  target_dimension // proj_factor\n",
    "        self.conv1  =  nn.Sequential(\n",
    "            nn.Conv2d(in_dimension, bottleneck_dimension, kernel_size = 3, padding = 1, stride = 1 ),\n",
    "            BNReLU(bottleneck_dimension, activation = activation, nonlinearity = True)\n",
    "        )\n",
    "\n",
    "        self.mhsa  =  MHSA(\n",
    "            in_channels = bottleneck_dimension, \n",
    "            heads = 4, curr_h = curr_h, curr_w = curr_w,\n",
    "            pos_enc_type = pos_enc_type\n",
    "        )\n",
    "        conv2_list  =  []\n",
    "        if stride !=  1:\n",
    "            assert stride  ==  2, stride\n",
    "            conv2_list.append(nn.AvgPool2d(kernel_size = (2, 2), stride = (2, 2)))  # TODO: 'same' in tf.pooling\n",
    "        conv2_list.append(BNReLU(bottleneck_dimension, activation = activation, nonlinearity = True))\n",
    "        \n",
    "        self.conv2  =  nn.Sequential(*conv2_list)\n",
    "\n",
    "        self.conv3  =  nn.Sequential(\n",
    "            nn.Conv2d(bottleneck_dimension, target_dimension, kernel_size = 3,padding = 1, stride = 1),\n",
    "            BNReLU(target_dimension, nonlinearity = False, init_zero = True),\n",
    "        )\n",
    "        self.last_act  =  get_act(activation)\n",
    "\n",
    "\n",
    "    def forward(self, x):\n",
    "        # print(\"x origin:\", x.shape)\n",
    "        if self.shortcut is not None:\n",
    "            shortcut  =  self.shortcut(x)\n",
    "        else:\n",
    "            shortcut  =  x\n",
    "        Q_h  =  Q_w  =  self.w\n",
    "        N, C, H, W  =  x.shape\n",
    "        P_h, P_w  =  H // Q_h, W // Q_w\n",
    "        print(\"x:\", x.shape)\n",
    "        x  =  x.reshape(N * P_h * P_w, C, Q_h, Q_w)\n",
    "        print(\"x:\", x.shape, \"P_h:\",P_h, \"P_w:\", P_w)\n",
    "        out  =  self.conv1(x)\n",
    "        print(\"out mhsa in:\",out.shape)\n",
    "        out  =  self.mhsa(out)\n",
    "        print(\"out mhsa out:\",out.shape)\n",
    "        out  =  out.permute(0, 3, 1, 2)  # back to pytorch dim order\n",
    "\n",
    "        out  =  self.conv2(out)\n",
    "        out  =  self.conv3(out)\n",
    "        \n",
    "        N1, C1, H1, W1  =  out.shape\n",
    "        out  =  out.reshape(N, C1, int(H), int(W))\n",
    "\n",
    "        out +=  shortcut\n",
    "        out  =  self.last_act(out)\n",
    "        print(\"out:\", out.shape)\n",
    "        return out"
   ]
  },
  {
   "cell_type": "code",
   "execution_count": 27,
   "metadata": {
    "ExecuteTime": {
     "end_time": "2023-08-11T05:33:30.162834Z",
     "start_time": "2023-08-11T05:33:30.145878Z"
    },
    "code_folding": [
     0
    ]
   },
   "outputs": [],
   "source": [
    "class MHSA(nn.Module):\n",
    "\n",
    "\n",
    "    def __init__(self, in_channels, heads, curr_h, curr_w, pos_enc_type = 'relative', use_pos = True):\n",
    "        super(MHSA, self).__init__()\n",
    "        self.q_proj  =  GroupPointWise(in_channels, heads, proj_factor = 1)\n",
    "        self.k_proj  =  GroupPointWise(in_channels, heads, proj_factor = 1)\n",
    "        self.v_proj  =  GroupPointWise(in_channels, heads, proj_factor = 1)\n",
    "\n",
    "        assert pos_enc_type in ['relative', 'absolute']\n",
    "        if pos_enc_type  ==  'relative':\n",
    "            self.self_attention  =  RelPosSelfAttention(curr_h, curr_w, in_channels // heads, fold_heads = True)\n",
    "        else:\n",
    "            raise NotImplementedError\n",
    "\n",
    "    def forward(self, input):\n",
    "        q  =  self.q_proj(input)\n",
    "        k  =  self.k_proj(input)\n",
    "        v  =  self.v_proj(input)\n",
    "        # print(\"qkv:\", q.shape, k.shape, v.shape, )\n",
    "        o  =  self.self_attention(q = q, k = k, v = v)\n",
    "        return o"
   ]
  },
  {
   "cell_type": "code",
   "execution_count": 28,
   "metadata": {
    "ExecuteTime": {
     "end_time": "2023-08-11T05:33:30.387252Z",
     "start_time": "2023-08-11T05:33:30.358311Z"
    }
   },
   "outputs": [],
   "source": [
    "class GT_U_DCNet(nn.Module):\n",
    "    def __init__(self, img_ch  =  1, output_ch  =  1, \n",
    "                middle_channel = [64, 128, 256, 512, 1024], \n",
    "                encode_len = 5, \n",
    "                need_return_dict = True,\n",
    "                need_supervision = False,\n",
    "                decode_type = \"conv\",\n",
    "\n",
    "        ):\n",
    "        super(GT_U_DCNet,self).__init__()\n",
    "        \n",
    "        self.index_len = encode_len - 1\n",
    "        self.need_return_dict = need_return_dict\n",
    "        self.downsample = nn.AvgPool2d(2)\n",
    "        self.Maxpool  =  nn.MaxPool2d(kernel_size = 2,stride = 2)\n",
    "        self.erode = MinPool(2,2,1)\n",
    "        self.dilate = nn.MaxPool2d(2, stride = 1)\n",
    "        self.encode_list = nn.ModuleList()\n",
    "        self.up_list = nn.ModuleList()\n",
    "        self.decode_list = nn.ModuleList()\n",
    "        if self.need_return_dict:\n",
    "            self.supervision_list = nn.ModuleList()\n",
    "        self.select  = nn.Sequential(\n",
    "                nn.Conv2d(2, 32, 3, 1, 1),\n",
    "                nn.BatchNorm2d(32),\n",
    "                nn.ReLU(),\n",
    "                nn.Conv2d( 32, 16, 3, 1, 1),\n",
    "                nn.BatchNorm2d(16),\n",
    "                nn.ReLU(),\n",
    "                nn.Conv2d( 16, output_ch, 1, 1),\n",
    "                nn.BatchNorm2d(output_ch),\n",
    "                nn.ReLU(),\n",
    "            )\n",
    "        middle_channel = middle_channel[ len(middle_channel) - encode_len : ]\n",
    "        middle_channel =  [ img_ch, *middle_channel]\n",
    "        self.need_supervision = need_supervision\n",
    "        print( middle_channel )\n",
    "        self.pre_encode = _make_bot_layer(\n",
    "            ch_in = middle_channel[0],         \n",
    "            ch_out = middle_channel[ 1 ], \n",
    "            w = 4\n",
    "        )\n",
    "        for i in range(1, encode_len):\n",
    "            self.encode_list.append( \n",
    "                _make_bot_layer(\n",
    "                    ch_in = 2 * middle_channel[i],             \n",
    "                    ch_out = middle_channel[ i+1 ], \n",
    "                    w = 4\n",
    "                ) \n",
    "            )\n",
    "        \n",
    "        for i in range(1, encode_len):\n",
    "            now_dim = encode_len - i + 1\n",
    "            next_dim = encode_len - i\n",
    "            print( middle_channel[ now_dim ],   middle_channel[ next_dim ])\n",
    "            self.up_list.append( up_conv(ch_in = middle_channel[now_dim ] , ch_out = 2 * middle_channel[next_dim]) )\n",
    "            if decode_type == \"conv\":\n",
    "                self.decode_list.append( \n",
    "                    Decode(ch_in = 2 * middle_channel[ now_dim ], ch_out = middle_channel[next_dim]) \n",
    "                    # DSK( middle_channel[ now_dim ], middle_channel[next_dim])\n",
    "                )\n",
    "            else:\n",
    "                self.decode_list.append( \n",
    "                     _make_bot_layer(\n",
    "                        ch_in = 2 * middle_channel[ now_dim ], \n",
    "                        ch_out = middle_channel[next_dim],\n",
    "                        w = 2 ** i\n",
    "                    ) \n",
    "                )\n",
    "            \n",
    "            if self.need_supervision:\n",
    "                self.supervision_list.append( nn.Conv2d(middle_channel[next_dim], output_ch, 1, 1) )\n",
    "            #  _make_bot_layer(\n",
    "            #     ch_in = 2 * middle_channel[ now_dim ], \n",
    "            #     ch_out = middle_channel[next_dim],\n",
    "            #     w = 2 ** i) \n",
    "            #  )\n",
    "            \n",
    "        self.CBR = nn.ModuleList()\n",
    "        for i in range(encode_len):\n",
    "            self.CBR.append(\n",
    "                nn.Sequential(\n",
    "                    nn.Conv2d(middle_channel[0], middle_channel[i+1], 3, 1, 1),\n",
    "                    nn.BatchNorm2d(middle_channel[i+1]),\n",
    "                    nn.ReLU(),\n",
    "                )\n",
    "            )\n",
    "        self.last_up = nn.Upsample(scale_factor = 2)\n",
    "        self.last_decode = nn.Conv2d(middle_channel[next_dim], output_ch, kernel_size = 1, stride = 1, padding = 0)\n",
    "        self.supervision_list.append( nn.Conv2d(middle_channel[next_dim], output_ch, 1, 1) )\n",
    "\n",
    "\n",
    "    def build_results(self, x,y,z, super_vision  = None):\n",
    "        if super_vision is None:\n",
    "            return {\n",
    "            \"mask\": x,\n",
    "            \"cmask\": y,\n",
    "            \"edge\":z,\n",
    "        }\n",
    "        else:\n",
    "            return {\n",
    "                \"mask\": x,\n",
    "                \"cmask\": y,\n",
    "                \"edge\":z,\n",
    "                \"super\":super_vision\n",
    "            }\n",
    "            \n",
    "    \n",
    "    def build_feature_pyramid(self, x): # 80\n",
    "        x_list = []\n",
    "        for i in range(self.index_len + 1):\n",
    "            x = self.downsample(x) \n",
    "            x_list.append( x )\n",
    "        return   x_list\n",
    "    \n",
    "    def edge_hot_map(self, x):\n",
    "        x = x.clone().detach()\n",
    "        edge = nn.functional.pad(x, (1, 0, 1, 0))\n",
    "        edge = self.dilate(edge) - self.erode(edge)\n",
    "        return edge\n",
    "    \n",
    "\n",
    "    def forward(self,x):\n",
    "        x_list = self.build_feature_pyramid( x )\n",
    "        pre_x_list = []\n",
    "        out_list = []\n",
    "        supervision = []\n",
    "        for index in range(len(x_list)):\n",
    "            pre_x = self.CBR[index](x_list[index])\n",
    "            pre_x_list.append(pre_x)\n",
    "            # print(x_list[index].shape, pre_x.shape)\n",
    "        # pre_x_list = [x, *pre_x_list]\n",
    "        \n",
    "        out = self.pre_encode( x )\n",
    "        out_pool  =  self.Maxpool(out)\n",
    "        out_list.append(out)\n",
    "        # print( \"x{}:{} {}\".format( 0, out.shape, out_pool.shape ))\n",
    "        \n",
    "        # encoding\n",
    "        for index in range(self.index_len):\n",
    "            x_temp = torch.cat( [pre_x_list[index], out_pool], 1) \n",
    "            # print( \"x{} cat:{}\".format( index, x.shape))\n",
    "            # print(x_temp.shape)\n",
    "            out = self.encode_list[index]( x_temp )\n",
    "            out_pool = self.Maxpool(out)\n",
    "            out_list.append(out)\n",
    "            print( \"encode {}:{} {}\".format( index + 1, out.shape, out_pool.shape ))\n",
    "            \n",
    "        x_temp = out_pool \n",
    "        # decoding\n",
    "        for index in range(self.index_len):\n",
    "            # up = self.up_list[index](x_temp)\n",
    "            # x_temp = torch.cat( [up, out_list[ self.index_len - index ] ], dim = 1)\n",
    "            up = out_list[ self.index_len - index ]\n",
    "            x_temp = self.decode_list[index](up, x_temp)\n",
    "            # x_temp = self.decode_list[index](x_temp)\n",
    "            supervision.append(x_temp)\n",
    "            # self.need_supervision[index](x_temp)\n",
    "            print( \"decode{}:{} {}\".format( index, up.shape, x_temp.shape))\n",
    "        \n",
    "        # print(\"final decode:\", x_temp.shape)\n",
    "        outp = self.last_up(x_temp)\n",
    "        out = self.last_decode(outp)\n",
    "        \n",
    "        edge = self.edge_hot_map(out)\n",
    "        outp= self.select(torch.cat([out, edge], 1))\n",
    "        # print(\"outp:{}\".format( outp.shape ))\n",
    "        if self.need_supervision:\n",
    "            for i in range( self.index_len ):\n",
    "                supervision[i] = self.supervision_list[i](supervision[i])\n",
    "            return self.build_results(outp, outp, edge, supervision) if self.need_return_dict else( out, edge, supervision) \n",
    "        return self.build_results(out, outp, edge) if self.need_return_dict else( out, edge ) "
   ]
  },
  {
   "cell_type": "code",
   "execution_count": null,
   "metadata": {},
   "outputs": [],
   "source": []
  },
  {
   "cell_type": "code",
   "execution_count": 29,
   "metadata": {
    "ExecuteTime": {
     "end_time": "2023-08-11T05:33:31.136264Z",
     "start_time": "2023-08-11T05:33:31.121299Z"
    }
   },
   "outputs": [],
   "source": [
    "def _make_bot_layer(ch_in, ch_out, w = 4):\n",
    "\n",
    "    W  =  H  =  w\n",
    "    dim_in  =  ch_in\n",
    "    dim_out  =  ch_out\n",
    "\n",
    "    stage5  =  []\n",
    "\n",
    "    stage5.append(\n",
    "        BotBlock(\n",
    "            in_dimension = dim_in, curr_h = H, \n",
    "            curr_w = W, stride = 1 , \n",
    "            target_dimension = dim_out,\n",
    "        )\n",
    "    )\n",
    "    return nn.Sequential(*stage5)"
   ]
  },
  {
   "cell_type": "code",
   "execution_count": 30,
   "metadata": {
    "ExecuteTime": {
     "end_time": "2023-08-11T05:33:31.795174Z",
     "start_time": "2023-08-11T05:33:31.418622Z"
    }
   },
   "outputs": [
    {
     "name": "stdout",
     "output_type": "stream",
     "text": [
      "[1, 64, 128, 256, 512, 768, 1024]\n",
      "1024 768\n",
      "768 512\n",
      "512 256\n",
      "256 128\n",
      "128 64\n"
     ]
    }
   ],
   "source": [
    "model = GT_U_DCNet(1,1, middle_channel = [64,128, 256, 512, 768, 1024], encode_len = 6)# .to(\"cpu\")"
   ]
  },
  {
   "cell_type": "code",
   "execution_count": 31,
   "metadata": {
    "ExecuteTime": {
     "end_time": "2023-08-11T05:33:32.304845Z",
     "start_time": "2023-08-11T05:33:32.185574Z"
    }
   },
   "outputs": [],
   "source": [
    "model = model.to(\"cuda:0\")"
   ]
  },
  {
   "cell_type": "code",
   "execution_count": 32,
   "metadata": {
    "ExecuteTime": {
     "end_time": "2023-08-11T05:33:33.097816Z",
     "start_time": "2023-08-11T05:33:33.080857Z"
    }
   },
   "outputs": [],
   "source": [
    "batch_image = torch.zeros((1,1, 640, 640)).to(\"cuda:0\")"
   ]
  },
  {
   "cell_type": "code",
   "execution_count": 33,
   "metadata": {
    "ExecuteTime": {
     "end_time": "2023-08-11T05:33:35.991507Z",
     "start_time": "2023-08-11T05:33:34.837224Z"
    },
    "scrolled": false
   },
   "outputs": [
    {
     "name": "stdout",
     "output_type": "stream",
     "text": [
      "x: torch.Size([1, 1, 640, 640])\n",
      "x: torch.Size([25600, 1, 4, 4]) P_h: 160 P_w: 160\n",
      "out mhsa in: torch.Size([25600, 16, 4, 4])\n",
      "out mhsa out: torch.Size([25600, 4, 4, 16])\n",
      "out: torch.Size([1, 64, 640, 640])\n",
      "x: torch.Size([1, 128, 320, 320])\n",
      "x: torch.Size([6400, 128, 4, 4]) P_h: 80 P_w: 80\n",
      "out mhsa in: torch.Size([6400, 32, 4, 4])\n",
      "out mhsa out: torch.Size([6400, 4, 4, 32])\n",
      "out: torch.Size([1, 128, 320, 320])\n",
      "encode 1:torch.Size([1, 128, 320, 320]) torch.Size([1, 128, 160, 160])\n",
      "x: torch.Size([1, 256, 160, 160])\n",
      "x: torch.Size([1600, 256, 4, 4]) P_h: 40 P_w: 40\n",
      "out mhsa in: torch.Size([1600, 64, 4, 4])\n",
      "out mhsa out: torch.Size([1600, 4, 4, 64])\n",
      "out: torch.Size([1, 256, 160, 160])\n",
      "encode 2:torch.Size([1, 256, 160, 160]) torch.Size([1, 256, 80, 80])\n",
      "x: torch.Size([1, 512, 80, 80])\n",
      "x: torch.Size([400, 512, 4, 4]) P_h: 20 P_w: 20\n",
      "out mhsa in: torch.Size([400, 128, 4, 4])\n",
      "out mhsa out: torch.Size([400, 4, 4, 128])\n",
      "out: torch.Size([1, 512, 80, 80])\n",
      "encode 3:torch.Size([1, 512, 80, 80]) torch.Size([1, 512, 40, 40])\n",
      "x: torch.Size([1, 1024, 40, 40])\n",
      "x: torch.Size([100, 1024, 4, 4]) P_h: 10 P_w: 10\n",
      "out mhsa in: torch.Size([100, 192, 4, 4])\n",
      "out mhsa out: torch.Size([100, 4, 4, 192])\n",
      "out: torch.Size([1, 768, 40, 40])\n",
      "encode 4:torch.Size([1, 768, 40, 40]) torch.Size([1, 768, 20, 20])\n",
      "x: torch.Size([1, 1536, 20, 20])\n",
      "x: torch.Size([25, 1536, 4, 4]) P_h: 5 P_w: 5\n",
      "out mhsa in: torch.Size([25, 256, 4, 4])\n",
      "out mhsa out: torch.Size([25, 4, 4, 256])\n",
      "out: torch.Size([1, 1024, 20, 20])\n",
      "encode 5:torch.Size([1, 1024, 20, 20]) torch.Size([1, 1024, 10, 10])\n",
      "decode0:torch.Size([1, 1024, 20, 20]) torch.Size([1, 768, 20, 20])\n",
      "decode1:torch.Size([1, 768, 40, 40]) torch.Size([1, 512, 40, 40])\n",
      "decode2:torch.Size([1, 512, 80, 80]) torch.Size([1, 256, 80, 80])\n",
      "decode3:torch.Size([1, 256, 160, 160]) torch.Size([1, 128, 160, 160])\n",
      "decode4:torch.Size([1, 128, 320, 320]) torch.Size([1, 64, 320, 320])\n"
     ]
    },
    {
     "ename": "RuntimeError",
     "evalue": "Given groups=1, weight of size [32, 2, 3, 3], expected input[1, 65, 640, 640] to have 2 channels, but got 65 channels instead",
     "output_type": "error",
     "traceback": [
      "\u001b[1;31m---------------------------------------------------------------------------\u001b[0m",
      "\u001b[1;31mRuntimeError\u001b[0m                              Traceback (most recent call last)",
      "Input \u001b[1;32mIn [33]\u001b[0m, in \u001b[0;36m<cell line: 1>\u001b[1;34m()\u001b[0m\n\u001b[0;32m      1\u001b[0m \u001b[38;5;28;01mwith\u001b[39;00m torch\u001b[38;5;241m.\u001b[39mno_grad():\n\u001b[1;32m----> 2\u001b[0m     ans \u001b[38;5;241m=\u001b[39m \u001b[43mmodel\u001b[49m\u001b[43m(\u001b[49m\u001b[43mbatch_image\u001b[49m\u001b[43m)\u001b[49m\n",
      "File \u001b[1;32mE:\\anaconda\\envs\\DSIM\\lib\\site-packages\\torch\\nn\\modules\\module.py:1110\u001b[0m, in \u001b[0;36mModule._call_impl\u001b[1;34m(self, *input, **kwargs)\u001b[0m\n\u001b[0;32m   1106\u001b[0m \u001b[38;5;66;03m# If we don't have any hooks, we want to skip the rest of the logic in\u001b[39;00m\n\u001b[0;32m   1107\u001b[0m \u001b[38;5;66;03m# this function, and just call forward.\u001b[39;00m\n\u001b[0;32m   1108\u001b[0m \u001b[38;5;28;01mif\u001b[39;00m \u001b[38;5;129;01mnot\u001b[39;00m (\u001b[38;5;28mself\u001b[39m\u001b[38;5;241m.\u001b[39m_backward_hooks \u001b[38;5;129;01mor\u001b[39;00m \u001b[38;5;28mself\u001b[39m\u001b[38;5;241m.\u001b[39m_forward_hooks \u001b[38;5;129;01mor\u001b[39;00m \u001b[38;5;28mself\u001b[39m\u001b[38;5;241m.\u001b[39m_forward_pre_hooks \u001b[38;5;129;01mor\u001b[39;00m _global_backward_hooks\n\u001b[0;32m   1109\u001b[0m         \u001b[38;5;129;01mor\u001b[39;00m _global_forward_hooks \u001b[38;5;129;01mor\u001b[39;00m _global_forward_pre_hooks):\n\u001b[1;32m-> 1110\u001b[0m     \u001b[38;5;28;01mreturn\u001b[39;00m forward_call(\u001b[38;5;241m*\u001b[39m\u001b[38;5;28minput\u001b[39m, \u001b[38;5;241m*\u001b[39m\u001b[38;5;241m*\u001b[39mkwargs)\n\u001b[0;32m   1111\u001b[0m \u001b[38;5;66;03m# Do not call functions when jit is used\u001b[39;00m\n\u001b[0;32m   1112\u001b[0m full_backward_hooks, non_full_backward_hooks \u001b[38;5;241m=\u001b[39m [], []\n",
      "Input \u001b[1;32mIn [28]\u001b[0m, in \u001b[0;36mGT_U_DCNet.forward\u001b[1;34m(self, x)\u001b[0m\n\u001b[0;32m    163\u001b[0m out \u001b[38;5;241m=\u001b[39m \u001b[38;5;28mself\u001b[39m\u001b[38;5;241m.\u001b[39mlast_decode(outp)\n\u001b[0;32m    165\u001b[0m edge \u001b[38;5;241m=\u001b[39m \u001b[38;5;28mself\u001b[39m\u001b[38;5;241m.\u001b[39medge_hot_map(out)\n\u001b[1;32m--> 166\u001b[0m outp\u001b[38;5;241m=\u001b[39m \u001b[38;5;28;43mself\u001b[39;49m\u001b[38;5;241;43m.\u001b[39;49m\u001b[43mselect\u001b[49m\u001b[43m(\u001b[49m\u001b[43mtorch\u001b[49m\u001b[38;5;241;43m.\u001b[39;49m\u001b[43mcat\u001b[49m\u001b[43m(\u001b[49m\u001b[43m[\u001b[49m\u001b[43moutp\u001b[49m\u001b[43m,\u001b[49m\u001b[43m \u001b[49m\u001b[43medge\u001b[49m\u001b[43m]\u001b[49m\u001b[43m,\u001b[49m\u001b[43m \u001b[49m\u001b[38;5;241;43m1\u001b[39;49m\u001b[43m)\u001b[49m\u001b[43m)\u001b[49m\n\u001b[0;32m    167\u001b[0m \u001b[38;5;66;03m# print(\"outp:{}\".format( outp.shape ))\u001b[39;00m\n\u001b[0;32m    168\u001b[0m \u001b[38;5;28;01mif\u001b[39;00m \u001b[38;5;28mself\u001b[39m\u001b[38;5;241m.\u001b[39mneed_supervision:\n",
      "File \u001b[1;32mE:\\anaconda\\envs\\DSIM\\lib\\site-packages\\torch\\nn\\modules\\module.py:1110\u001b[0m, in \u001b[0;36mModule._call_impl\u001b[1;34m(self, *input, **kwargs)\u001b[0m\n\u001b[0;32m   1106\u001b[0m \u001b[38;5;66;03m# If we don't have any hooks, we want to skip the rest of the logic in\u001b[39;00m\n\u001b[0;32m   1107\u001b[0m \u001b[38;5;66;03m# this function, and just call forward.\u001b[39;00m\n\u001b[0;32m   1108\u001b[0m \u001b[38;5;28;01mif\u001b[39;00m \u001b[38;5;129;01mnot\u001b[39;00m (\u001b[38;5;28mself\u001b[39m\u001b[38;5;241m.\u001b[39m_backward_hooks \u001b[38;5;129;01mor\u001b[39;00m \u001b[38;5;28mself\u001b[39m\u001b[38;5;241m.\u001b[39m_forward_hooks \u001b[38;5;129;01mor\u001b[39;00m \u001b[38;5;28mself\u001b[39m\u001b[38;5;241m.\u001b[39m_forward_pre_hooks \u001b[38;5;129;01mor\u001b[39;00m _global_backward_hooks\n\u001b[0;32m   1109\u001b[0m         \u001b[38;5;129;01mor\u001b[39;00m _global_forward_hooks \u001b[38;5;129;01mor\u001b[39;00m _global_forward_pre_hooks):\n\u001b[1;32m-> 1110\u001b[0m     \u001b[38;5;28;01mreturn\u001b[39;00m forward_call(\u001b[38;5;241m*\u001b[39m\u001b[38;5;28minput\u001b[39m, \u001b[38;5;241m*\u001b[39m\u001b[38;5;241m*\u001b[39mkwargs)\n\u001b[0;32m   1111\u001b[0m \u001b[38;5;66;03m# Do not call functions when jit is used\u001b[39;00m\n\u001b[0;32m   1112\u001b[0m full_backward_hooks, non_full_backward_hooks \u001b[38;5;241m=\u001b[39m [], []\n",
      "File \u001b[1;32mE:\\anaconda\\envs\\DSIM\\lib\\site-packages\\torch\\nn\\modules\\container.py:141\u001b[0m, in \u001b[0;36mSequential.forward\u001b[1;34m(self, input)\u001b[0m\n\u001b[0;32m    139\u001b[0m \u001b[38;5;28;01mdef\u001b[39;00m \u001b[38;5;21mforward\u001b[39m(\u001b[38;5;28mself\u001b[39m, \u001b[38;5;28minput\u001b[39m):\n\u001b[0;32m    140\u001b[0m     \u001b[38;5;28;01mfor\u001b[39;00m module \u001b[38;5;129;01min\u001b[39;00m \u001b[38;5;28mself\u001b[39m:\n\u001b[1;32m--> 141\u001b[0m         \u001b[38;5;28minput\u001b[39m \u001b[38;5;241m=\u001b[39m \u001b[43mmodule\u001b[49m\u001b[43m(\u001b[49m\u001b[38;5;28;43minput\u001b[39;49m\u001b[43m)\u001b[49m\n\u001b[0;32m    142\u001b[0m     \u001b[38;5;28;01mreturn\u001b[39;00m \u001b[38;5;28minput\u001b[39m\n",
      "File \u001b[1;32mE:\\anaconda\\envs\\DSIM\\lib\\site-packages\\torch\\nn\\modules\\module.py:1110\u001b[0m, in \u001b[0;36mModule._call_impl\u001b[1;34m(self, *input, **kwargs)\u001b[0m\n\u001b[0;32m   1106\u001b[0m \u001b[38;5;66;03m# If we don't have any hooks, we want to skip the rest of the logic in\u001b[39;00m\n\u001b[0;32m   1107\u001b[0m \u001b[38;5;66;03m# this function, and just call forward.\u001b[39;00m\n\u001b[0;32m   1108\u001b[0m \u001b[38;5;28;01mif\u001b[39;00m \u001b[38;5;129;01mnot\u001b[39;00m (\u001b[38;5;28mself\u001b[39m\u001b[38;5;241m.\u001b[39m_backward_hooks \u001b[38;5;129;01mor\u001b[39;00m \u001b[38;5;28mself\u001b[39m\u001b[38;5;241m.\u001b[39m_forward_hooks \u001b[38;5;129;01mor\u001b[39;00m \u001b[38;5;28mself\u001b[39m\u001b[38;5;241m.\u001b[39m_forward_pre_hooks \u001b[38;5;129;01mor\u001b[39;00m _global_backward_hooks\n\u001b[0;32m   1109\u001b[0m         \u001b[38;5;129;01mor\u001b[39;00m _global_forward_hooks \u001b[38;5;129;01mor\u001b[39;00m _global_forward_pre_hooks):\n\u001b[1;32m-> 1110\u001b[0m     \u001b[38;5;28;01mreturn\u001b[39;00m forward_call(\u001b[38;5;241m*\u001b[39m\u001b[38;5;28minput\u001b[39m, \u001b[38;5;241m*\u001b[39m\u001b[38;5;241m*\u001b[39mkwargs)\n\u001b[0;32m   1111\u001b[0m \u001b[38;5;66;03m# Do not call functions when jit is used\u001b[39;00m\n\u001b[0;32m   1112\u001b[0m full_backward_hooks, non_full_backward_hooks \u001b[38;5;241m=\u001b[39m [], []\n",
      "File \u001b[1;32mE:\\anaconda\\envs\\DSIM\\lib\\site-packages\\torch\\nn\\modules\\conv.py:447\u001b[0m, in \u001b[0;36mConv2d.forward\u001b[1;34m(self, input)\u001b[0m\n\u001b[0;32m    446\u001b[0m \u001b[38;5;28;01mdef\u001b[39;00m \u001b[38;5;21mforward\u001b[39m(\u001b[38;5;28mself\u001b[39m, \u001b[38;5;28minput\u001b[39m: Tensor) \u001b[38;5;241m-\u001b[39m\u001b[38;5;241m>\u001b[39m Tensor:\n\u001b[1;32m--> 447\u001b[0m     \u001b[38;5;28;01mreturn\u001b[39;00m \u001b[38;5;28;43mself\u001b[39;49m\u001b[38;5;241;43m.\u001b[39;49m\u001b[43m_conv_forward\u001b[49m\u001b[43m(\u001b[49m\u001b[38;5;28;43minput\u001b[39;49m\u001b[43m,\u001b[49m\u001b[43m \u001b[49m\u001b[38;5;28;43mself\u001b[39;49m\u001b[38;5;241;43m.\u001b[39;49m\u001b[43mweight\u001b[49m\u001b[43m,\u001b[49m\u001b[43m \u001b[49m\u001b[38;5;28;43mself\u001b[39;49m\u001b[38;5;241;43m.\u001b[39;49m\u001b[43mbias\u001b[49m\u001b[43m)\u001b[49m\n",
      "File \u001b[1;32mE:\\anaconda\\envs\\DSIM\\lib\\site-packages\\torch\\nn\\modules\\conv.py:443\u001b[0m, in \u001b[0;36mConv2d._conv_forward\u001b[1;34m(self, input, weight, bias)\u001b[0m\n\u001b[0;32m    439\u001b[0m \u001b[38;5;28;01mif\u001b[39;00m \u001b[38;5;28mself\u001b[39m\u001b[38;5;241m.\u001b[39mpadding_mode \u001b[38;5;241m!=\u001b[39m \u001b[38;5;124m'\u001b[39m\u001b[38;5;124mzeros\u001b[39m\u001b[38;5;124m'\u001b[39m:\n\u001b[0;32m    440\u001b[0m     \u001b[38;5;28;01mreturn\u001b[39;00m F\u001b[38;5;241m.\u001b[39mconv2d(F\u001b[38;5;241m.\u001b[39mpad(\u001b[38;5;28minput\u001b[39m, \u001b[38;5;28mself\u001b[39m\u001b[38;5;241m.\u001b[39m_reversed_padding_repeated_twice, mode\u001b[38;5;241m=\u001b[39m\u001b[38;5;28mself\u001b[39m\u001b[38;5;241m.\u001b[39mpadding_mode),\n\u001b[0;32m    441\u001b[0m                     weight, bias, \u001b[38;5;28mself\u001b[39m\u001b[38;5;241m.\u001b[39mstride,\n\u001b[0;32m    442\u001b[0m                     _pair(\u001b[38;5;241m0\u001b[39m), \u001b[38;5;28mself\u001b[39m\u001b[38;5;241m.\u001b[39mdilation, \u001b[38;5;28mself\u001b[39m\u001b[38;5;241m.\u001b[39mgroups)\n\u001b[1;32m--> 443\u001b[0m \u001b[38;5;28;01mreturn\u001b[39;00m \u001b[43mF\u001b[49m\u001b[38;5;241;43m.\u001b[39;49m\u001b[43mconv2d\u001b[49m\u001b[43m(\u001b[49m\u001b[38;5;28;43minput\u001b[39;49m\u001b[43m,\u001b[49m\u001b[43m \u001b[49m\u001b[43mweight\u001b[49m\u001b[43m,\u001b[49m\u001b[43m \u001b[49m\u001b[43mbias\u001b[49m\u001b[43m,\u001b[49m\u001b[43m \u001b[49m\u001b[38;5;28;43mself\u001b[39;49m\u001b[38;5;241;43m.\u001b[39;49m\u001b[43mstride\u001b[49m\u001b[43m,\u001b[49m\n\u001b[0;32m    444\u001b[0m \u001b[43m                \u001b[49m\u001b[38;5;28;43mself\u001b[39;49m\u001b[38;5;241;43m.\u001b[39;49m\u001b[43mpadding\u001b[49m\u001b[43m,\u001b[49m\u001b[43m \u001b[49m\u001b[38;5;28;43mself\u001b[39;49m\u001b[38;5;241;43m.\u001b[39;49m\u001b[43mdilation\u001b[49m\u001b[43m,\u001b[49m\u001b[43m \u001b[49m\u001b[38;5;28;43mself\u001b[39;49m\u001b[38;5;241;43m.\u001b[39;49m\u001b[43mgroups\u001b[49m\u001b[43m)\u001b[49m\n",
      "\u001b[1;31mRuntimeError\u001b[0m: Given groups=1, weight of size [32, 2, 3, 3], expected input[1, 65, 640, 640] to have 2 channels, but got 65 channels instead"
     ]
    }
   ],
   "source": [
    "with torch.no_grad():\n",
    "    ans = model(batch_image)"
   ]
  },
  {
   "cell_type": "code",
   "execution_count": null,
   "metadata": {},
   "outputs": [],
   "source": []
  },
  {
   "cell_type": "code",
   "execution_count": 10,
   "metadata": {
    "ExecuteTime": {
     "end_time": "2023-07-09T08:20:47.114755Z",
     "start_time": "2023-07-09T08:20:45.227430Z"
    },
    "scrolled": false
   },
   "outputs": [
    {
     "name": "stdout",
     "output_type": "stream",
     "text": [
      "x: torch.Size([1, 1, 320, 320])\n",
      "x: torch.Size([400, 1, 16, 16]) P_h: 20 P_w: 20\n",
      "out mhsa in: torch.Size([400, 8, 16, 16])\n",
      "out mhsa out: torch.Size([400, 16, 16, 8])\n",
      "out: torch.Size([400, 32, 16, 16])\n",
      "x0:torch.Size([1, 32, 320, 320]) torch.Size([1, 32, 160, 160])\n",
      "x: torch.Size([1, 64, 160, 160])\n",
      "x: torch.Size([100, 64, 16, 16]) P_h: 10 P_w: 10\n",
      "out mhsa in: torch.Size([100, 16, 16, 16])\n",
      "out mhsa out: torch.Size([100, 16, 16, 16])\n",
      "out: torch.Size([100, 64, 16, 16])\n",
      "x1:torch.Size([1, 64, 160, 160]) torch.Size([1, 64, 80, 80])\n",
      "x: torch.Size([1, 128, 80, 80])\n",
      "x: torch.Size([100, 128, 8, 8]) P_h: 10 P_w: 10\n",
      "out mhsa in: torch.Size([100, 32, 8, 8])\n",
      "out mhsa out: torch.Size([100, 8, 8, 32])\n",
      "out: torch.Size([100, 128, 8, 8])\n",
      "x2:torch.Size([1, 128, 80, 80]) torch.Size([1, 128, 40, 40])\n",
      "x: torch.Size([1, 256, 40, 40])\n",
      "x: torch.Size([100, 256, 4, 4]) P_h: 10 P_w: 10\n",
      "out mhsa in: torch.Size([100, 64, 4, 4])\n",
      "out mhsa out: torch.Size([100, 4, 4, 64])\n",
      "out: torch.Size([100, 256, 4, 4])\n",
      "x3:torch.Size([1, 256, 40, 40]) torch.Size([1, 256, 20, 20])\n",
      "x: torch.Size([1, 512, 20, 20])\n",
      "x: torch.Size([100, 512, 2, 2]) P_h: 10 P_w: 10\n",
      "out mhsa in: torch.Size([100, 128, 2, 2])\n",
      "out mhsa out: torch.Size([100, 2, 2, 128])\n",
      "out: torch.Size([100, 512, 2, 2])\n",
      "x4:torch.Size([1, 512, 20, 20]) torch.Size([1, 512, 10, 10])\n",
      "x: torch.Size([1, 1024, 20, 20])\n",
      "x: torch.Size([100, 1024, 2, 2]) P_h: 10 P_w: 10\n",
      "out mhsa in: torch.Size([100, 64, 2, 2])\n",
      "out mhsa out: torch.Size([100, 2, 2, 64])\n",
      "out: torch.Size([100, 256, 2, 2])\n",
      "x: torch.Size([1, 512, 40, 40])\n",
      "x: torch.Size([100, 512, 4, 4]) P_h: 10 P_w: 10\n",
      "out mhsa in: torch.Size([100, 32, 4, 4])\n",
      "out mhsa out: torch.Size([100, 4, 4, 32])\n",
      "out: torch.Size([100, 128, 4, 4])\n",
      "x: torch.Size([1, 256, 80, 80])\n",
      "x: torch.Size([100, 256, 8, 8]) P_h: 10 P_w: 10\n",
      "out mhsa in: torch.Size([100, 16, 8, 8])\n",
      "out mhsa out: torch.Size([100, 8, 8, 16])\n",
      "out: torch.Size([100, 64, 8, 8])\n",
      "x: torch.Size([1, 128, 160, 160])\n",
      "x: torch.Size([100, 128, 16, 16]) P_h: 10 P_w: 10\n",
      "out mhsa in: torch.Size([100, 8, 16, 16])\n",
      "out mhsa out: torch.Size([100, 16, 16, 8])\n",
      "out: torch.Size([100, 32, 16, 16])\n"
     ]
    }
   ],
   "source": [
    "ans = model(batch_image)"
   ]
  },
  {
   "cell_type": "code",
   "execution_count": 19,
   "metadata": {
    "ExecuteTime": {
     "end_time": "2023-07-09T05:50:08.879943Z",
     "start_time": "2023-07-09T05:50:08.872979Z"
    }
   },
   "outputs": [
    {
     "data": {
      "text/plain": [
       "torch.Size([1, 512, 80, 80])"
      ]
     },
     "execution_count": 19,
     "metadata": {},
     "output_type": "execute_result"
    }
   ],
   "source": [
    "ans['mask'].shape"
   ]
  },
  {
   "cell_type": "code",
   "execution_count": 305,
   "metadata": {
    "ExecuteTime": {
     "end_time": "2023-07-08T10:12:17.029896Z",
     "start_time": "2023-07-08T10:12:16.938878Z"
    }
   },
   "outputs": [],
   "source": [
    "torch.save(obj=model.state_dict(), f=\"test.pkl\")"
   ]
  },
  {
   "cell_type": "code",
   "execution_count": 7,
   "metadata": {
    "ExecuteTime": {
     "end_time": "2023-07-09T05:48:40.791647Z",
     "start_time": "2023-07-09T05:48:40.761769Z"
    }
   },
   "outputs": [],
   "source": [
    "from model.FL_GTU import FL_GTU"
   ]
  },
  {
   "cell_type": "code",
   "execution_count": 8,
   "metadata": {
    "ExecuteTime": {
     "end_time": "2023-07-09T05:48:41.537906Z",
     "start_time": "2023-07-09T05:48:41.385304Z"
    }
   },
   "outputs": [
    {
     "name": "stdout",
     "output_type": "stream",
     "text": [
      "[1, 128, 256, 512]\n",
      "[1, 128, 256, 512]\n",
      "[1, 128, 256, 512]\n"
     ]
    }
   ],
   "source": [
    "model = FL_GTU()"
   ]
  },
  {
   "cell_type": "code",
   "execution_count": 9,
   "metadata": {
    "ExecuteTime": {
     "end_time": "2023-07-09T05:48:42.328384Z",
     "start_time": "2023-07-09T05:48:42.312439Z"
    }
   },
   "outputs": [],
   "source": [
    "batch_image = torch.zeros((1,1, 320, 640))"
   ]
  },
  {
   "cell_type": "code",
   "execution_count": 36,
   "metadata": {
    "ExecuteTime": {
     "end_time": "2023-07-12T02:26:27.718974Z",
     "start_time": "2023-07-12T02:26:27.697364Z"
    }
   },
   "outputs": [],
   "source": [
    "class GT_UFPN_Net(nn.Module):\n",
    "    def __init__(self, img_ch  =  1, output_ch  =  1, \n",
    "                middle_channel = [32, 64, 128, 256, 512], \n",
    "                encode_len = 3, \n",
    "                need_return_dict = False\n",
    "        ):\n",
    "        super(GT_UFPN_Net,self).__init__()\n",
    "        \n",
    "        self.index_len = encode_len - 1\n",
    "        self.need_return_dict = need_return_dict\n",
    "        self.downsample = nn.AvgPool2d(2)\n",
    "        self.Maxpool  =  nn.MaxPool2d(kernel_size = 2,stride = 2)\n",
    "        self.erode = MinPool(2,2,1)\n",
    "        self.dilate = nn.MaxPool2d(2, stride = 1)\n",
    "        self.encode_list = nn.ModuleList()\n",
    "        self.up_list = nn.ModuleList()\n",
    "        self.decode_list = nn.ModuleList()\n",
    "        \n",
    "        middle_channel = middle_channel[ len(middle_channel) - encode_len : ]\n",
    "        middle_channel =  [ img_ch, *middle_channel]\n",
    "        print( middle_channel )\n",
    "        self.pre_encode = _make_bot_layer(ch_in = middle_channel[0], ch_out = middle_channel[ 1 ])\n",
    "        for i in range(1, encode_len):\n",
    "            self.encode_list.append( _make_bot_layer(ch_in = 2 * middle_channel[i], ch_out = middle_channel[ i+1 ]) )\n",
    "        \n",
    "        for i in range(1, encode_len):\n",
    "            now_dim = encode_len - i + 1\n",
    "            next_dim = encode_len - i\n",
    "            # print( middle_channel[ now_dim ],   middle_channel[ next_dim ])\n",
    "            self.up_list.append( up_conv(ch_in = middle_channel[now_dim ] , ch_out = 2 * middle_channel[next_dim]) )\n",
    "            self.decode_list.append( _make_bot_layer(ch_in = 2 * middle_channel[ now_dim ], ch_out = middle_channel[next_dim]) )\n",
    "            \n",
    "        self.CBR = nn.ModuleList()\n",
    "        for i in range(encode_len):\n",
    "            self.CBR.append(\n",
    "                nn.Sequential(\n",
    "                    nn.Conv2d(middle_channel[0], middle_channel[i+1], 3, 1, 1),\n",
    "                    nn.BatchNorm2d(middle_channel[i+1]),\n",
    "                    nn.ReLU(),\n",
    "                )\n",
    "            )\n",
    "        self.last_up = nn.Upsample(scale_factor = 2)\n",
    "        self.last_decode = nn.Conv2d(middle_channel[next_dim], output_ch, kernel_size = 1, stride = 1, padding = 0)\n",
    "\n",
    "\n",
    "\n",
    "    def build_results(self, x,y,z):\n",
    "        return {\n",
    "            \"mask\": x,\n",
    "            \"cmask\": y,\n",
    "            \"edge\":z,\n",
    "        }\n",
    "    \n",
    "    def build_feature_pyramid(self, x): # 80\n",
    "        x_list = []\n",
    "        for i in range(self.index_len + 1):\n",
    "            x = self.downsample(x) \n",
    "            x_list.append( x )\n",
    "        return   x_list\n",
    "    \n",
    "    def edge_hot_map(self, x):\n",
    "        x = x.clone().detach()\n",
    "        edge = nn.functional.pad(x, (1, 0, 1, 0))\n",
    "        edge = self.dilate(edge) - self.erode(edge)\n",
    "        return edge\n",
    "    \n",
    "\n",
    "    def forward(self,x):\n",
    "        x_list = self.build_feature_pyramid( x )\n",
    "        pre_x_list = []\n",
    "        out_list = []\n",
    "        \n",
    "        for index in range(len(x_list)):\n",
    "            pre_x = self.CBR[index](x_list[index])\n",
    "            pre_x_list.append(pre_x)\n",
    "            # print(x_list[index].shape, pre_x.shape)\n",
    "        # pre_x_list = [x, *pre_x_list]\n",
    "        \n",
    "        out = self.pre_encode( x )\n",
    "        out_pool  =  self.Maxpool(out)\n",
    "        out_list.append(out)\n",
    "        # print( \"x{}:{} {}\".format( 0, out.shape, out_pool.shape ))\n",
    "        \n",
    "        # encoding\n",
    "        for index in range(self.index_len):\n",
    "            x_temp = torch.cat( [pre_x_list[index], out_pool], 1) \n",
    "            # print( \"x{} cat:{}\".format( index, x.shape))\n",
    "            out = self.encode_list[index]( x_temp )\n",
    "            out_pool = self.Maxpool(out)\n",
    "            out_list.append(out)\n",
    "            # print( \"x{}:{} {}\".format( index, out.shape, out_pool.shape ))\n",
    "            \n",
    "        x_temp = out_pool\n",
    "        # decoding\n",
    "        for index in range(self.index_len):\n",
    "            up = self.up_list[index](x_temp)\n",
    "            x_temp = torch.cat( [up, out_list[ self.index_len - index ] ], dim = 1)\n",
    "            x_temp = self.decode_list[index](x_temp)\n",
    "            # print( \"decode{}:{} {}\".format( index, up.shape, x_temp.shape))\n",
    "        \n",
    "        # print(\"final decode:\", x_temp.shape)\n",
    "        outp = self.last_up(x_temp)\n",
    "        outp = self.last_decode(outp)\n",
    "        # print(\"outp:{}\".format( outp.shape ))\n",
    "        return self.build_results(outp, outp, 0) if self.need_return_dict else( outp, 0 ) "
   ]
  },
  {
   "cell_type": "code",
   "execution_count": 46,
   "metadata": {
    "ExecuteTime": {
     "end_time": "2023-07-12T02:28:48.653474Z",
     "start_time": "2023-07-12T02:28:48.480444Z"
    }
   },
   "outputs": [
    {
     "name": "stdout",
     "output_type": "stream",
     "text": [
      "[1, 256, 512, 1024]\n"
     ]
    }
   ],
   "source": [
    "model = GT_UFPN_Net( encode_len = 3 , middle_channel=[128,256,512,1024])"
   ]
  },
  {
   "cell_type": "code",
   "execution_count": 42,
   "metadata": {
    "ExecuteTime": {
     "end_time": "2023-07-12T02:27:44.497514Z",
     "start_time": "2023-07-12T02:27:44.479562Z"
    }
   },
   "outputs": [],
   "source": [
    "batch_image = torch.zeros((2,1,80,80))"
   ]
  },
  {
   "cell_type": "code",
   "execution_count": 44,
   "metadata": {
    "ExecuteTime": {
     "end_time": "2023-07-12T02:27:52.135989Z",
     "start_time": "2023-07-12T02:27:51.936516Z"
    }
   },
   "outputs": [
    {
     "name": "stdout",
     "output_type": "stream",
     "text": [
      "x: torch.Size([2, 1, 80, 80])\n",
      "x: torch.Size([800, 1, 4, 4]) P_h: 20 P_w: 20\n",
      "out mhsa in: torch.Size([800, 32, 4, 4])\n",
      "out mhsa out: torch.Size([800, 4, 4, 32])\n",
      "out: torch.Size([800, 128, 4, 4])\n",
      "x: torch.Size([2, 256, 40, 40])\n",
      "x: torch.Size([200, 256, 4, 4]) P_h: 10 P_w: 10\n",
      "out mhsa in: torch.Size([200, 64, 4, 4])\n",
      "out mhsa out: torch.Size([200, 4, 4, 64])\n",
      "out: torch.Size([200, 256, 4, 4])\n",
      "x: torch.Size([2, 512, 20, 20])\n",
      "x: torch.Size([50, 512, 4, 4]) P_h: 5 P_w: 5\n",
      "out mhsa in: torch.Size([50, 128, 4, 4])\n",
      "out mhsa out: torch.Size([50, 4, 4, 128])\n",
      "out: torch.Size([50, 512, 4, 4])\n",
      "x: torch.Size([2, 1024, 20, 20])\n",
      "x: torch.Size([50, 1024, 4, 4]) P_h: 5 P_w: 5\n",
      "out mhsa in: torch.Size([50, 64, 4, 4])\n",
      "out mhsa out: torch.Size([50, 4, 4, 64])\n",
      "out: torch.Size([50, 256, 4, 4])\n",
      "x: torch.Size([2, 512, 40, 40])\n",
      "x: torch.Size([200, 512, 4, 4]) P_h: 10 P_w: 10\n",
      "out mhsa in: torch.Size([200, 32, 4, 4])\n",
      "out mhsa out: torch.Size([200, 4, 4, 32])\n",
      "out: torch.Size([200, 128, 4, 4])\n"
     ]
    },
    {
     "data": {
      "text/plain": [
       "tensor([[[[-0.0528, -0.0528, -0.0528,  ..., -0.0528, -0.0528, -0.0528],\n",
       "          [-0.0528, -0.0528, -0.0528,  ..., -0.0528, -0.0528, -0.0528],\n",
       "          [-0.0528, -0.0528, -0.0528,  ..., -0.0528, -0.0528, -0.0528],\n",
       "          ...,\n",
       "          [-0.0528, -0.0528, -0.0528,  ..., -0.0528, -0.0528, -0.0528],\n",
       "          [-0.0528, -0.0528, -0.0528,  ..., -0.0528, -0.0528, -0.0528],\n",
       "          [-0.0528, -0.0528, -0.0528,  ..., -0.0528, -0.0528, -0.0528]]],\n",
       "\n",
       "\n",
       "        [[[-0.0528, -0.0528, -0.0528,  ..., -0.0528, -0.0528, -0.0528],\n",
       "          [-0.0528, -0.0528, -0.0528,  ..., -0.0528, -0.0528, -0.0528],\n",
       "          [-0.0528, -0.0528, -0.0528,  ..., -0.0528, -0.0528, -0.0528],\n",
       "          ...,\n",
       "          [-0.0528, -0.0528, -0.0528,  ..., -0.0528, -0.0528, -0.0528],\n",
       "          [-0.0528, -0.0528, -0.0528,  ..., -0.0528, -0.0528, -0.0528],\n",
       "          [-0.0528, -0.0528, -0.0528,  ..., -0.0528, -0.0528, -0.0528]]]],\n",
       "       grad_fn=<ConvolutionBackward0>)"
      ]
     },
     "execution_count": 44,
     "metadata": {},
     "output_type": "execute_result"
    }
   ],
   "source": [
    "model(batch_image)"
   ]
  },
  {
   "cell_type": "code",
   "execution_count": null,
   "metadata": {},
   "outputs": [],
   "source": []
  }
 ],
 "metadata": {
  "hide_input": false,
  "kernelspec": {
   "display_name": "DSIM",
   "language": "python",
   "name": "dsim"
  },
  "language_info": {
   "codemirror_mode": {
    "name": "ipython",
    "version": 3
   },
   "file_extension": ".py",
   "mimetype": "text/x-python",
   "name": "python",
   "nbconvert_exporter": "python",
   "pygments_lexer": "ipython3",
   "version": "3.10.4"
  },
  "latex_envs": {
   "LaTeX_envs_menu_present": true,
   "autoclose": false,
   "autocomplete": true,
   "bibliofile": "biblio.bib",
   "cite_by": "apalike",
   "current_citInitial": 1,
   "eqLabelWithNumbers": true,
   "eqNumInitial": 1,
   "hotkeys": {
    "equation": "Ctrl-E",
    "itemize": "Ctrl-I"
   },
   "labels_anchors": false,
   "latex_user_defs": false,
   "report_style_numbering": false,
   "user_envs_cfg": false
  },
  "toc": {
   "base_numbering": 1,
   "nav_menu": {},
   "number_sections": true,
   "sideBar": true,
   "skip_h1_title": false,
   "title_cell": "Table of Contents",
   "title_sidebar": "Contents",
   "toc_cell": false,
   "toc_position": {},
   "toc_section_display": true,
   "toc_window_display": false
  },
  "varInspector": {
   "cols": {
    "lenName": 16,
    "lenType": 16,
    "lenVar": 40
   },
   "kernels_config": {
    "python": {
     "delete_cmd_postfix": "",
     "delete_cmd_prefix": "del ",
     "library": "var_list.py",
     "varRefreshCmd": "print(var_dic_list())"
    },
    "r": {
     "delete_cmd_postfix": ") ",
     "delete_cmd_prefix": "rm(",
     "library": "var_list.r",
     "varRefreshCmd": "cat(var_dic_list()) "
    }
   },
   "types_to_exclude": [
    "module",
    "function",
    "builtin_function_or_method",
    "instance",
    "_Feature"
   ],
   "window_display": false
  }
 },
 "nbformat": 4,
 "nbformat_minor": 2
}
