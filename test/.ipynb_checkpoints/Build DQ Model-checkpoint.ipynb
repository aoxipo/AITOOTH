{
 "cells": [
  {
   "cell_type": "code",
   "execution_count": 1,
   "metadata": {
    "ExecuteTime": {
     "end_time": "2023-03-10T01:15:03.711913Z",
     "start_time": "2023-03-10T01:15:03.706926Z"
    }
   },
   "outputs": [],
   "source": [
    "import sys \n",
    "sys.path.append(\"..\") \n",
    "from torchsummary import summary"
   ]
  },
  {
   "cell_type": "code",
   "execution_count": 2,
   "metadata": {
    "ExecuteTime": {
     "end_time": "2023-03-10T01:15:05.311459Z",
     "start_time": "2023-03-10T01:15:04.585858Z"
    }
   },
   "outputs": [],
   "source": [
    "from model.DQ.dq import *"
   ]
  },
  {
   "cell_type": "code",
   "execution_count": 3,
   "metadata": {
    "ExecuteTime": {
     "end_time": "2023-03-10T01:20:58.310203Z",
     "start_time": "2023-03-10T01:20:58.024115Z"
    }
   },
   "outputs": [],
   "source": [
    "model = ADQAE(\n",
    "in_channel = 3,\n",
    "channel = 256,\n",
    "n_res_block = 3,\n",
    "n_res_channel = 256,\n",
    "n_coder_blocks = 2,\n",
    "embed_dim = 64,\n",
    "n_codebooks = 4,\n",
    "stride = 2,\n",
    "decay = 0.99,\n",
    "loss_name = \"mse\",\n",
    "vq_type = \"dq\",\n",
    "beta = 0.25,\n",
    "n_hier = [256],\n",
    "n_logistic_mix = 10,\n",
    ")"
   ]
  },
  {
   "cell_type": "code",
   "execution_count": 4,
   "metadata": {
    "ExecuteTime": {
     "end_time": "2023-03-10T01:21:01.714376Z",
     "start_time": "2023-03-10T01:21:01.705395Z"
    }
   },
   "outputs": [],
   "source": [
    "batch_image = torch.randn((1,3,224,224))"
   ]
  },
  {
   "cell_type": "code",
   "execution_count": 5,
   "metadata": {
    "ExecuteTime": {
     "end_time": "2023-03-10T01:21:06.346610Z",
     "start_time": "2023-03-10T01:21:03.737943Z"
    }
   },
   "outputs": [
    {
     "name": "stdout",
     "output_type": "stream",
     "text": [
      "0  get : torch.Size([1, 256, 56, 56])\n"
     ]
    }
   ],
   "source": [
    "d = model(batch_image)"
   ]
  },
  {
   "cell_type": "code",
   "execution_count": 6,
   "metadata": {},
   "outputs": [
    {
     "data": {
      "text/plain": [
       "torch.Size([1, 3, 448, 448])"
      ]
     },
     "execution_count": 6,
     "metadata": {},
     "output_type": "execute_result"
    }
   ],
   "source": [
    "d.shape"
   ]
  },
  {
   "cell_type": "code",
   "execution_count": 8,
   "metadata": {},
   "outputs": [
    {
     "name": "stdout",
     "output_type": "stream",
     "text": [
      "0  get : torch.Size([2, 256, 56, 56])\n",
      "----------------------------------------------------------------\n",
      "        Layer (type)               Output Shape         Param #\n",
      "================================================================\n",
      "            Conv2d-1         [-1, 64, 224, 224]           1,792\n",
      "            Conv2d-2        [-1, 128, 112, 112]         131,200\n",
      "              ReLU-3        [-1, 128, 112, 112]               0\n",
      "            Conv2d-4        [-1, 256, 112, 112]         295,168\n",
      "              ReLU-5        [-1, 256, 112, 112]               0\n",
      "            Conv2d-6        [-1, 256, 112, 112]         590,080\n",
      "       BatchNorm2d-7        [-1, 256, 112, 112]             512\n",
      "              ReLU-8        [-1, 256, 112, 112]               0\n",
      "            Conv2d-9        [-1, 256, 112, 112]          65,792\n",
      "      BatchNorm2d-10        [-1, 256, 112, 112]             512\n",
      "             ReLU-11        [-1, 256, 112, 112]               0\n",
      "             ReLU-12        [-1, 256, 112, 112]               0\n",
      "         ResBlock-13        [-1, 256, 112, 112]               0\n",
      "           Conv2d-14        [-1, 256, 112, 112]         590,080\n",
      "      BatchNorm2d-15        [-1, 256, 112, 112]             512\n",
      "             ReLU-16        [-1, 256, 112, 112]               0\n",
      "           Conv2d-17        [-1, 256, 112, 112]          65,792\n",
      "      BatchNorm2d-18        [-1, 256, 112, 112]             512\n",
      "             ReLU-19        [-1, 256, 112, 112]               0\n",
      "             ReLU-20        [-1, 256, 112, 112]               0\n",
      "         ResBlock-21        [-1, 256, 112, 112]               0\n",
      "           Conv2d-22        [-1, 256, 112, 112]         590,080\n",
      "      BatchNorm2d-23        [-1, 256, 112, 112]             512\n",
      "             ReLU-24        [-1, 256, 112, 112]               0\n",
      "           Conv2d-25        [-1, 256, 112, 112]          65,792\n",
      "      BatchNorm2d-26        [-1, 256, 112, 112]             512\n",
      "             ReLU-27        [-1, 256, 112, 112]               0\n",
      "             ReLU-28        [-1, 256, 112, 112]               0\n",
      "         ResBlock-29        [-1, 256, 112, 112]               0\n",
      "             ReLU-30        [-1, 256, 112, 112]               0\n",
      "          Encoder-31        [-1, 256, 112, 112]               0\n",
      "           Conv2d-32          [-1, 128, 56, 56]         524,416\n",
      "             ReLU-33          [-1, 128, 56, 56]               0\n",
      "           Conv2d-34          [-1, 256, 56, 56]         295,168\n",
      "             ReLU-35          [-1, 256, 56, 56]               0\n",
      "           Conv2d-36          [-1, 256, 56, 56]         590,080\n",
      "      BatchNorm2d-37          [-1, 256, 56, 56]             512\n",
      "             ReLU-38          [-1, 256, 56, 56]               0\n",
      "           Conv2d-39          [-1, 256, 56, 56]          65,792\n",
      "      BatchNorm2d-40          [-1, 256, 56, 56]             512\n",
      "             ReLU-41          [-1, 256, 56, 56]               0\n",
      "             ReLU-42          [-1, 256, 56, 56]               0\n",
      "         ResBlock-43          [-1, 256, 56, 56]               0\n",
      "           Conv2d-44          [-1, 256, 56, 56]         590,080\n",
      "      BatchNorm2d-45          [-1, 256, 56, 56]             512\n",
      "             ReLU-46          [-1, 256, 56, 56]               0\n",
      "           Conv2d-47          [-1, 256, 56, 56]          65,792\n",
      "      BatchNorm2d-48          [-1, 256, 56, 56]             512\n",
      "             ReLU-49          [-1, 256, 56, 56]               0\n",
      "             ReLU-50          [-1, 256, 56, 56]               0\n",
      "         ResBlock-51          [-1, 256, 56, 56]               0\n",
      "           Conv2d-52          [-1, 256, 56, 56]         590,080\n",
      "      BatchNorm2d-53          [-1, 256, 56, 56]             512\n",
      "             ReLU-54          [-1, 256, 56, 56]               0\n",
      "           Conv2d-55          [-1, 256, 56, 56]          65,792\n",
      "      BatchNorm2d-56          [-1, 256, 56, 56]             512\n",
      "             ReLU-57          [-1, 256, 56, 56]               0\n",
      "             ReLU-58          [-1, 256, 56, 56]               0\n",
      "         ResBlock-59          [-1, 256, 56, 56]               0\n",
      "             ReLU-60          [-1, 256, 56, 56]               0\n",
      "          Encoder-61          [-1, 256, 56, 56]               0\n",
      "           Conv2d-62           [-1, 64, 56, 56]          16,448\n"
     ]
    },
    {
     "ename": "TypeError",
     "evalue": "can't multiply sequence by non-int of type 'list'",
     "output_type": "error",
     "traceback": [
      "\u001b[1;31m---------------------------------------------------------------------------\u001b[0m",
      "\u001b[1;31mTypeError\u001b[0m                                 Traceback (most recent call last)",
      "Input \u001b[1;32mIn [8]\u001b[0m, in \u001b[0;36m<cell line: 1>\u001b[1;34m()\u001b[0m\n\u001b[1;32m----> 1\u001b[0m \u001b[43msummary\u001b[49m\u001b[43m(\u001b[49m\u001b[43mmodel\u001b[49m\u001b[38;5;241;43m.\u001b[39;49m\u001b[43mcuda\u001b[49m\u001b[43m(\u001b[49m\u001b[43m)\u001b[49m\u001b[43m,\u001b[49m\u001b[43m \u001b[49m\u001b[43m(\u001b[49m\u001b[38;5;241;43m3\u001b[39;49m\u001b[43m,\u001b[49m\u001b[38;5;241;43m224\u001b[39;49m\u001b[43m,\u001b[49m\u001b[38;5;241;43m224\u001b[39;49m\u001b[43m)\u001b[49m\u001b[43m)\u001b[49m\n",
      "File \u001b[1;32mD:\\soft\\Anaconda\\envs\\pytorch\\lib\\site-packages\\torchsummary\\torchsummary.py:93\u001b[0m, in \u001b[0;36msummary\u001b[1;34m(model, input_size, batch_size, device)\u001b[0m\n\u001b[0;32m     87\u001b[0m line_new \u001b[38;5;241m=\u001b[39m \u001b[38;5;124m\"\u001b[39m\u001b[38;5;132;01m{:>20}\u001b[39;00m\u001b[38;5;124m  \u001b[39m\u001b[38;5;132;01m{:>25}\u001b[39;00m\u001b[38;5;124m \u001b[39m\u001b[38;5;132;01m{:>15}\u001b[39;00m\u001b[38;5;124m\"\u001b[39m\u001b[38;5;241m.\u001b[39mformat(\n\u001b[0;32m     88\u001b[0m     layer,\n\u001b[0;32m     89\u001b[0m     \u001b[38;5;28mstr\u001b[39m(summary[layer][\u001b[38;5;124m\"\u001b[39m\u001b[38;5;124moutput_shape\u001b[39m\u001b[38;5;124m\"\u001b[39m]),\n\u001b[0;32m     90\u001b[0m     \u001b[38;5;124m\"\u001b[39m\u001b[38;5;132;01m{0:,}\u001b[39;00m\u001b[38;5;124m\"\u001b[39m\u001b[38;5;241m.\u001b[39mformat(summary[layer][\u001b[38;5;124m\"\u001b[39m\u001b[38;5;124mnb_params\u001b[39m\u001b[38;5;124m\"\u001b[39m]),\n\u001b[0;32m     91\u001b[0m )\n\u001b[0;32m     92\u001b[0m total_params \u001b[38;5;241m+\u001b[39m\u001b[38;5;241m=\u001b[39m summary[layer][\u001b[38;5;124m\"\u001b[39m\u001b[38;5;124mnb_params\u001b[39m\u001b[38;5;124m\"\u001b[39m]\n\u001b[1;32m---> 93\u001b[0m total_output \u001b[38;5;241m+\u001b[39m\u001b[38;5;241m=\u001b[39m \u001b[43mnp\u001b[49m\u001b[38;5;241;43m.\u001b[39;49m\u001b[43mprod\u001b[49m\u001b[43m(\u001b[49m\u001b[43msummary\u001b[49m\u001b[43m[\u001b[49m\u001b[43mlayer\u001b[49m\u001b[43m]\u001b[49m\u001b[43m[\u001b[49m\u001b[38;5;124;43m\"\u001b[39;49m\u001b[38;5;124;43moutput_shape\u001b[39;49m\u001b[38;5;124;43m\"\u001b[39;49m\u001b[43m]\u001b[49m\u001b[43m)\u001b[49m\n\u001b[0;32m     94\u001b[0m \u001b[38;5;28;01mif\u001b[39;00m \u001b[38;5;124m\"\u001b[39m\u001b[38;5;124mtrainable\u001b[39m\u001b[38;5;124m\"\u001b[39m \u001b[38;5;129;01min\u001b[39;00m summary[layer]:\n\u001b[0;32m     95\u001b[0m     \u001b[38;5;28;01mif\u001b[39;00m summary[layer][\u001b[38;5;124m\"\u001b[39m\u001b[38;5;124mtrainable\u001b[39m\u001b[38;5;124m\"\u001b[39m] \u001b[38;5;241m==\u001b[39m \u001b[38;5;28;01mTrue\u001b[39;00m:\n",
      "File \u001b[1;32m<__array_function__ internals>:180\u001b[0m, in \u001b[0;36mprod\u001b[1;34m(*args, **kwargs)\u001b[0m\n",
      "File \u001b[1;32mD:\\soft\\Anaconda\\envs\\pytorch\\lib\\site-packages\\numpy\\core\\fromnumeric.py:3045\u001b[0m, in \u001b[0;36mprod\u001b[1;34m(a, axis, dtype, out, keepdims, initial, where)\u001b[0m\n\u001b[0;32m   2927\u001b[0m \u001b[38;5;129m@array_function_dispatch\u001b[39m(_prod_dispatcher)\n\u001b[0;32m   2928\u001b[0m \u001b[38;5;28;01mdef\u001b[39;00m \u001b[38;5;21mprod\u001b[39m(a, axis\u001b[38;5;241m=\u001b[39m\u001b[38;5;28;01mNone\u001b[39;00m, dtype\u001b[38;5;241m=\u001b[39m\u001b[38;5;28;01mNone\u001b[39;00m, out\u001b[38;5;241m=\u001b[39m\u001b[38;5;28;01mNone\u001b[39;00m, keepdims\u001b[38;5;241m=\u001b[39mnp\u001b[38;5;241m.\u001b[39m_NoValue,\n\u001b[0;32m   2929\u001b[0m          initial\u001b[38;5;241m=\u001b[39mnp\u001b[38;5;241m.\u001b[39m_NoValue, where\u001b[38;5;241m=\u001b[39mnp\u001b[38;5;241m.\u001b[39m_NoValue):\n\u001b[0;32m   2930\u001b[0m     \u001b[38;5;124;03m\"\"\"\u001b[39;00m\n\u001b[0;32m   2931\u001b[0m \u001b[38;5;124;03m    Return the product of array elements over a given axis.\u001b[39;00m\n\u001b[0;32m   2932\u001b[0m \n\u001b[1;32m   (...)\u001b[0m\n\u001b[0;32m   3043\u001b[0m \u001b[38;5;124;03m    10\u001b[39;00m\n\u001b[0;32m   3044\u001b[0m \u001b[38;5;124;03m    \"\"\"\u001b[39;00m\n\u001b[1;32m-> 3045\u001b[0m     \u001b[38;5;28;01mreturn\u001b[39;00m \u001b[43m_wrapreduction\u001b[49m\u001b[43m(\u001b[49m\u001b[43ma\u001b[49m\u001b[43m,\u001b[49m\u001b[43m \u001b[49m\u001b[43mnp\u001b[49m\u001b[38;5;241;43m.\u001b[39;49m\u001b[43mmultiply\u001b[49m\u001b[43m,\u001b[49m\u001b[43m \u001b[49m\u001b[38;5;124;43m'\u001b[39;49m\u001b[38;5;124;43mprod\u001b[39;49m\u001b[38;5;124;43m'\u001b[39;49m\u001b[43m,\u001b[49m\u001b[43m \u001b[49m\u001b[43maxis\u001b[49m\u001b[43m,\u001b[49m\u001b[43m \u001b[49m\u001b[43mdtype\u001b[49m\u001b[43m,\u001b[49m\u001b[43m \u001b[49m\u001b[43mout\u001b[49m\u001b[43m,\u001b[49m\n\u001b[0;32m   3046\u001b[0m \u001b[43m                          \u001b[49m\u001b[43mkeepdims\u001b[49m\u001b[38;5;241;43m=\u001b[39;49m\u001b[43mkeepdims\u001b[49m\u001b[43m,\u001b[49m\u001b[43m \u001b[49m\u001b[43minitial\u001b[49m\u001b[38;5;241;43m=\u001b[39;49m\u001b[43minitial\u001b[49m\u001b[43m,\u001b[49m\u001b[43m \u001b[49m\u001b[43mwhere\u001b[49m\u001b[38;5;241;43m=\u001b[39;49m\u001b[43mwhere\u001b[49m\u001b[43m)\u001b[49m\n",
      "File \u001b[1;32mD:\\soft\\Anaconda\\envs\\pytorch\\lib\\site-packages\\numpy\\core\\fromnumeric.py:86\u001b[0m, in \u001b[0;36m_wrapreduction\u001b[1;34m(obj, ufunc, method, axis, dtype, out, **kwargs)\u001b[0m\n\u001b[0;32m     83\u001b[0m         \u001b[38;5;28;01melse\u001b[39;00m:\n\u001b[0;32m     84\u001b[0m             \u001b[38;5;28;01mreturn\u001b[39;00m reduction(axis\u001b[38;5;241m=\u001b[39maxis, out\u001b[38;5;241m=\u001b[39mout, \u001b[38;5;241m*\u001b[39m\u001b[38;5;241m*\u001b[39mpasskwargs)\n\u001b[1;32m---> 86\u001b[0m \u001b[38;5;28;01mreturn\u001b[39;00m \u001b[43mufunc\u001b[49m\u001b[38;5;241;43m.\u001b[39;49m\u001b[43mreduce\u001b[49m\u001b[43m(\u001b[49m\u001b[43mobj\u001b[49m\u001b[43m,\u001b[49m\u001b[43m \u001b[49m\u001b[43maxis\u001b[49m\u001b[43m,\u001b[49m\u001b[43m \u001b[49m\u001b[43mdtype\u001b[49m\u001b[43m,\u001b[49m\u001b[43m \u001b[49m\u001b[43mout\u001b[49m\u001b[43m,\u001b[49m\u001b[43m \u001b[49m\u001b[38;5;241;43m*\u001b[39;49m\u001b[38;5;241;43m*\u001b[39;49m\u001b[43mpasskwargs\u001b[49m\u001b[43m)\u001b[49m\n",
      "\u001b[1;31mTypeError\u001b[0m: can't multiply sequence by non-int of type 'list'"
     ]
    }
   ],
   "source": [
    "summary(model.cuda(), (3,224,224))"
   ]
  },
  {
   "cell_type": "code",
   "execution_count": null,
   "metadata": {},
   "outputs": [],
   "source": []
  }
 ],
 "metadata": {
  "hide_input": false,
  "kernelspec": {
   "display_name": "pytorch",
   "language": "python",
   "name": "pytorch"
  },
  "language_info": {
   "codemirror_mode": {
    "name": "ipython",
    "version": 3
   },
   "file_extension": ".py",
   "mimetype": "text/x-python",
   "name": "python",
   "nbconvert_exporter": "python",
   "pygments_lexer": "ipython3",
   "version": "3.8.13"
  },
  "latex_envs": {
   "LaTeX_envs_menu_present": true,
   "autoclose": false,
   "autocomplete": true,
   "bibliofile": "biblio.bib",
   "cite_by": "apalike",
   "current_citInitial": 1,
   "eqLabelWithNumbers": true,
   "eqNumInitial": 1,
   "hotkeys": {
    "equation": "Ctrl-E",
    "itemize": "Ctrl-I"
   },
   "labels_anchors": false,
   "latex_user_defs": false,
   "report_style_numbering": false,
   "user_envs_cfg": false
  },
  "toc": {
   "base_numbering": 1,
   "nav_menu": {},
   "number_sections": true,
   "sideBar": true,
   "skip_h1_title": false,
   "title_cell": "Table of Contents",
   "title_sidebar": "Contents",
   "toc_cell": false,
   "toc_position": {},
   "toc_section_display": true,
   "toc_window_display": false
  },
  "varInspector": {
   "cols": {
    "lenName": 16,
    "lenType": 16,
    "lenVar": 40
   },
   "kernels_config": {
    "python": {
     "delete_cmd_postfix": "",
     "delete_cmd_prefix": "del ",
     "library": "var_list.py",
     "varRefreshCmd": "print(var_dic_list())"
    },
    "r": {
     "delete_cmd_postfix": ") ",
     "delete_cmd_prefix": "rm(",
     "library": "var_list.r",
     "varRefreshCmd": "cat(var_dic_list()) "
    }
   },
   "types_to_exclude": [
    "module",
    "function",
    "builtin_function_or_method",
    "instance",
    "_Feature"
   ],
   "window_display": false
  }
 },
 "nbformat": 4,
 "nbformat_minor": 2
}
