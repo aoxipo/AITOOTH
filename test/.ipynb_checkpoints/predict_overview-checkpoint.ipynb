{
 "cells": [
  {
   "cell_type": "code",
   "execution_count": 10,
   "metadata": {
    "ExecuteTime": {
     "end_time": "2023-07-25T01:37:52.153894Z",
     "start_time": "2023-07-25T01:37:52.141511Z"
    }
   },
   "outputs": [],
   "source": [
    "import sys \n",
    "sys.path.append(\"..\") \n",
    "from train import *\n",
    "from utils.score import cal_all_score\n",
    "from dataloader import Dataload\n",
    "from torch.utils.data import DataLoader\n",
    "import cv2\n",
    "import matplotlib.pyplot as plt\n",
    "matplotlib.use('TkAgg')\n",
    "%matplotlib inline\n",
    "import datetime\n",
    "from utils.score_numpy import *"
   ]
  },
  {
   "cell_type": "code",
   "execution_count": 2,
   "metadata": {
    "ExecuteTime": {
     "end_time": "2023-07-25T01:32:06.208649Z",
     "start_time": "2023-07-25T01:32:06.195687Z"
    }
   },
   "outputs": [],
   "source": [
    "batch_size = 10"
   ]
  },
  {
   "cell_type": "code",
   "execution_count": 3,
   "metadata": {
    "ExecuteTime": {
     "end_time": "2023-07-25T01:32:06.238569Z",
     "start_time": "2023-07-25T01:32:06.225604Z"
    }
   },
   "outputs": [],
   "source": [
    "parameter_path_dict = {\n",
    "   41:r\"H:\\parameter_FPN\\FL_GTU_jg/best.pkl\",\n",
    "}"
   ]
  },
  {
   "cell_type": "code",
   "execution_count": 54,
   "metadata": {
    "ExecuteTime": {
     "end_time": "2023-07-25T02:06:45.139123Z",
     "start_time": "2023-07-25T02:06:45.124161Z"
    }
   },
   "outputs": [],
   "source": [
    "\n",
    "# parameter_path_dict = {\n",
    "#     911:r\"H:/parameter_FPN/with_edge/model_2023_06_24_16_05_03_300444.pkl\",\n",
    "#     91:r\"H:/parameter_FPN/3_6/model_2023_06_26_13_48_34_700476.pkl\",\n",
    "#     92:r\"H:/parameter_FPN/FL_DETR_train/best.pkl\",\n",
    "#     921:r\"H:/parameter_FPN/FL_DETR/model_2023_07_04_19_06_08_250032.pkl\",\n",
    "#     922:r\"H:/parameter_FPN/FL_DETR_2/model_2023_07_04_20_52_02_588340.pkl\",\n",
    "#     923:r\"H:/parameter_FPN/FL_DETR_reverse/model_2023_07_04_19_29_48_584903.pkl\",\n",
    "# }\n",
    "parameter_path = parameter_path_dict[41]\n",
    "batch_size = 10\n",
    "method_dict = {\n",
    "    0: \"Unet\",\n",
    "    1: \"RESUNet\",\n",
    "    2: 'RU',\n",
    "    4:\"GTU\",\n",
    "    41:\"FL_GTU\",\n",
    "    5: \"FL\",\n",
    "    8: \"FL tiny\",\n",
    "    9: \"FL FPN\",\n",
    "    91: \"FL FPN 4 8\",\n",
    "    911: \"FL FPN 911\",\n",
    "    92:\"DETR\",\n",
    "    921:\"FL_DETR B\",\n",
    "    922:\"FL_DETR_2\",\n",
    "    923:\"FL_DETR_reverse\",\n",
    "}"
   ]
  },
  {
   "cell_type": "code",
   "execution_count": 5,
   "metadata": {
    "ExecuteTime": {
     "end_time": "2023-07-25T01:32:06.956650Z",
     "start_time": "2023-07-25T01:32:06.293424Z"
    }
   },
   "outputs": [
    {
     "name": "stdout",
     "output_type": "stream",
     "text": [
      "[3, 128, 256, 512, 1024]\n",
      "[3, 128, 256, 512]\n",
      "build FPN_GTU model\n",
      "start paramete k:0.5, pre:0.5, p:0.5\n"
     ]
    }
   ],
   "source": [
    "trainer = Train(\n",
    "        1, (224),\n",
    "        name = \"FL_GPU_ja\",\n",
    "        method_type = 41,\n",
    "        is_show = False,\n",
    "        batch_size = batch_size,\n",
    "        device_ = \"cpu\",\n",
    ")"
   ]
  },
  {
   "cell_type": "code",
   "execution_count": 6,
   "metadata": {
    "ExecuteTime": {
     "end_time": "2023-07-25T01:32:07.674875Z",
     "start_time": "2023-07-25T01:32:06.974607Z"
    }
   },
   "outputs": [],
   "source": [
    "trainer.load_parameter( parameter_path )"
   ]
  },
  {
   "cell_type": "code",
   "execution_count": 56,
   "metadata": {
    "ExecuteTime": {
     "end_time": "2023-07-25T02:07:09.420859Z",
     "start_time": "2023-07-25T02:07:09.402907Z"
    },
    "scrolled": true
   },
   "outputs": [
    {
     "name": "stdout",
     "output_type": "stream",
     "text": [
      "H:\\DATASET\\data//image/ 88 H:\\DATASET\\data//mask/ 88\n",
      "total: 88\n",
      "验证集合大小: 88 \n",
      "save path: ./test/FL_GPU_ja/infers/\n",
      "load parameter path: ./test/FL_GPU_ja/infers/\n"
     ]
    }
   ],
   "source": [
    "all_dataloader = Dataload( r'H:\\DATASET\\data/', (640,320), need_gray = False, data_aug = 1) # (320,640)\n",
    "save_path = './test/'\n",
    "save_path = save_path + trainer.name\n",
    "all_dataloader.create_dir(save_path )\n",
    "save_path = save_path + \"/infers/\"\n",
    "print(\"验证集合大小: {} \".format( len( all_dataloader )))\n",
    "all_dataloader.create_dir(save_path )\n",
    "print( \"save path:\" , save_path)\n",
    "print( \"load parameter path:\" , save_path)"
   ]
  },
  {
   "cell_type": "code",
   "execution_count": 65,
   "metadata": {
    "ExecuteTime": {
     "end_time": "2023-07-25T02:13:42.941112Z",
     "start_time": "2023-07-25T02:13:42.930942Z"
    }
   },
   "outputs": [],
   "source": [
    "def show_batch( origin, gt, generate, edge, save_path, file_name):\n",
    "    #     origin = origin.detach().cpu().permute(1, 2, 0).numpy()   \n",
    "    #     gt = gt.detach().cpu().permute(1, 2, 0).numpy()\n",
    "    #     generate = generate.detach().cpu().permute(1, 2, 0).numpy()\n",
    "    #     edge = generate.detach().cpu().permute(1, 2, 0).numpy()\n",
    "    \n",
    "    iou_score = mean_iou_np(gt, generate)\n",
    "    dice_score = mean_dice_np(gt, generate)\n",
    "    pr_score = positive_recall(gt, generate)\n",
    "    nr_score = negative_recall(gt, generate)\n",
    "    images = [origin, gt, generate, edge]\n",
    "    titles = ['input', 'gt', 'generated', \"edge\"]\n",
    "    score = [[\"iou\", iou_score] ,[ \"dice\", dice_score] ,[ \"pr\", pr_score] ,[ \"nr\", nr_score]]\n",
    "    fig, ax = plt.subplots(1, 4, figsize=(20,15))\n",
    "    for idx,img in enumerate(images):\n",
    "        if idx == 0:\n",
    "            imgan = images[0]\n",
    "        else:\n",
    "            imgan = img\n",
    "        # print(idx, imgan.shape)\n",
    "        # print( np.min(imgan) )\n",
    "        imgan = np.array((imgan - np.min(imgan))/(np.max(imgan) - np.min(imgan)) * 255, dtype = np.uint8)\n",
    "        imgan = cv2.cvtColor(imgan, cv2.COLOR_RGB2BGR)\n",
    "        \n",
    "        ax[idx].imshow(imgan)\n",
    "        ax[idx].axis(\"off\")\n",
    "        \n",
    "    for idx, title in enumerate(titles):    \n",
    "        ax[idx].set_title('{}'.format(title), fontsize=12)\n",
    "        #ax[idx].set_xlabel(\"{} {:.4f}\".format(score[idx][0], score[idx][1]))\n",
    "    \n",
    "    f = plt.gcf()  #获取当前图像\n",
    "    f.savefig(save_path + '/{}.png'.format(file_name))\n",
    "\n",
    "    f.clear()  #释放\n",
    "    \n",
    "    "
   ]
  },
  {
   "cell_type": "code",
   "execution_count": 66,
   "metadata": {
    "ExecuteTime": {
     "end_time": "2023-07-25T02:13:43.913895Z",
     "start_time": "2023-07-25T02:13:43.901907Z"
    }
   },
   "outputs": [],
   "source": [
    "trainer.model = trainer.model.cuda()"
   ]
  },
  {
   "cell_type": "code",
   "execution_count": 67,
   "metadata": {
    "ExecuteTime": {
     "end_time": "2023-07-25T02:13:44.124407Z",
     "start_time": "2023-07-25T02:13:44.116429Z"
    }
   },
   "outputs": [
    {
     "data": {
      "text/plain": [
       "('./test/FL_GPU_ja/infers/', '14.png')"
      ]
     },
     "execution_count": 67,
     "metadata": {},
     "output_type": "execute_result"
    }
   ],
   "source": [
    "save_path, file_name"
   ]
  },
  {
   "cell_type": "code",
   "execution_count": 68,
   "metadata": {
    "ExecuteTime": {
     "end_time": "2023-07-25T02:14:01.128162Z",
     "start_time": "2023-07-25T02:13:44.265999Z"
    }
   },
   "outputs": [
    {
     "name": "stdout",
     "output_type": "stream",
     "text": [
      "ETA:  0  /  1.467\r"
     ]
    },
    {
     "ename": "KeyboardInterrupt",
     "evalue": "",
     "output_type": "error",
     "traceback": [
      "\u001b[1;31m---------------------------------------------------------------------------\u001b[0m",
      "\u001b[1;31mKeyboardInterrupt\u001b[0m                         Traceback (most recent call last)",
      "Input \u001b[1;32mIn [68]\u001b[0m, in \u001b[0;36m<cell line: 5>\u001b[1;34m()\u001b[0m\n\u001b[0;32m     30\u001b[0m imgan_ \u001b[38;5;241m=\u001b[39m cv2\u001b[38;5;241m.\u001b[39mcvtColor(imgan_, cv2\u001b[38;5;241m.\u001b[39mCOLOR_RGB2BGR)\n\u001b[0;32m     31\u001b[0m imGray_edge \u001b[38;5;241m=\u001b[39m cv2\u001b[38;5;241m.\u001b[39mcvtColor(imgan_, cv2\u001b[38;5;241m.\u001b[39mCOLOR_BGR2GRAY)\n\u001b[1;32m---> 33\u001b[0m \u001b[43mshow_batch\u001b[49m\u001b[43m(\u001b[49m\u001b[43mimage\u001b[49m\u001b[43m,\u001b[49m\u001b[43m \u001b[49m\u001b[43mgt\u001b[49m\u001b[43m,\u001b[49m\u001b[43m \u001b[49m\u001b[43mimGray\u001b[49m\u001b[43m,\u001b[49m\u001b[43m \u001b[49m\u001b[43mimGray_edge\u001b[49m\u001b[43m,\u001b[49m\u001b[43m \u001b[49m\u001b[43msave_path\u001b[49m\u001b[43m,\u001b[49m\u001b[43m \u001b[49m\u001b[43mfile_name\u001b[49m\u001b[43m[\u001b[49m\u001b[43m:\u001b[49m\u001b[38;5;241;43m-\u001b[39;49m\u001b[38;5;241;43m4\u001b[39;49m\u001b[43m]\u001b[49m\u001b[43m)\u001b[49m\n\u001b[0;32m     34\u001b[0m \u001b[38;5;28;01mif\u001b[39;00m index \u001b[38;5;241m%\u001b[39m \u001b[38;5;241m100\u001b[39m \u001b[38;5;241m==\u001b[39m \u001b[38;5;241m0\u001b[39m:\n\u001b[0;32m     35\u001b[0m     \u001b[38;5;28mprint\u001b[39m(\u001b[38;5;124m\"\u001b[39m\u001b[38;5;124mETA: \u001b[39m\u001b[38;5;124m\"\u001b[39m, index,\u001b[38;5;124m\"\u001b[39m\u001b[38;5;124m / \u001b[39m\u001b[38;5;124m\"\u001b[39m ,np\u001b[38;5;241m.\u001b[39mround(( total \u001b[38;5;241m-\u001b[39m index )\u001b[38;5;241m*\u001b[39m(datetime\u001b[38;5;241m.\u001b[39mdatetime\u001b[38;5;241m.\u001b[39mnow() \u001b[38;5;241m-\u001b[39m start_time)\u001b[38;5;241m.\u001b[39mseconds \u001b[38;5;241m/\u001b[39m \u001b[38;5;241m60\u001b[39m, \u001b[38;5;241m3\u001b[39m) , end\u001b[38;5;241m=\u001b[39m\u001b[38;5;124m'\u001b[39m\u001b[38;5;130;01m\\r\u001b[39;00m\u001b[38;5;124m'\u001b[39m)\n",
      "Input \u001b[1;32mIn [65]\u001b[0m, in \u001b[0;36mshow_batch\u001b[1;34m(origin, gt, generate, edge, save_path, file_name)\u001b[0m\n\u001b[0;32m     32\u001b[0m f \u001b[38;5;241m=\u001b[39m plt\u001b[38;5;241m.\u001b[39mgcf()  \u001b[38;5;66;03m#获取当前图像\u001b[39;00m\n\u001b[0;32m     33\u001b[0m f\u001b[38;5;241m.\u001b[39msavefig(save_path \u001b[38;5;241m+\u001b[39m \u001b[38;5;124m'\u001b[39m\u001b[38;5;124m/\u001b[39m\u001b[38;5;132;01m{}\u001b[39;00m\u001b[38;5;124m.png\u001b[39m\u001b[38;5;124m'\u001b[39m\u001b[38;5;241m.\u001b[39mformat(file_name))\n\u001b[1;32m---> 35\u001b[0m \u001b[43mf\u001b[49m\u001b[38;5;241;43m.\u001b[39;49m\u001b[43mclear\u001b[49m\u001b[43m(\u001b[49m\u001b[43m)\u001b[49m\n",
      "File \u001b[1;32mE:\\anaconda\\envs\\DSIM\\lib\\site-packages\\matplotlib\\figure.py:3113\u001b[0m, in \u001b[0;36mFigure.clear\u001b[1;34m(self, keep_observers)\u001b[0m\n\u001b[0;32m   3111\u001b[0m \u001b[38;5;28;01mdef\u001b[39;00m \u001b[38;5;21mclear\u001b[39m(\u001b[38;5;28mself\u001b[39m, keep_observers\u001b[38;5;241m=\u001b[39m\u001b[38;5;28;01mFalse\u001b[39;00m):\n\u001b[0;32m   3112\u001b[0m     \u001b[38;5;66;03m# docstring inherited\u001b[39;00m\n\u001b[1;32m-> 3113\u001b[0m     \u001b[38;5;28;43msuper\u001b[39;49m\u001b[43m(\u001b[49m\u001b[43m)\u001b[49m\u001b[38;5;241;43m.\u001b[39;49m\u001b[43mclear\u001b[49m\u001b[43m(\u001b[49m\u001b[43mkeep_observers\u001b[49m\u001b[38;5;241;43m=\u001b[39;49m\u001b[43mkeep_observers\u001b[49m\u001b[43m)\u001b[49m\n\u001b[0;32m   3114\u001b[0m     \u001b[38;5;66;03m# FigureBase.clear does not clear toolbars, as\u001b[39;00m\n\u001b[0;32m   3115\u001b[0m     \u001b[38;5;66;03m# only Figure can have toolbars\u001b[39;00m\n\u001b[0;32m   3116\u001b[0m     toolbar \u001b[38;5;241m=\u001b[39m \u001b[38;5;28mself\u001b[39m\u001b[38;5;241m.\u001b[39mcanvas\u001b[38;5;241m.\u001b[39mtoolbar\n",
      "File \u001b[1;32mE:\\anaconda\\envs\\DSIM\\lib\\site-packages\\matplotlib\\figure.py:965\u001b[0m, in \u001b[0;36mFigureBase.clear\u001b[1;34m(self, keep_observers)\u001b[0m\n\u001b[0;32m    962\u001b[0m \u001b[38;5;28mself\u001b[39m\u001b[38;5;241m.\u001b[39msubfigs \u001b[38;5;241m=\u001b[39m []\n\u001b[0;32m    964\u001b[0m \u001b[38;5;28;01mfor\u001b[39;00m ax \u001b[38;5;129;01min\u001b[39;00m \u001b[38;5;28mtuple\u001b[39m(\u001b[38;5;28mself\u001b[39m\u001b[38;5;241m.\u001b[39maxes):  \u001b[38;5;66;03m# Iterate over the copy.\u001b[39;00m\n\u001b[1;32m--> 965\u001b[0m     \u001b[43max\u001b[49m\u001b[38;5;241;43m.\u001b[39;49m\u001b[43mclear\u001b[49m\u001b[43m(\u001b[49m\u001b[43m)\u001b[49m\n\u001b[0;32m    966\u001b[0m     \u001b[38;5;28mself\u001b[39m\u001b[38;5;241m.\u001b[39mdelaxes(ax)  \u001b[38;5;66;03m# Remove ax from self._axstack.\u001b[39;00m\n\u001b[0;32m    968\u001b[0m \u001b[38;5;28mself\u001b[39m\u001b[38;5;241m.\u001b[39martists \u001b[38;5;241m=\u001b[39m []\n",
      "File \u001b[1;32mE:\\anaconda\\envs\\DSIM\\lib\\site-packages\\matplotlib\\axes\\_base.py:1395\u001b[0m, in \u001b[0;36m_AxesBase.clear\u001b[1;34m(self)\u001b[0m\n\u001b[0;32m   1393\u001b[0m     \u001b[38;5;28mself\u001b[39m\u001b[38;5;241m.\u001b[39mcla()\n\u001b[0;32m   1394\u001b[0m \u001b[38;5;28;01melse\u001b[39;00m:\n\u001b[1;32m-> 1395\u001b[0m     \u001b[38;5;28;43mself\u001b[39;49m\u001b[38;5;241;43m.\u001b[39;49m\u001b[43m__clear\u001b[49m\u001b[43m(\u001b[49m\u001b[43m)\u001b[49m\n",
      "File \u001b[1;32mE:\\anaconda\\envs\\DSIM\\lib\\site-packages\\matplotlib\\axes\\_base.py:1281\u001b[0m, in \u001b[0;36m_AxesBase.__clear\u001b[1;34m(self)\u001b[0m\n\u001b[0;32m   1279\u001b[0m     axis\u001b[38;5;241m.\u001b[39mclear()  \u001b[38;5;66;03m# Also resets the scale to linear.\u001b[39;00m\n\u001b[0;32m   1280\u001b[0m \u001b[38;5;28;01mfor\u001b[39;00m spine \u001b[38;5;129;01min\u001b[39;00m \u001b[38;5;28mself\u001b[39m\u001b[38;5;241m.\u001b[39mspines\u001b[38;5;241m.\u001b[39mvalues():\n\u001b[1;32m-> 1281\u001b[0m     \u001b[43mspine\u001b[49m\u001b[38;5;241;43m.\u001b[39;49m\u001b[43mclear\u001b[49m\u001b[43m(\u001b[49m\u001b[43m)\u001b[49m\n\u001b[0;32m   1283\u001b[0m \u001b[38;5;28mself\u001b[39m\u001b[38;5;241m.\u001b[39mignore_existing_data_limits \u001b[38;5;241m=\u001b[39m \u001b[38;5;28;01mTrue\u001b[39;00m\n\u001b[0;32m   1284\u001b[0m \u001b[38;5;28mself\u001b[39m\u001b[38;5;241m.\u001b[39mcallbacks \u001b[38;5;241m=\u001b[39m cbook\u001b[38;5;241m.\u001b[39mCallbackRegistry(\n\u001b[0;32m   1285\u001b[0m     signals\u001b[38;5;241m=\u001b[39m[\u001b[38;5;124m\"\u001b[39m\u001b[38;5;124mxlim_changed\u001b[39m\u001b[38;5;124m\"\u001b[39m, \u001b[38;5;124m\"\u001b[39m\u001b[38;5;124mylim_changed\u001b[39m\u001b[38;5;124m\"\u001b[39m, \u001b[38;5;124m\"\u001b[39m\u001b[38;5;124mzlim_changed\u001b[39m\u001b[38;5;124m\"\u001b[39m])\n",
      "File \u001b[1;32mE:\\anaconda\\envs\\DSIM\\lib\\site-packages\\matplotlib\\spines.py:225\u001b[0m, in \u001b[0;36mSpine.clear\u001b[1;34m(self)\u001b[0m\n\u001b[0;32m    223\u001b[0m \u001b[38;5;28mself\u001b[39m\u001b[38;5;241m.\u001b[39m_position \u001b[38;5;241m=\u001b[39m \u001b[38;5;28;01mNone\u001b[39;00m  \u001b[38;5;66;03m# clear position\u001b[39;00m\n\u001b[0;32m    224\u001b[0m \u001b[38;5;28;01mif\u001b[39;00m \u001b[38;5;28mself\u001b[39m\u001b[38;5;241m.\u001b[39maxis \u001b[38;5;129;01mis\u001b[39;00m \u001b[38;5;129;01mnot\u001b[39;00m \u001b[38;5;28;01mNone\u001b[39;00m:\n\u001b[1;32m--> 225\u001b[0m     \u001b[38;5;28;43mself\u001b[39;49m\u001b[38;5;241;43m.\u001b[39;49m\u001b[43maxis\u001b[49m\u001b[38;5;241;43m.\u001b[39;49m\u001b[43mclear\u001b[49m\u001b[43m(\u001b[49m\u001b[43m)\u001b[49m\n",
      "File \u001b[1;32mE:\\anaconda\\envs\\DSIM\\lib\\site-packages\\matplotlib\\axis.py:891\u001b[0m, in \u001b[0;36mAxis.clear\u001b[1;34m(self)\u001b[0m\n\u001b[0;32m    885\u001b[0m \u001b[38;5;28mself\u001b[39m\u001b[38;5;241m.\u001b[39m_major_tick_kw[\u001b[38;5;124m'\u001b[39m\u001b[38;5;124mgridOn\u001b[39m\u001b[38;5;124m'\u001b[39m] \u001b[38;5;241m=\u001b[39m (\n\u001b[0;32m    886\u001b[0m         mpl\u001b[38;5;241m.\u001b[39mrcParams[\u001b[38;5;124m'\u001b[39m\u001b[38;5;124maxes.grid\u001b[39m\u001b[38;5;124m'\u001b[39m] \u001b[38;5;129;01mand\u001b[39;00m\n\u001b[0;32m    887\u001b[0m         mpl\u001b[38;5;241m.\u001b[39mrcParams[\u001b[38;5;124m'\u001b[39m\u001b[38;5;124maxes.grid.which\u001b[39m\u001b[38;5;124m'\u001b[39m] \u001b[38;5;129;01min\u001b[39;00m (\u001b[38;5;124m'\u001b[39m\u001b[38;5;124mboth\u001b[39m\u001b[38;5;124m'\u001b[39m, \u001b[38;5;124m'\u001b[39m\u001b[38;5;124mmajor\u001b[39m\u001b[38;5;124m'\u001b[39m))\n\u001b[0;32m    888\u001b[0m \u001b[38;5;28mself\u001b[39m\u001b[38;5;241m.\u001b[39m_minor_tick_kw[\u001b[38;5;124m'\u001b[39m\u001b[38;5;124mgridOn\u001b[39m\u001b[38;5;124m'\u001b[39m] \u001b[38;5;241m=\u001b[39m (\n\u001b[0;32m    889\u001b[0m         mpl\u001b[38;5;241m.\u001b[39mrcParams[\u001b[38;5;124m'\u001b[39m\u001b[38;5;124maxes.grid\u001b[39m\u001b[38;5;124m'\u001b[39m] \u001b[38;5;129;01mand\u001b[39;00m\n\u001b[0;32m    890\u001b[0m         mpl\u001b[38;5;241m.\u001b[39mrcParams[\u001b[38;5;124m'\u001b[39m\u001b[38;5;124maxes.grid.which\u001b[39m\u001b[38;5;124m'\u001b[39m] \u001b[38;5;129;01min\u001b[39;00m (\u001b[38;5;124m'\u001b[39m\u001b[38;5;124mboth\u001b[39m\u001b[38;5;124m'\u001b[39m, \u001b[38;5;124m'\u001b[39m\u001b[38;5;124mminor\u001b[39m\u001b[38;5;124m'\u001b[39m))\n\u001b[1;32m--> 891\u001b[0m \u001b[38;5;28;43mself\u001b[39;49m\u001b[38;5;241;43m.\u001b[39;49m\u001b[43mreset_ticks\u001b[49m\u001b[43m(\u001b[49m\u001b[43m)\u001b[49m\n\u001b[0;32m    893\u001b[0m \u001b[38;5;28mself\u001b[39m\u001b[38;5;241m.\u001b[39mconverter \u001b[38;5;241m=\u001b[39m \u001b[38;5;28;01mNone\u001b[39;00m\n\u001b[0;32m    894\u001b[0m \u001b[38;5;28mself\u001b[39m\u001b[38;5;241m.\u001b[39munits \u001b[38;5;241m=\u001b[39m \u001b[38;5;28;01mNone\u001b[39;00m\n",
      "File \u001b[1;32mE:\\anaconda\\envs\\DSIM\\lib\\site-packages\\matplotlib\\axis.py:914\u001b[0m, in \u001b[0;36mAxis.reset_ticks\u001b[1;34m(self)\u001b[0m\n\u001b[0;32m    912\u001b[0m     \u001b[38;5;28;01mpass\u001b[39;00m\n\u001b[0;32m    913\u001b[0m \u001b[38;5;28;01mtry\u001b[39;00m:\n\u001b[1;32m--> 914\u001b[0m     \u001b[38;5;28;43mself\u001b[39;49m\u001b[38;5;241;43m.\u001b[39;49m\u001b[43mset_clip_path\u001b[49m\u001b[43m(\u001b[49m\u001b[38;5;28;43mself\u001b[39;49m\u001b[38;5;241;43m.\u001b[39;49m\u001b[43maxes\u001b[49m\u001b[38;5;241;43m.\u001b[39;49m\u001b[43mpatch\u001b[49m\u001b[43m)\u001b[49m\n\u001b[0;32m    915\u001b[0m \u001b[38;5;28;01mexcept\u001b[39;00m \u001b[38;5;167;01mAttributeError\u001b[39;00m:\n\u001b[0;32m    916\u001b[0m     \u001b[38;5;28;01mpass\u001b[39;00m\n",
      "File \u001b[1;32mE:\\anaconda\\envs\\DSIM\\lib\\site-packages\\matplotlib\\axis.py:1083\u001b[0m, in \u001b[0;36mAxis.set_clip_path\u001b[1;34m(self, clippath, transform)\u001b[0m\n\u001b[0;32m   1082\u001b[0m \u001b[38;5;28;01mdef\u001b[39;00m \u001b[38;5;21mset_clip_path\u001b[39m(\u001b[38;5;28mself\u001b[39m, clippath, transform\u001b[38;5;241m=\u001b[39m\u001b[38;5;28;01mNone\u001b[39;00m):\n\u001b[1;32m-> 1083\u001b[0m     \u001b[38;5;28;43msuper\u001b[39;49m\u001b[43m(\u001b[49m\u001b[43m)\u001b[49m\u001b[38;5;241;43m.\u001b[39;49m\u001b[43mset_clip_path\u001b[49m\u001b[43m(\u001b[49m\u001b[43mclippath\u001b[49m\u001b[43m,\u001b[49m\u001b[43m \u001b[49m\u001b[43mtransform\u001b[49m\u001b[43m)\u001b[49m\n\u001b[0;32m   1084\u001b[0m     \u001b[38;5;28;01mfor\u001b[39;00m child \u001b[38;5;129;01min\u001b[39;00m \u001b[38;5;28mself\u001b[39m\u001b[38;5;241m.\u001b[39mmajorTicks \u001b[38;5;241m+\u001b[39m \u001b[38;5;28mself\u001b[39m\u001b[38;5;241m.\u001b[39mminorTicks:\n\u001b[0;32m   1085\u001b[0m         child\u001b[38;5;241m.\u001b[39mset_clip_path(clippath, transform)\n",
      "File \u001b[1;32mE:\\anaconda\\envs\\DSIM\\lib\\site-packages\\matplotlib\\artist.py:809\u001b[0m, in \u001b[0;36mArtist.set_clip_path\u001b[1;34m(self, path, transform)\u001b[0m\n\u001b[0;32m    806\u001b[0m \u001b[38;5;28;01mif\u001b[39;00m transform \u001b[38;5;129;01mis\u001b[39;00m \u001b[38;5;28;01mNone\u001b[39;00m:\n\u001b[0;32m    807\u001b[0m     \u001b[38;5;28;01mif\u001b[39;00m \u001b[38;5;28misinstance\u001b[39m(path, Rectangle):\n\u001b[0;32m    808\u001b[0m         \u001b[38;5;28mself\u001b[39m\u001b[38;5;241m.\u001b[39mclipbox \u001b[38;5;241m=\u001b[39m TransformedBbox(Bbox\u001b[38;5;241m.\u001b[39munit(),\n\u001b[1;32m--> 809\u001b[0m                                        \u001b[43mpath\u001b[49m\u001b[38;5;241;43m.\u001b[39;49m\u001b[43mget_transform\u001b[49m\u001b[43m(\u001b[49m\u001b[43m)\u001b[49m)\n\u001b[0;32m    810\u001b[0m         \u001b[38;5;28mself\u001b[39m\u001b[38;5;241m.\u001b[39m_clippath \u001b[38;5;241m=\u001b[39m \u001b[38;5;28;01mNone\u001b[39;00m\n\u001b[0;32m    811\u001b[0m         success \u001b[38;5;241m=\u001b[39m \u001b[38;5;28;01mTrue\u001b[39;00m\n",
      "File \u001b[1;32mE:\\anaconda\\envs\\DSIM\\lib\\site-packages\\matplotlib\\patches.py:264\u001b[0m, in \u001b[0;36mPatch.get_transform\u001b[1;34m(self)\u001b[0m\n\u001b[0;32m    262\u001b[0m \u001b[38;5;28;01mdef\u001b[39;00m \u001b[38;5;21mget_transform\u001b[39m(\u001b[38;5;28mself\u001b[39m):\n\u001b[0;32m    263\u001b[0m     \u001b[38;5;124;03m\"\"\"Return the `~.transforms.Transform` applied to the `Patch`.\"\"\"\u001b[39;00m\n\u001b[1;32m--> 264\u001b[0m     \u001b[38;5;28;01mreturn\u001b[39;00m \u001b[38;5;28;43mself\u001b[39;49m\u001b[38;5;241;43m.\u001b[39;49m\u001b[43mget_patch_transform\u001b[49m\u001b[43m(\u001b[49m\u001b[43m)\u001b[49m \u001b[38;5;241m+\u001b[39m artist\u001b[38;5;241m.\u001b[39mArtist\u001b[38;5;241m.\u001b[39mget_transform(\u001b[38;5;28mself\u001b[39m)\n",
      "File \u001b[1;32mE:\\anaconda\\envs\\DSIM\\lib\\site-packages\\matplotlib\\patches.py:756\u001b[0m, in \u001b[0;36mRectangle.get_patch_transform\u001b[1;34m(self)\u001b[0m\n\u001b[0;32m    753\u001b[0m \u001b[38;5;28;01melse\u001b[39;00m:\n\u001b[0;32m    754\u001b[0m     rotation_point \u001b[38;5;241m=\u001b[39m \u001b[38;5;28mself\u001b[39m\u001b[38;5;241m.\u001b[39mrotation_point\n\u001b[0;32m    755\u001b[0m \u001b[38;5;28;01mreturn\u001b[39;00m transforms\u001b[38;5;241m.\u001b[39mBboxTransformTo(bbox) \\\n\u001b[1;32m--> 756\u001b[0m         \u001b[38;5;241m+\u001b[39m \u001b[43mtransforms\u001b[49m\u001b[38;5;241;43m.\u001b[39;49m\u001b[43mAffine2D\u001b[49m\u001b[43m(\u001b[49m\u001b[43m)\u001b[49m \\\n\u001b[0;32m    757\u001b[0m         \u001b[38;5;241m.\u001b[39mtranslate(\u001b[38;5;241m-\u001b[39mrotation_point[\u001b[38;5;241m0\u001b[39m], \u001b[38;5;241m-\u001b[39mrotation_point[\u001b[38;5;241m1\u001b[39m]) \\\n\u001b[0;32m    758\u001b[0m         \u001b[38;5;241m.\u001b[39mscale(\u001b[38;5;241m1\u001b[39m, \u001b[38;5;28mself\u001b[39m\u001b[38;5;241m.\u001b[39m_aspect_ratio_correction) \\\n\u001b[0;32m    759\u001b[0m         \u001b[38;5;241m.\u001b[39mrotate_deg(\u001b[38;5;28mself\u001b[39m\u001b[38;5;241m.\u001b[39mangle) \\\n\u001b[0;32m    760\u001b[0m         \u001b[38;5;241m.\u001b[39mscale(\u001b[38;5;241m1\u001b[39m, \u001b[38;5;241m1\u001b[39m \u001b[38;5;241m/\u001b[39m \u001b[38;5;28mself\u001b[39m\u001b[38;5;241m.\u001b[39m_aspect_ratio_correction) \\\n\u001b[0;32m    761\u001b[0m         \u001b[38;5;241m.\u001b[39mtranslate(\u001b[38;5;241m*\u001b[39mrotation_point)\n",
      "File \u001b[1;32mE:\\anaconda\\envs\\DSIM\\lib\\site-packages\\matplotlib\\transforms.py:1895\u001b[0m, in \u001b[0;36mAffine2D.__init__\u001b[1;34m(self, matrix, **kwargs)\u001b[0m\n\u001b[0;32m   1892\u001b[0m \u001b[38;5;28;01mif\u001b[39;00m matrix \u001b[38;5;129;01mis\u001b[39;00m \u001b[38;5;28;01mNone\u001b[39;00m:\n\u001b[0;32m   1893\u001b[0m     \u001b[38;5;66;03m# A bit faster than np.identity(3).\u001b[39;00m\n\u001b[0;32m   1894\u001b[0m     matrix \u001b[38;5;241m=\u001b[39m IdentityTransform\u001b[38;5;241m.\u001b[39m_mtx\n\u001b[1;32m-> 1895\u001b[0m \u001b[38;5;28mself\u001b[39m\u001b[38;5;241m.\u001b[39m_mtx \u001b[38;5;241m=\u001b[39m \u001b[43mmatrix\u001b[49m\u001b[38;5;241;43m.\u001b[39;49m\u001b[43mcopy\u001b[49m\u001b[43m(\u001b[49m\u001b[43m)\u001b[49m\n\u001b[0;32m   1896\u001b[0m \u001b[38;5;28mself\u001b[39m\u001b[38;5;241m.\u001b[39m_invalid \u001b[38;5;241m=\u001b[39m \u001b[38;5;241m0\u001b[39m\n",
      "\u001b[1;31mKeyboardInterrupt\u001b[0m: "
     ]
    },
    {
     "data": {
      "text/plain": [
       "<Figure size 1440x1080 with 0 Axes>"
      ]
     },
     "metadata": {},
     "output_type": "display_data"
    },
    {
     "data": {
      "text/plain": [
       "<Figure size 1440x1080 with 0 Axes>"
      ]
     },
     "metadata": {},
     "output_type": "display_data"
    },
    {
     "data": {
      "text/plain": [
       "<Figure size 1440x1080 with 0 Axes>"
      ]
     },
     "metadata": {},
     "output_type": "display_data"
    },
    {
     "data": {
      "text/plain": [
       "<Figure size 1440x1080 with 0 Axes>"
      ]
     },
     "metadata": {},
     "output_type": "display_data"
    },
    {
     "data": {
      "text/plain": [
       "<Figure size 1440x1080 with 0 Axes>"
      ]
     },
     "metadata": {},
     "output_type": "display_data"
    },
    {
     "data": {
      "text/plain": [
       "<Figure size 1440x1080 with 0 Axes>"
      ]
     },
     "metadata": {},
     "output_type": "display_data"
    },
    {
     "data": {
      "text/plain": [
       "<Figure size 1440x1080 with 0 Axes>"
      ]
     },
     "metadata": {},
     "output_type": "display_data"
    },
    {
     "data": {
      "text/plain": [
       "<Figure size 1440x1080 with 0 Axes>"
      ]
     },
     "metadata": {},
     "output_type": "display_data"
    },
    {
     "data": {
      "text/plain": [
       "<Figure size 1440x1080 with 0 Axes>"
      ]
     },
     "metadata": {},
     "output_type": "display_data"
    },
    {
     "data": {
      "text/plain": [
       "<Figure size 1440x1080 with 0 Axes>"
      ]
     },
     "metadata": {},
     "output_type": "display_data"
    },
    {
     "data": {
      "image/png": "[encoded data removed]",
      "text/plain": [
       "<Figure size 1440x1080 with 1 Axes>"
      ]
     },
     "metadata": {
      "needs_background": "light"
     },
     "output_type": "display_data"
    }
   ],
   "source": [
    "total = len(all_dataloader)\n",
    "score_list = []\n",
    "index = 0\n",
    "start_time = datetime.datetime.now() \n",
    "for image_dict in all_dataloader.photo_set:\n",
    "    image_path = image_dict[\"image\"]\n",
    "    image_gt_path = image_dict[\"gt\"]\n",
    "                               \n",
    "    image = all_dataloader.read_image_data(image_path)\n",
    "  \n",
    "    gt = all_dataloader.read_image_data(image_gt_path, True)\n",
    "    gt = cv2.resize(gt, (320,640))            \n",
    "    batch_image = all_dataloader.datagen_val( image )\n",
    "    batch_gt = all_dataloader.datagen_val( gt )\n",
    "    file_name = image_path.split(\"/\")[-1]\n",
    "\n",
    "    batch_image = batch_image.cuda()#cpu()\n",
    "    out = trainer.predict_batch(batch_image.unsqueeze(0))\n",
    "    mask = out[\"mask\"].squeeze().cpu().numpy()\n",
    "    edge = out[\"edge\"].squeeze().cpu().numpy()\n",
    "    image = batch_image.squeeze().permute(1,2,0).cpu().numpy()\n",
    "                   \n",
    "    mask[ mask >= 0.5 ] = 1\n",
    "    mask[ mask < 0.5 ] = 0\n",
    "    imgan = np.array(mask * 255, dtype = np.uint8)\n",
    "    imgan = cv2.cvtColor(imgan, cv2.COLOR_RGB2BGR)\n",
    "    imGray = cv2.cvtColor(imgan, cv2.COLOR_BGR2GRAY)\n",
    "                               \n",
    "    imgan_ = np.array(edge * 255, dtype = np.uint8)\n",
    "    imgan_ = cv2.cvtColor(imgan_, cv2.COLOR_RGB2BGR)\n",
    "    imGray_edge = cv2.cvtColor(imgan_, cv2.COLOR_BGR2GRAY)\n",
    "                               \n",
    "    show_batch(image, gt, imGray, imGray_edge, save_path, file_name[:-4])\n",
    "    if index % 100 == 0:\n",
    "        print(\"ETA: \", index,\" / \" ,np.round(( total - index )*(datetime.datetime.now() - start_time).seconds / 60, 3) , end='\\r')\n",
    "        start_time = datetime.datetime.now() \n",
    "    index += 1\n",
    "print(\"done  500  /  0 \")"
   ]
  },
  {
   "cell_type": "code",
   "execution_count": null,
   "metadata": {},
   "outputs": [],
   "source": []
  }
 ],
 "metadata": {
  "hide_input": false,
  "kernelspec": {
   "display_name": "DSIM",
   "language": "python",
   "name": "dsim"
  },
  "language_info": {
   "codemirror_mode": {
    "name": "ipython",
    "version": 3
   },
   "file_extension": ".py",
   "mimetype": "text/x-python",
   "name": "python",
   "nbconvert_exporter": "python",
   "pygments_lexer": "ipython3",
   "version": "3.10.4"
  },
  "latex_envs": {
   "LaTeX_envs_menu_present": true,
   "autoclose": false,
   "autocomplete": true,
   "bibliofile": "biblio.bib",
   "cite_by": "apalike",
   "current_citInitial": 1,
   "eqLabelWithNumbers": true,
   "eqNumInitial": 1,
   "hotkeys": {
    "equation": "Ctrl-E",
    "itemize": "Ctrl-I"
   },
   "labels_anchors": false,
   "latex_user_defs": false,
   "report_style_numbering": false,
   "user_envs_cfg": false
  },
  "toc": {
   "base_numbering": 1,
   "nav_menu": {},
   "number_sections": true,
   "sideBar": true,
   "skip_h1_title": false,
   "title_cell": "Table of Contents",
   "title_sidebar": "Contents",
   "toc_cell": false,
   "toc_position": {},
   "toc_section_display": true,
   "toc_window_display": false
  },
  "varInspector": {
   "cols": {
    "lenName": 16,
    "lenType": 16,
    "lenVar": 40
   },
   "kernels_config": {
    "python": {
     "delete_cmd_postfix": "",
     "delete_cmd_prefix": "del ",
     "library": "var_list.py",
     "varRefreshCmd": "print(var_dic_list())"
    },
    "r": {
     "delete_cmd_postfix": ") ",
     "delete_cmd_prefix": "rm(",
     "library": "var_list.r",
     "varRefreshCmd": "cat(var_dic_list()) "
    }
   },
   "types_to_exclude": [
    "module",
    "function",
    "builtin_function_or_method",
    "instance",
    "_Feature"
   ],
   "window_display": false
  }
 },
 "nbformat": 4,
 "nbformat_minor": 2
}
