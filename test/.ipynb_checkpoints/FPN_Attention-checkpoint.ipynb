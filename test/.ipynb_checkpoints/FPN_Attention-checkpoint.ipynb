{
 "cells": [
  {
   "cell_type": "code",
   "execution_count": 2,
   "metadata": {
    "ExecuteTime": {
     "end_time": "2023-07-01T01:05:51.328357Z",
     "start_time": "2023-07-01T01:05:43.201613Z"
    }
   },
   "outputs": [
    {
     "name": "stderr",
     "output_type": "stream",
     "text": [
      "E:\\anaconda\\envs\\DSIM\\lib\\site-packages\\tqdm\\auto.py:22: TqdmWarning: IProgress not found. Please update jupyter and ipywidgets. See https://ipywidgets.readthedocs.io/en/stable/user_install.html\n",
      "  from .autonotebook import tqdm as notebook_tqdm\n"
     ]
    }
   ],
   "source": [
    "import torch\n",
    "import torch.nn as nn\n",
    "import sys\n",
    "sys.path.append(\"..\")\n",
    "import torch\n",
    "import torch.nn as nn\n",
    "import torch.nn.functional as F\n",
    "from model.util import MinPool\n",
    "from model.RESUNet import ResBlock\n",
    "from model.model import *\n",
    "from model.util import cat_tensor, crop_tensor\n",
    "from model.model import Unet\n",
    "from model.FL_seris import Encode, Decode\n",
    "from torchsummary import summary\n",
    "from model.util import MinPool, cat_tensor, crop_tensor"
   ]
  },
  {
   "cell_type": "code",
   "execution_count": 3,
   "metadata": {
    "ExecuteTime": {
     "end_time": "2023-07-01T01:05:51.360338Z",
     "start_time": "2023-07-01T01:05:51.346324Z"
    }
   },
   "outputs": [],
   "source": [
    "from model.FL_base import FL_base"
   ]
  },
  {
   "cell_type": "code",
   "execution_count": 5,
   "metadata": {
    "ExecuteTime": {
     "end_time": "2023-07-01T01:05:51.468054Z",
     "start_time": "2023-07-01T01:05:51.454091Z"
    },
    "code_folding": []
   },
   "outputs": [],
   "source": [
    "class Unet(nn.Module):\n",
    "    def __init__(\n",
    "                self,\n",
    "                in_channel = 1,\n",
    "                out_channel = 1,\n",
    "                # block_layers=[6, 12, 24, 16], \n",
    "                # transition_layer = [256, 512, 1024, 1024],\n",
    "                middle_channel = [16, 32, 64, 128],\n",
    "              \n",
    "        ):\n",
    "        super(Unet,self).__init__()\n",
    "   \n",
    "        self.pre_encode = nn.Sequential(\n",
    "            Encode(in_channel, middle_channel[0], 4)\n",
    "        )\n",
    "        self.out = nn.Sequential(\n",
    "            nn.Conv2d( middle_channel[0], out_channel,1,1)\n",
    "        )\n",
    "        self.brige = nn.Sequential(\n",
    "            nn.Conv2d(middle_channel[-1], 2 * middle_channel[-1], 1,1),\n",
    "            nn.BatchNorm2d(2 * middle_channel[-1]),\n",
    "            nn.ReLU()\n",
    "        )\n",
    "        self.brige1 = nn.Sequential(\n",
    "            nn.Conv2d(middle_channel[-1], middle_channel[-1], 1,1),\n",
    "            nn.BatchNorm2d(middle_channel[-1]),\n",
    "            nn.ReLU()\n",
    "        )\n",
    "        self.last_decode = Decode(middle_channel[1], middle_channel[0], conv_type = \"conv\") \n",
    "        self.encode = nn.ModuleList(\n",
    "            [ Encode(\n",
    "                middle_channel[i], \n",
    "                middle_channel[ i+1 ], 2, \n",
    "                conv_type = \"conv\"\n",
    "            )  for i in range(3) ]\n",
    "        )\n",
    "        self.decode = nn.ModuleList(\n",
    "            [\n",
    "                Decode(\n",
    "                    2 * middle_channel[3 - i], \n",
    "                    2 * middle_channel[3 - i - 1], \n",
    "                    conv_type = \"conv\") \n",
    "                for i in range(3)\n",
    "            ]\n",
    "        )\n",
    "        \n",
    "    def feature(self, x):\n",
    "        xc_0, xp_0 = self.pre_encode(x)\n",
    "        ec_0, ep_0 = self.encode[0](xp_0)\n",
    "        ec_1, ep_1 = self.encode[1](ep_0)\n",
    "        ec_2, ep_2 = self.encode[2](ep_1)\n",
    "        \n",
    "        x_m = self.brige(ep_2)\n",
    "        x_n = self.brige1(ec_2)\n",
    "\n",
    "        d_0 = self.decode[0](x_m, x_n)\n",
    "        d_1 = self.decode[1](d_0, ec_1)\n",
    "        d_2 = self.decode[2](d_1, ec_0)\n",
    "        d_3 = self.last_decode(d_2, xc_0)\n",
    "        out = self.out(d_3)\n",
    "        return  out, 0\n",
    "    \n",
    "    \n",
    "    def forward(self, x):\n",
    "        x= self.feature(x)\n",
    "        return x"
   ]
  },
  {
   "cell_type": "code",
   "execution_count": 60,
   "metadata": {
    "ExecuteTime": {
     "end_time": "2023-07-01T03:28:20.350283Z",
     "start_time": "2023-07-01T03:28:20.325318Z"
    },
    "code_folding": [
     16,
     26,
     32,
     40,
     63,
     70
    ]
   },
   "outputs": [],
   "source": [
    "class FL_DETR(FL_base):\n",
    "    def __init__(\n",
    "                self,\n",
    "                in_channel = 1,\n",
    "                out_channel = 1,\n",
    "                encode_len = 4, \n",
    "                need_return_dict = False\n",
    "        ):\n",
    "        super(FL_FPN, self).__init__()\n",
    "        self.index_len = encode_len - 1\n",
    "        self.need_return_dict = need_return_dict\n",
    "        self.downsample = nn.AvgPool2d(2)\n",
    "        self.upsample = nn.Upsample(scale_factor = 2)\n",
    "        self.model = Unet()\n",
    "        self.edge_body = nn.Sequential(\n",
    "            ResBlock(1,4),\n",
    "            nn.Conv2d( 4, out_channel, 1, 1),\n",
    "            nn.ReLU(),\n",
    "        )\n",
    "        \n",
    "    def build_feature_pyramid(self, x): # 80\n",
    "        x_list = []\n",
    "        x_list.append(x)\n",
    "        for i in range(self.index_len):\n",
    "            x = self.downsample(x) \n",
    "            x_list.append( x )\n",
    "        #         for i in range(self.index_len):\n",
    "        #             print(x_list[i].shape)\n",
    "        return   x_list\n",
    "    \n",
    "    def get_embeding(self, x_list):\n",
    "        x_embed1 = crop_tensorensor(x_list[0], 4, 8)\n",
    "        x_embed2 = crop_tensor(x_list[1], 2, 4)\n",
    "        x_embed3 = crop_tensor(x_list[2], 1, 2)\n",
    "        return x_embed1, x_embed2, x_embed3\n",
    "    \n",
    "    def get_embeding_detail(self, x, w, h):\n",
    "        x_re1 = crop_tensor(x, w, h)   \n",
    "        return x_re1\n",
    "    \n",
    "    def re_build_detail(self, x, w, h):\n",
    "        x_re1 = cat_tensor(x, w, h)   \n",
    "        return x_re1\n",
    "    \n",
    "    def re_build(self, x_list):\n",
    "        # x = x.permute(0, 2, 1, 3, 4)\n",
    "        x_re1 = self.re_build_detail(x_list[0], 4, 8)\n",
    "        x_re2 = self.re_build_detail(x_list[1], 2, 4)\n",
    "        x_re3 = self.re_build_detail(x_list[2], 1, 2)\n",
    "        return x_re1, x_re2, x_re3\n",
    "    \n",
    "    def ext_feature(self, x):\n",
    "        # x_feature_list = []\n",
    "        \n",
    "        feature = self.ext_feature_batch(x[2], 1, 2)\n",
    "        attn_map = self.re_build_detail(feature, 1, 2)\n",
    "        \n",
    "        feature = self.ext_feature_batch(x[1], 2, 4, attention_map = attn_map)\n",
    "        attn_map = self.re_build_detail(feature, 2, 4)\n",
    "        \n",
    "        feature = self.ext_feature_batch(x[0], 4, 8, attention_map = attn_map)\n",
    "        hot_map = self.re_build_detail(feature, 4, 8)\n",
    "        \n",
    "        return hot_map\n",
    "\n",
    "    def ext_feature_batch(self, x, w, h, attention_map = None):\n",
    "        \n",
    "        if attention_map is not None:\n",
    "            x = x * self.upsample(attention_map)\n",
    "        \n",
    "        print(x.shape, w, h)\n",
    "        x_embed = self.get_embeding_detail(x, w, h)\n",
    "        BB, B, C, W, H =  x_embed.shape\n",
    "        \n",
    "        batch_item_combined_hm_preds = []\n",
    "        for batch_index in range(BB): \n",
    "\n",
    "            batch_item_x_embed = x_embed[batch_index,:,:,:,:]\n",
    "            #### your forward model here\n",
    "            output, _ = self.model( batch_item_x_embed )\n",
    "            #### \n",
    "            batch_item_combined_hm_preds.append(output)\n",
    "\n",
    "        x_combine = torch.stack(batch_item_combined_hm_preds, 0)\n",
    "        return x_combine\n",
    "    \n",
    "\n",
    "    def build_results(self, x,y,z):\n",
    "        return {\n",
    "            \"mask\": x,\n",
    "            \"cmask\": y,\n",
    "            \"edge\":z,\n",
    "        }\n",
    "    \n",
    "    def edge_hot_map(self, x):\n",
    "        edge = nn.functional.pad(x, (1, 0, 1, 0))\n",
    "        edge = self.dilate(edge) - self.erode(edge)\n",
    "        edge = self.edge_body(edge)\n",
    "        return edge\n",
    "    \n",
    "    def forward(self, x):  \n",
    "        x_list = self.build_feature_pyramid(x)\n",
    "        out = self.ext_feature(x_list)\n",
    "        edge = self.edge_hot_map(out)\n",
    "        return self.build_results(out, out, edge) if self.need_return_dict else (out, out, edge)\n"
   ]
  },
  {
   "cell_type": "code",
   "execution_count": 61,
   "metadata": {
    "ExecuteTime": {
     "end_time": "2023-07-01T03:28:21.322857Z",
     "start_time": "2023-07-01T03:28:21.285015Z"
    }
   },
   "outputs": [],
   "source": [
    "model = FL_FPN()"
   ]
  },
  {
   "cell_type": "code",
   "execution_count": 62,
   "metadata": {
    "ExecuteTime": {
     "end_time": "2023-07-01T03:28:21.590444Z",
     "start_time": "2023-07-01T03:28:21.572479Z"
    }
   },
   "outputs": [],
   "source": [
    "image = torch.zeros((2,1,320,640))"
   ]
  },
  {
   "cell_type": "code",
   "execution_count": 63,
   "metadata": {
    "ExecuteTime": {
     "end_time": "2023-07-01T03:28:22.719591Z",
     "start_time": "2023-07-01T03:28:21.814936Z"
    },
    "scrolled": false
   },
   "outputs": [
    {
     "name": "stdout",
     "output_type": "stream",
     "text": [
      "torch.Size([2, 1, 80, 160]) 1 2\n",
      "torch.Size([2, 1, 160, 320]) 2 4\n",
      "torch.Size([2, 1, 320, 640]) 4 8\n"
     ]
    },
    {
     "data": {
      "text/plain": [
       "(tensor([[[[ 0.4556,  0.2871,  0.6322,  ...,  0.5112,  0.6055,  0.5030],\n",
       "           [ 0.1032,  0.1723,  0.9200,  ...,  0.2042,  0.5902,  0.5217],\n",
       "           [ 0.3199,  0.3158,  0.2130,  ...,  0.9888, -0.3649,  0.4125],\n",
       "           ...,\n",
       "           [ 0.3667,  0.1408,  0.4353,  ...,  0.4583,  0.6676,  0.4669],\n",
       "           [ 0.4667,  0.3416,  0.5208,  ...,  0.4969,  0.2872,  0.3834],\n",
       "           [ 0.6321,  0.7829,  0.4685,  ...,  0.5026,  0.8143,  0.0414]]],\n",
       " \n",
       " \n",
       "         [[[ 0.4556,  0.2871,  0.6322,  ...,  0.5112,  0.6055,  0.5030],\n",
       "           [ 0.1032,  0.1723,  0.9200,  ...,  0.2042,  0.5902,  0.5217],\n",
       "           [ 0.3199,  0.3158,  0.2130,  ...,  0.9888, -0.3649,  0.4125],\n",
       "           ...,\n",
       "           [ 0.3667,  0.1408,  0.4353,  ...,  0.4583,  0.6676,  0.4669],\n",
       "           [ 0.4667,  0.3416,  0.5208,  ...,  0.4969,  0.2872,  0.3834],\n",
       "           [ 0.6321,  0.7829,  0.4685,  ...,  0.5026,  0.8143,  0.0414]]]],\n",
       "        grad_fn=<CatBackward0>),\n",
       " tensor([[[[ 0.4556,  0.2871,  0.6322,  ...,  0.5112,  0.6055,  0.5030],\n",
       "           [ 0.1032,  0.1723,  0.9200,  ...,  0.2042,  0.5902,  0.5217],\n",
       "           [ 0.3199,  0.3158,  0.2130,  ...,  0.9888, -0.3649,  0.4125],\n",
       "           ...,\n",
       "           [ 0.3667,  0.1408,  0.4353,  ...,  0.4583,  0.6676,  0.4669],\n",
       "           [ 0.4667,  0.3416,  0.5208,  ...,  0.4969,  0.2872,  0.3834],\n",
       "           [ 0.6321,  0.7829,  0.4685,  ...,  0.5026,  0.8143,  0.0414]]],\n",
       " \n",
       " \n",
       "         [[[ 0.4556,  0.2871,  0.6322,  ...,  0.5112,  0.6055,  0.5030],\n",
       "           [ 0.1032,  0.1723,  0.9200,  ...,  0.2042,  0.5902,  0.5217],\n",
       "           [ 0.3199,  0.3158,  0.2130,  ...,  0.9888, -0.3649,  0.4125],\n",
       "           ...,\n",
       "           [ 0.3667,  0.1408,  0.4353,  ...,  0.4583,  0.6676,  0.4669],\n",
       "           [ 0.4667,  0.3416,  0.5208,  ...,  0.4969,  0.2872,  0.3834],\n",
       "           [ 0.6321,  0.7829,  0.4685,  ...,  0.5026,  0.8143,  0.0414]]]],\n",
       "        grad_fn=<CatBackward0>),\n",
       " tensor([[[[0.0000, 0.0000, 0.0000,  ..., 0.0000, 0.0000, 0.6290],\n",
       "           [0.0000, 0.0000, 0.0000,  ..., 0.0000, 0.0000, 1.5972],\n",
       "           [0.0000, 0.0000, 0.0000,  ..., 0.0000, 0.0000, 0.6057],\n",
       "           ...,\n",
       "           [0.0000, 0.0000, 0.0000,  ..., 0.0000, 0.0000, 0.0657],\n",
       "           [0.0000, 0.0000, 0.0000,  ..., 0.0000, 0.0000, 0.0000],\n",
       "           [0.0000, 0.0000, 0.0000,  ..., 0.0000, 0.0000, 0.0000]]],\n",
       " \n",
       " \n",
       "         [[[0.0000, 0.0000, 0.0000,  ..., 0.0000, 0.0000, 0.6290],\n",
       "           [0.0000, 0.0000, 0.0000,  ..., 0.0000, 0.0000, 1.5972],\n",
       "           [0.0000, 0.0000, 0.0000,  ..., 0.0000, 0.0000, 0.6057],\n",
       "           ...,\n",
       "           [0.0000, 0.0000, 0.0000,  ..., 0.0000, 0.0000, 0.0657],\n",
       "           [0.0000, 0.0000, 0.0000,  ..., 0.0000, 0.0000, 0.0000],\n",
       "           [0.0000, 0.0000, 0.0000,  ..., 0.0000, 0.0000, 0.0000]]]],\n",
       "        grad_fn=<ReluBackward0>))"
      ]
     },
     "execution_count": 63,
     "metadata": {},
     "output_type": "execute_result"
    }
   ],
   "source": [
    "model(image)"
   ]
  },
  {
   "cell_type": "code",
   "execution_count": 25,
   "metadata": {
    "ExecuteTime": {
     "end_time": "2023-06-29T07:26:50.839111Z",
     "start_time": "2023-06-29T07:26:50.826050Z"
    }
   },
   "outputs": [
    {
     "name": "stdout",
     "output_type": "stream",
     "text": [
      "torch.Size([2, 1, 320, 640])\n",
      "torch.Size([2, 1, 160, 320])\n",
      "torch.Size([2, 1, 80, 160])\n",
      "torch.Size([2, 1, 40, 80])\n"
     ]
    }
   ],
   "source": [
    "l = model.build_feature_pyramid(image)"
   ]
  },
  {
   "cell_type": "code",
   "execution_count": 35,
   "metadata": {
    "ExecuteTime": {
     "end_time": "2023-06-29T07:32:22.683859Z",
     "start_time": "2023-06-29T07:32:22.664849Z"
    }
   },
   "outputs": [
    {
     "data": {
      "text/plain": [
       "(torch.Size([2, 32, 1, 80, 80]),\n",
       " torch.Size([2, 8, 1, 80, 80]),\n",
       " torch.Size([2, 2, 1, 80, 80]))"
      ]
     },
     "execution_count": 35,
     "metadata": {},
     "output_type": "execute_result"
    }
   ],
   "source": [
    "cr1 = crop_tensor(l[0], 4, 8)\n",
    "cr2 = crop_tensor(l[1], 2, 4)\n",
    "cr3 = crop_tensor(l[2], 1, 2)\n",
    "cr1.shape, cr2.shape, cr3.shape"
   ]
  },
  {
   "cell_type": "code",
   "execution_count": null,
   "metadata": {},
   "outputs": [],
   "source": [
    "cr = crop_tensor(l[0], 2, 4)\n",
    "cr.shape"
   ]
  },
  {
   "cell_type": "code",
   "execution_count": null,
   "metadata": {},
   "outputs": [],
   "source": []
  },
  {
   "cell_type": "code",
   "execution_count": 21,
   "metadata": {
    "ExecuteTime": {
     "end_time": "2023-06-29T07:14:05.071053Z",
     "start_time": "2023-06-29T07:14:05.048058Z"
    }
   },
   "outputs": [
    {
     "name": "stdout",
     "output_type": "stream",
     "text": [
      "torch.Size([2, 1, 320, 640])\n",
      "torch.Size([2, 1, 160, 320])\n",
      "torch.Size([2, 1, 80, 160])\n",
      "torch.Size([2, 1, 40, 80])\n"
     ]
    },
    {
     "data": {
      "text/plain": [
       "[tensor([[[[0., 0., 0.,  ..., 0., 0., 0.],\n",
       "           [0., 0., 0.,  ..., 0., 0., 0.],\n",
       "           [0., 0., 0.,  ..., 0., 0., 0.],\n",
       "           ...,\n",
       "           [0., 0., 0.,  ..., 0., 0., 0.],\n",
       "           [0., 0., 0.,  ..., 0., 0., 0.],\n",
       "           [0., 0., 0.,  ..., 0., 0., 0.]]],\n",
       " \n",
       " \n",
       "         [[[0., 0., 0.,  ..., 0., 0., 0.],\n",
       "           [0., 0., 0.,  ..., 0., 0., 0.],\n",
       "           [0., 0., 0.,  ..., 0., 0., 0.],\n",
       "           ...,\n",
       "           [0., 0., 0.,  ..., 0., 0., 0.],\n",
       "           [0., 0., 0.,  ..., 0., 0., 0.],\n",
       "           [0., 0., 0.,  ..., 0., 0., 0.]]]]),\n",
       " tensor([[[[0., 0., 0.,  ..., 0., 0., 0.],\n",
       "           [0., 0., 0.,  ..., 0., 0., 0.],\n",
       "           [0., 0., 0.,  ..., 0., 0., 0.],\n",
       "           ...,\n",
       "           [0., 0., 0.,  ..., 0., 0., 0.],\n",
       "           [0., 0., 0.,  ..., 0., 0., 0.],\n",
       "           [0., 0., 0.,  ..., 0., 0., 0.]]],\n",
       " \n",
       " \n",
       "         [[[0., 0., 0.,  ..., 0., 0., 0.],\n",
       "           [0., 0., 0.,  ..., 0., 0., 0.],\n",
       "           [0., 0., 0.,  ..., 0., 0., 0.],\n",
       "           ...,\n",
       "           [0., 0., 0.,  ..., 0., 0., 0.],\n",
       "           [0., 0., 0.,  ..., 0., 0., 0.],\n",
       "           [0., 0., 0.,  ..., 0., 0., 0.]]]]),\n",
       " tensor([[[[0., 0., 0.,  ..., 0., 0., 0.],\n",
       "           [0., 0., 0.,  ..., 0., 0., 0.],\n",
       "           [0., 0., 0.,  ..., 0., 0., 0.],\n",
       "           ...,\n",
       "           [0., 0., 0.,  ..., 0., 0., 0.],\n",
       "           [0., 0., 0.,  ..., 0., 0., 0.],\n",
       "           [0., 0., 0.,  ..., 0., 0., 0.]]],\n",
       " \n",
       " \n",
       "         [[[0., 0., 0.,  ..., 0., 0., 0.],\n",
       "           [0., 0., 0.,  ..., 0., 0., 0.],\n",
       "           [0., 0., 0.,  ..., 0., 0., 0.],\n",
       "           ...,\n",
       "           [0., 0., 0.,  ..., 0., 0., 0.],\n",
       "           [0., 0., 0.,  ..., 0., 0., 0.],\n",
       "           [0., 0., 0.,  ..., 0., 0., 0.]]]]),\n",
       " tensor([[[[0., 0., 0.,  ..., 0., 0., 0.],\n",
       "           [0., 0., 0.,  ..., 0., 0., 0.],\n",
       "           [0., 0., 0.,  ..., 0., 0., 0.],\n",
       "           ...,\n",
       "           [0., 0., 0.,  ..., 0., 0., 0.],\n",
       "           [0., 0., 0.,  ..., 0., 0., 0.],\n",
       "           [0., 0., 0.,  ..., 0., 0., 0.]]],\n",
       " \n",
       " \n",
       "         [[[0., 0., 0.,  ..., 0., 0., 0.],\n",
       "           [0., 0., 0.,  ..., 0., 0., 0.],\n",
       "           [0., 0., 0.,  ..., 0., 0., 0.],\n",
       "           ...,\n",
       "           [0., 0., 0.,  ..., 0., 0., 0.],\n",
       "           [0., 0., 0.,  ..., 0., 0., 0.],\n",
       "           [0., 0., 0.,  ..., 0., 0., 0.]]]]),\n",
       " tensor([[[[0., 0., 0.,  ..., 0., 0., 0.],\n",
       "           [0., 0., 0.,  ..., 0., 0., 0.],\n",
       "           [0., 0., 0.,  ..., 0., 0., 0.],\n",
       "           ...,\n",
       "           [0., 0., 0.,  ..., 0., 0., 0.],\n",
       "           [0., 0., 0.,  ..., 0., 0., 0.],\n",
       "           [0., 0., 0.,  ..., 0., 0., 0.]]],\n",
       " \n",
       " \n",
       "         [[[0., 0., 0.,  ..., 0., 0., 0.],\n",
       "           [0., 0., 0.,  ..., 0., 0., 0.],\n",
       "           [0., 0., 0.,  ..., 0., 0., 0.],\n",
       "           ...,\n",
       "           [0., 0., 0.,  ..., 0., 0., 0.],\n",
       "           [0., 0., 0.,  ..., 0., 0., 0.],\n",
       "           [0., 0., 0.,  ..., 0., 0., 0.]]]])]"
      ]
     },
     "execution_count": 21,
     "metadata": {},
     "output_type": "execute_result"
    }
   ],
   "source": [
    "model(image)"
   ]
  },
  {
   "cell_type": "code",
   "execution_count": null,
   "metadata": {},
   "outputs": [],
   "source": []
  }
 ],
 "metadata": {
  "hide_input": false,
  "kernelspec": {
   "display_name": "DSIM",
   "language": "python",
   "name": "dsim"
  },
  "language_info": {
   "codemirror_mode": {
    "name": "ipython",
    "version": 3
   },
   "file_extension": ".py",
   "mimetype": "text/x-python",
   "name": "python",
   "nbconvert_exporter": "python",
   "pygments_lexer": "ipython3",
   "version": "3.10.4"
  },
  "latex_envs": {
   "LaTeX_envs_menu_present": true,
   "autoclose": false,
   "autocomplete": true,
   "bibliofile": "biblio.bib",
   "cite_by": "apalike",
   "current_citInitial": 1,
   "eqLabelWithNumbers": true,
   "eqNumInitial": 1,
   "hotkeys": {
    "equation": "Ctrl-E",
    "itemize": "Ctrl-I"
   },
   "labels_anchors": false,
   "latex_user_defs": false,
   "report_style_numbering": false,
   "user_envs_cfg": false
  },
  "toc": {
   "base_numbering": 1,
   "nav_menu": {},
   "number_sections": true,
   "sideBar": true,
   "skip_h1_title": false,
   "title_cell": "Table of Contents",
   "title_sidebar": "Contents",
   "toc_cell": false,
   "toc_position": {},
   "toc_section_display": true,
   "toc_window_display": false
  },
  "varInspector": {
   "cols": {
    "lenName": 16,
    "lenType": 16,
    "lenVar": 40
   },
   "kernels_config": {
    "python": {
     "delete_cmd_postfix": "",
     "delete_cmd_prefix": "del ",
     "library": "var_list.py",
     "varRefreshCmd": "print(var_dic_list())"
    },
    "r": {
     "delete_cmd_postfix": ") ",
     "delete_cmd_prefix": "rm(",
     "library": "var_list.r",
     "varRefreshCmd": "cat(var_dic_list()) "
    }
   },
   "types_to_exclude": [
    "module",
    "function",
    "builtin_function_or_method",
    "instance",
    "_Feature"
   ],
   "window_display": false
  }
 },
 "nbformat": 4,
 "nbformat_minor": 2
}
