{
 "cells": [
  {
   "cell_type": "code",
   "execution_count": 2,
   "metadata": {
    "ExecuteTime": {
     "end_time": "2023-06-22T08:55:06.220802Z",
     "start_time": "2023-06-22T08:55:04.899151Z"
    }
   },
   "outputs": [
    {
     "name": "stderr",
     "output_type": "stream",
     "text": [
      "E:\\anaconda\\envs\\DSIM\\lib\\site-packages\\tqdm\\auto.py:22: TqdmWarning: IProgress not found. Please update jupyter and ipywidgets. See https://ipywidgets.readthedocs.io/en/stable/user_install.html\n",
      "  from .autonotebook import tqdm as notebook_tqdm\n"
     ]
    }
   ],
   "source": [
    "import sys\n",
    "sys.path.append(\"..\")\n",
    "import torch\n",
    "import torch.nn as nn\n",
    "import torch.nn.functional as F\n",
    "from model.util import MinPool\n",
    "from model.RESUNet import ResBlock\n",
    "from model.model import *\n",
    "from model.util import cat_tensor, crop_tensor"
   ]
  },
  {
   "cell_type": "code",
   "execution_count": 10,
   "metadata": {
    "ExecuteTime": {
     "end_time": "2023-06-22T08:57:16.159565Z",
     "start_time": "2023-06-22T08:57:16.132637Z"
    }
   },
   "outputs": [],
   "source": [
    "\n",
    "\n",
    "class DecodeBlock(nn.Module):\n",
    "    def __init__(self, middle_channel = [8, 16, 32, 64, 128]):\n",
    "        super().__init__( )\n",
    "        self.pre = nn.Conv2d(in_channel, middle_channel[0], 1, 1)\n",
    "        \n",
    "        self.encode_1 = Encode(middle_channel[0], middle_channel[1], block_number)\n",
    "        self.encode_2 = Encode(middle_channel[1], middle_channel[2], block_number)\n",
    "        self.encode_3 = Encode(middle_channel[2], middle_channel[3], block_number)\n",
    "        self.encode_4 = Encode(middle_channel[3], middle_channel[4], block_number)\n",
    "        \n",
    "    def forward(self, x):\n",
    "        x = self.pre(x)\n",
    "        x1 = self.encode_1(x)\n",
    "        x2 = self.encode_2(x1)\n",
    "        x3 = self.encode_3(x2)\n",
    "        x4 = self.encode_4(x3)\n",
    "        return x1, x2, x3, x4\n",
    "\n",
    "class Encode(nn.Module):\n",
    "    def __init__(self, in_channel, out_channel, block_number = 1):\n",
    "        super().__init__( )\n",
    "        self.conv = RCS(in_channel, out_channel, block_number = block_number)\n",
    "        self.downsample = nn.MaxPool2d(2)\n",
    "        \n",
    "    def forward(self, x):\n",
    "        x1 = self.conv(x)\n",
    "        x2 = self.downsample(x1)\n",
    "        return x1, x2\n",
    "\n",
    "\n",
    "class EncodeBlock(nn.Module):\n",
    "    def __init__(self, in_channel, block_number = [ 2, 2, 2, 2], middle_channel = [8, 16, 32, 64, 128]):\n",
    "        super().__init__( )\n",
    "        self.pre = nn.Conv2d(in_channel, middle_channel[0], 1, 1)\n",
    "        \n",
    "        self.encode_1 = Encode(middle_channel[0], middle_channel[1], block_number[0])\n",
    "        self.encode_2 = Encode(middle_channel[1], middle_channel[2], block_number[1])\n",
    "        self.encode_3 = Encode(middle_channel[2], middle_channel[3], block_number[2])\n",
    "        self.encode_4 = Encode(middle_channel[3], middle_channel[4], block_number[3])\n",
    "        \n",
    "    def forward(self, x):\n",
    "        x = self.pre(x)\n",
    "        x_1_1, x_1_2 = self.encode_1(x)\n",
    "        x2 = self.encode_2(x1)\n",
    "        x3 = self.encode_3(x2)\n",
    "        x4 = self.encode_4(x3)\n",
    "        return x1, x2, x3, x4\n",
    "\n",
    "    \n",
    "class Decode(nn.Module):\n",
    "    def __init__(self, in_channel, out_channel):\n",
    "        super().__init__( )\n",
    "        self.deconv = DCBL( in_channel, out_channel)\n",
    "        self.conv = RCS(in_channel, out_channel)\n",
    "        \n",
    "    def forward(self, x, y):\n",
    "        x = self.deconv(x)\n",
    "        # print(x.shape, y.shape)\n",
    "        concat = torch.cat([x, y], dim=1)\n",
    "        x = self.conv(concat)\n",
    "        return x\n",
    "\n",
    "\n",
    "class UBlock(nn.Module):\n",
    "    def __init__(self, in_channel = 1, out_channel = 16, middle_channel = [ 8, 16, 32, 64, 128 ]):\n",
    "        super().__init__()\n",
    "        self.encode = EncodeBlock(in_channel, block_number = [ 2, 2, 2, 2], middle_channel = middle_channel )\n",
    "        self.brige = nn.Conv2d(middle_channel[-1], middle_channel[4], 1, 1)\n",
    "        self.decode_1 = Decode(middle_channel[2], middle_channel[1])\n",
    "        self.decode_2 = Decode(middle_channel[3], middle_channel[2])\n",
    "        self.decode_3 = Decode(middle_channel[4], middle_channel[3])\n",
    "        self.final = nn.Conv2d( middle_channel[1], out_channel, 1, 1)\n",
    "        self.up = nn.ConvTranspose2d( middle_channel[1], middle_channel[1], 2, 2)\n",
    "        self.sigmoid = nn.Sigmoid()\n",
    "    def forward(self, x):\n",
    "        x1, x2, x3, x4 = self.encode(x)\n",
    "        \n",
    "        x = self.decode_3(x4, x3)\n",
    "        x = self.decode_2(x, x2)\n",
    "        x = self.decode_1(x, x1)\n",
    "        x = self.up(x)\n",
    "        outp = self.sigmoid(self.final(x))\n",
    "        return  outp"
   ]
  },
  {
   "cell_type": "code",
   "execution_count": 11,
   "metadata": {
    "ExecuteTime": {
     "end_time": "2023-06-22T08:57:16.638352Z",
     "start_time": "2023-06-22T08:57:16.594402Z"
    }
   },
   "outputs": [
    {
     "data": {
      "text/plain": [
       "torch.Size([1, 1, 32, 32])"
      ]
     },
     "execution_count": 11,
     "metadata": {},
     "output_type": "execute_result"
    }
   ],
   "source": [
    "model = UBlock(1,1)\n",
    "model(torch.zeros((1,1,32,32))).shape"
   ]
  },
  {
   "cell_type": "code",
   "execution_count": 9,
   "metadata": {
    "ExecuteTime": {
     "end_time": "2023-06-22T08:38:10.077585Z",
     "start_time": "2023-06-22T08:38:09.970865Z"
    }
   },
   "outputs": [],
   "source": [
    "from model.FPN import FL_base\n",
    "\n",
    "class FL_tiny(FL_base):\n",
    "    def __init__(\n",
    "                self,\n",
    "                in_channel = 1,\n",
    "                out_channel = 1,\n",
    "                middle_channel = 1,\n",
    "                embed_shape = ( 2, 4),\n",
    "                batch_size = 16,\n",
    "                need_return_dict = False\n",
    "        ):\n",
    "        super(FL_tiny, self).__init__()\n",
    "     \n",
    "        self.batch_size = batch_size\n",
    "        self.embed_shape = embed_shape\n",
    "        self.need_return_dict = need_return_dict\n",
    "        self.middle_channel = middle_channel\n",
    "\n",
    "        # replace your model\n",
    "        ####################################\n",
    "        self.model = nn.Sequential(\n",
    "            UBlock(middle_channel, middle_channel)\n",
    "        )\n",
    "        ####################################\n",
    "        self.edge_body = nn.Sequential(\n",
    "            ResBlock(8,4),\n",
    "            nn.Conv2d( 4, out_channel, 1, 1),\n",
    "            nn.ReLU(),\n",
    "        )\n",
    "        ####################################\n",
    "        self.consit_body = nn.Sequential(\n",
    "            nn.Conv2d( middle_channel, 32, 4, 2, 1),\n",
    "            nn.BatchNorm2d(32),\n",
    "            nn.ReLU(),\n",
    "            nn.Upsample(scale_factor = 2),\n",
    "\n",
    "            nn.Conv2d( 32, 64, 3, 1, 1),\n",
    "            nn.BatchNorm2d(64),\n",
    "            nn.ReLU(),\n",
    "\n",
    "            nn.Conv2d( 64, 8, 2, 2),\n",
    "            nn.BatchNorm2d(8),\n",
    "            nn.ReLU(),\n",
    "            nn.Upsample(scale_factor = 2),\n",
    "        )\n",
    "        ####################################\n",
    "        \n",
    "        self.final = nn.Conv2d(8, out_channel, 1,1 )\n",
    "        self.edge_final = nn.Conv2d(8, out_channel, 1,1 )\n",
    "        self.relu = nn.ReLU()\n",
    "        self.sigmod = nn.Sigmoid()\n",
    "        \n",
    "        \n",
    "    def ext_feature(self, x):\n",
    "        B,C,W,H =  x.shape\n",
    "        x_embed = self.get_embeding(x) \n",
    "        batch_item_combined_hm_preds = []\n",
    "        for batch_index in range(B): \n",
    "\n",
    "            batch_item_x_embed = x_embed[batch_index,:,:,:,:]\n",
    "            # print(batch_item_x_embed.shape)\n",
    "            \n",
    "            #### your forward model here\n",
    "            output = self.model( batch_item_x_embed ) # only for mask not edge, edge will have another way\n",
    "            #### \n",
    "                \n",
    "            batch_item_combined_hm_preds.append(output)\n",
    "            \n",
    "        x_combine = torch.stack(batch_item_combined_hm_preds, 0)\n",
    "        outp = self.re_build(x_combine)\n",
    "\n",
    "        return outp\n",
    "    \n",
    "    def consist(self, x):\n",
    "        x = x.clone().detach()\n",
    "        x = self.consit_body(x)\n",
    "        return x\n",
    "    \n",
    "    def edge_hot_map(self, x):\n",
    "        edge = nn.functional.pad(x, (1, 0, 1, 0))\n",
    "        edge = self.dilate(edge) - self.erode(edge)\n",
    "        edge = self.edge_body(edge)\n",
    "        return edge\n",
    "    \n",
    "    def forward(self, x):   \n",
    "        x = self.downsample(x)\n",
    "        # print(x.shape)\n",
    "        x = self.ext_feature(x)\n",
    "        # print(x.shape)\n",
    "        outp = self.consist(x)\n",
    "        edge = self.edge_hot_map(outp)\n",
    "        \n",
    "        outp = self.final(outp)\n",
    "        outp = self.sigmod(outp * x)\n",
    "        # print(outp.shape, edge.shape)\n",
    "        outp = self.upsample(outp)\n",
    "        return self.build_results(outp, edge) if (self.need_return_dict) else (outp, edge)"
   ]
  },
  {
   "cell_type": "code",
   "execution_count": 10,
   "metadata": {
    "ExecuteTime": {
     "end_time": "2023-06-22T08:38:10.407118Z",
     "start_time": "2023-06-22T08:38:10.337885Z"
    }
   },
   "outputs": [
    {
     "ename": "NameError",
     "evalue": "name 'EncodeBlock' is not defined",
     "output_type": "error",
     "traceback": [
      "\u001b[1;31m---------------------------------------------------------------------------\u001b[0m",
      "\u001b[1;31mNameError\u001b[0m                                 Traceback (most recent call last)",
      "Input \u001b[1;32mIn [10]\u001b[0m, in \u001b[0;36m<cell line: 1>\u001b[1;34m()\u001b[0m\n\u001b[1;32m----> 1\u001b[0m model \u001b[38;5;241m=\u001b[39m \u001b[43mFL_tiny\u001b[49m\u001b[43m(\u001b[49m\u001b[43mbatch_size\u001b[49m\u001b[43m \u001b[49m\u001b[38;5;241;43m=\u001b[39;49m\u001b[43m \u001b[49m\u001b[38;5;241;43m2\u001b[39;49m\u001b[43m)\u001b[49m\n",
      "Input \u001b[1;32mIn [9]\u001b[0m, in \u001b[0;36mFL_tiny.__init__\u001b[1;34m(self, in_channel, out_channel, middle_channel, embed_shape, batch_size, need_return_dict)\u001b[0m\n\u001b[0;32m     18\u001b[0m \u001b[38;5;28mself\u001b[39m\u001b[38;5;241m.\u001b[39mmiddle_channel \u001b[38;5;241m=\u001b[39m middle_channel\n\u001b[0;32m     20\u001b[0m \u001b[38;5;66;03m# replace your model\u001b[39;00m\n\u001b[0;32m     21\u001b[0m \u001b[38;5;66;03m####################################\u001b[39;00m\n\u001b[0;32m     22\u001b[0m \u001b[38;5;28mself\u001b[39m\u001b[38;5;241m.\u001b[39mmodel \u001b[38;5;241m=\u001b[39m nn\u001b[38;5;241m.\u001b[39mSequential(\n\u001b[1;32m---> 23\u001b[0m     \u001b[43mUBlock\u001b[49m\u001b[43m(\u001b[49m\u001b[43mmiddle_channel\u001b[49m\u001b[43m,\u001b[49m\u001b[43m \u001b[49m\u001b[43mmiddle_channel\u001b[49m\u001b[43m)\u001b[49m\n\u001b[0;32m     24\u001b[0m )\n\u001b[0;32m     25\u001b[0m \u001b[38;5;66;03m####################################\u001b[39;00m\n\u001b[0;32m     26\u001b[0m \u001b[38;5;28mself\u001b[39m\u001b[38;5;241m.\u001b[39medge_body \u001b[38;5;241m=\u001b[39m nn\u001b[38;5;241m.\u001b[39mSequential(\n\u001b[0;32m     27\u001b[0m     ResBlock(\u001b[38;5;241m8\u001b[39m,\u001b[38;5;241m4\u001b[39m),\n\u001b[0;32m     28\u001b[0m     nn\u001b[38;5;241m.\u001b[39mConv2d( \u001b[38;5;241m4\u001b[39m, out_channel, \u001b[38;5;241m1\u001b[39m, \u001b[38;5;241m1\u001b[39m),\n\u001b[0;32m     29\u001b[0m     nn\u001b[38;5;241m.\u001b[39mReLU(),\n\u001b[0;32m     30\u001b[0m )\n",
      "Input \u001b[1;32mIn [6]\u001b[0m, in \u001b[0;36mUBlock.__init__\u001b[1;34m(self, in_channel, out_channel, middle_channel)\u001b[0m\n\u001b[0;32m      2\u001b[0m \u001b[38;5;28;01mdef\u001b[39;00m \u001b[38;5;21m__init__\u001b[39m(\u001b[38;5;28mself\u001b[39m, in_channel \u001b[38;5;241m=\u001b[39m \u001b[38;5;241m1\u001b[39m, out_channel \u001b[38;5;241m=\u001b[39m \u001b[38;5;241m16\u001b[39m, middle_channel \u001b[38;5;241m=\u001b[39m [ \u001b[38;5;241m8\u001b[39m, \u001b[38;5;241m16\u001b[39m, \u001b[38;5;241m32\u001b[39m, \u001b[38;5;241m64\u001b[39m, \u001b[38;5;241m128\u001b[39m ]):\n\u001b[0;32m      3\u001b[0m     \u001b[38;5;28msuper\u001b[39m()\u001b[38;5;241m.\u001b[39m\u001b[38;5;21m__init__\u001b[39m()\n\u001b[1;32m----> 4\u001b[0m     \u001b[38;5;28mself\u001b[39m\u001b[38;5;241m.\u001b[39mencode \u001b[38;5;241m=\u001b[39m \u001b[43mEncodeBlock\u001b[49m(in_channel, block_number \u001b[38;5;241m=\u001b[39m [ \u001b[38;5;241m2\u001b[39m, \u001b[38;5;241m2\u001b[39m, \u001b[38;5;241m2\u001b[39m, \u001b[38;5;241m2\u001b[39m], middle_channel \u001b[38;5;241m=\u001b[39m middle_channel )\n\u001b[0;32m      5\u001b[0m     \u001b[38;5;28mself\u001b[39m\u001b[38;5;241m.\u001b[39mbrige \u001b[38;5;241m=\u001b[39m nn\u001b[38;5;241m.\u001b[39mConv2d(middle_channel[\u001b[38;5;241m-\u001b[39m\u001b[38;5;241m1\u001b[39m], middle_channel[\u001b[38;5;241m4\u001b[39m], \u001b[38;5;241m1\u001b[39m, \u001b[38;5;241m1\u001b[39m)\n\u001b[0;32m      6\u001b[0m     \u001b[38;5;28mself\u001b[39m\u001b[38;5;241m.\u001b[39mdecode_1 \u001b[38;5;241m=\u001b[39m Decode(middle_channel[\u001b[38;5;241m2\u001b[39m], middle_channel[\u001b[38;5;241m1\u001b[39m])\n",
      "\u001b[1;31mNameError\u001b[0m: name 'EncodeBlock' is not defined"
     ]
    }
   ],
   "source": [
    "model = FL_tiny(batch_size = 2)"
   ]
  },
  {
   "cell_type": "code",
   "execution_count": 6,
   "metadata": {
    "ExecuteTime": {
     "end_time": "2023-06-22T08:36:00.389857Z",
     "start_time": "2023-06-22T08:35:59.811933Z"
    }
   },
   "outputs": [
    {
     "data": {
      "text/plain": [
       "(tensor([[[[0.3197, 0.3175, 0.4390,  ..., 0.4244, 0.3159, 0.2808],\n",
       "           [0.3141, 0.2890, 0.4597,  ..., 0.3846, 0.2963, 0.2747],\n",
       "           [0.4872, 0.4927, 0.2044,  ..., 0.4536, 0.3769, 0.3363],\n",
       "           ...,\n",
       "           [0.4940, 0.4975, 0.4432,  ..., 0.5497, 0.3067, 0.2640],\n",
       "           [0.3905, 0.2954, 0.5661,  ..., 0.3658, 0.1840, 0.3157],\n",
       "           [0.3470, 0.3447, 0.5770,  ..., 0.3713, 0.3525, 0.2240]]],\n",
       " \n",
       " \n",
       "         [[[0.3197, 0.3175, 0.4390,  ..., 0.4244, 0.3159, 0.2808],\n",
       "           [0.3141, 0.2890, 0.4597,  ..., 0.3846, 0.2963, 0.2747],\n",
       "           [0.4872, 0.4927, 0.2044,  ..., 0.4536, 0.3769, 0.3363],\n",
       "           ...,\n",
       "           [0.4940, 0.4975, 0.4432,  ..., 0.5497, 0.3067, 0.2640],\n",
       "           [0.3905, 0.2954, 0.5661,  ..., 0.3658, 0.1840, 0.3157],\n",
       "           [0.3470, 0.3447, 0.5770,  ..., 0.3713, 0.3525, 0.2240]]]],\n",
       "        grad_fn=<SigmoidBackward0>),\n",
       " tensor([[[[1.1205, 1.3335, 1.6467,  ..., 0.3186, 0.3237, 0.2227],\n",
       "           [1.7295, 0.3899, 0.2119,  ..., 0.1929, 0.6900, 0.4756],\n",
       "           [2.0568, 1.4967, 1.5280,  ..., 0.6887, 0.2618, 0.2210],\n",
       "           ...,\n",
       "           [1.6986, 1.8405, 2.9170,  ..., 0.5962, 1.1640, 0.3572],\n",
       "           [1.2025, 0.5154, 2.8626,  ..., 1.5356, 2.4492, 2.3109],\n",
       "           [0.2502, 0.2012, 0.4575,  ..., 0.2307, 0.6581, 0.6261]]],\n",
       " \n",
       " \n",
       "         [[[1.1205, 1.3335, 1.6467,  ..., 0.3186, 0.3237, 0.2227],\n",
       "           [1.7295, 0.3899, 0.2119,  ..., 0.1929, 0.6900, 0.4756],\n",
       "           [2.0568, 1.4967, 1.5280,  ..., 0.6887, 0.2618, 0.2210],\n",
       "           ...,\n",
       "           [1.6986, 1.8405, 2.9170,  ..., 0.5962, 1.1640, 0.3572],\n",
       "           [1.2025, 0.5154, 2.8626,  ..., 1.5356, 2.4492, 2.3109],\n",
       "           [0.2502, 0.2012, 0.4575,  ..., 0.2307, 0.6581, 0.6261]]]],\n",
       "        grad_fn=<ReluBackward0>))"
      ]
     },
     "execution_count": 6,
     "metadata": {},
     "output_type": "execute_result"
    }
   ],
   "source": [
    "model(torch.zeros((2, 1, 320, 640)))"
   ]
  },
  {
   "cell_type": "code",
   "execution_count": null,
   "metadata": {},
   "outputs": [],
   "source": []
  }
 ],
 "metadata": {
  "hide_input": false,
  "kernelspec": {
   "display_name": "DSIM",
   "language": "python",
   "name": "dsim"
  },
  "language_info": {
   "codemirror_mode": {
    "name": "ipython",
    "version": 3
   },
   "file_extension": ".py",
   "mimetype": "text/x-python",
   "name": "python",
   "nbconvert_exporter": "python",
   "pygments_lexer": "ipython3",
   "version": "3.10.4"
  },
  "latex_envs": {
   "LaTeX_envs_menu_present": true,
   "autoclose": false,
   "autocomplete": true,
   "bibliofile": "biblio.bib",
   "cite_by": "apalike",
   "current_citInitial": 1,
   "eqLabelWithNumbers": true,
   "eqNumInitial": 1,
   "hotkeys": {
    "equation": "Ctrl-E",
    "itemize": "Ctrl-I"
   },
   "labels_anchors": false,
   "latex_user_defs": false,
   "report_style_numbering": false,
   "user_envs_cfg": false
  },
  "toc": {
   "base_numbering": 1,
   "nav_menu": {},
   "number_sections": true,
   "sideBar": true,
   "skip_h1_title": false,
   "title_cell": "Table of Contents",
   "title_sidebar": "Contents",
   "toc_cell": false,
   "toc_position": {},
   "toc_section_display": true,
   "toc_window_display": false
  },
  "varInspector": {
   "cols": {
    "lenName": 16,
    "lenType": 16,
    "lenVar": 40
   },
   "kernels_config": {
    "python": {
     "delete_cmd_postfix": "",
     "delete_cmd_prefix": "del ",
     "library": "var_list.py",
     "varRefreshCmd": "print(var_dic_list())"
    },
    "r": {
     "delete_cmd_postfix": ") ",
     "delete_cmd_prefix": "rm(",
     "library": "var_list.r",
     "varRefreshCmd": "cat(var_dic_list()) "
    }
   },
   "types_to_exclude": [
    "module",
    "function",
    "builtin_function_or_method",
    "instance",
    "_Feature"
   ],
   "window_display": false
  }
 },
 "nbformat": 4,
 "nbformat_minor": 2
}
