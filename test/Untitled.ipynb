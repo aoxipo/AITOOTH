{
 "cells": [
  {
   "cell_type": "code",
   "execution_count": 2,
   "metadata": {
    "ExecuteTime": {
     "end_time": "2023-08-19T02:57:53.545820Z",
     "start_time": "2023-08-19T02:57:51.141100Z"
    }
   },
   "outputs": [
    {
     "name": "stderr",
     "output_type": "stream",
     "text": [
      "E:\\anaconda\\envs\\DSIM\\lib\\site-packages\\tqdm\\auto.py:21: TqdmWarning: IProgress not found. Please update jupyter and ipywidgets. See https://ipywidgets.readthedocs.io/en/stable/user_install.html\n",
      "  from .autonotebook import tqdm as notebook_tqdm\n"
     ]
    },
    {
     "name": "stdout",
     "output_type": "stream",
     "text": [
      "use gpu: True\n"
     ]
    }
   ],
   "source": [
    "import sys \n",
    "sys.path.append(\"..\") \n",
    "from train import *\n",
    "from utils.score import cal_all_score\n",
    "from dataloader import Dataload\n",
    "from torch.utils.data import DataLoader\n",
    "import cv2\n",
    "import matplotlib.pyplot as plt\n",
    "matplotlib.use('TkAgg')\n",
    "%matplotlib inline\n",
    "import datetime"
   ]
  },
  {
   "cell_type": "code",
   "execution_count": 3,
   "metadata": {
    "ExecuteTime": {
     "end_time": "2023-08-19T02:57:56.852050Z",
     "start_time": "2023-08-19T02:57:56.842108Z"
    }
   },
   "outputs": [],
   "source": [
    "def crop_tensor(image_pack, scale_x, scale_y = None, axis = 1):\n",
    "    if scale_y is None:\n",
    "        scale_y = scale_x\n",
    "    _, _, w, h = image_pack.size()\n",
    "    a = int(w/scale_x)\n",
    "    b = int(h/scale_y)\n",
    "    # print(a, b)\n",
    "    t = torch.split(image_pack, a, dim = 2)\n",
    "    ans = []\n",
    "    for i in t:\n",
    "        for j in torch.split(i, b, dim=3):\n",
    "            ans.append(j)\n",
    "            # print(j.shape)\n",
    "    d = torch.stack(ans, axis)\n",
    "    return d\n",
    "\n",
    "def cat_tensor(image_pack, scale_x, scale_y = None):\n",
    "    if scale_y is None:\n",
    "        scale_y = scale_x\n",
    "    data = []\n",
    "    for i in range(scale_x):\n",
    "        m = []\n",
    "        for j in range(scale_y):\n",
    "            m.append(image_pack[:, i * scale_y + j ,:,:,:])\n",
    "            # print(  i * scale_y + j, i,j )\n",
    "        data.append(torch.cat(m, dim = -1))\n",
    "    \n",
    "    data = torch.cat(data, dim = -2)\n",
    "    return data"
   ]
  },
  {
   "cell_type": "code",
   "execution_count": 4,
   "metadata": {
    "ExecuteTime": {
     "end_time": "2023-08-19T02:58:00.622758Z",
     "start_time": "2023-08-19T02:58:00.600707Z"
    }
   },
   "outputs": [],
   "source": [
    "from model.GTU.models.GT_UNet import *"
   ]
  },
  {
   "cell_type": "code",
   "execution_count": 5,
   "metadata": {
    "ExecuteTime": {
     "end_time": "2023-08-19T02:58:00.922023Z",
     "start_time": "2023-08-19T02:58:00.899021Z"
    }
   },
   "outputs": [],
   "source": [
    "class BotBlock(nn.Module):\n",
    "\n",
    "    def __init__(self, in_dimension, curr_h, curr_w, proj_factor = 4, activation = 'relu', pos_enc_type = 'relative',\n",
    "                 stride = 1, target_dimension = None):\n",
    "        super(BotBlock, self).__init__()\n",
    "        if stride !=  1 or in_dimension !=  target_dimension:\n",
    "            self.shortcut  =  nn.Sequential(\n",
    "                nn.Conv2d(in_dimension, target_dimension, kernel_size = 3, padding = 1, stride = stride),\n",
    "                BNReLU(target_dimension, activation = activation, nonlinearity = True),\n",
    "            )\n",
    "        else:\n",
    "            self.shortcut  =  None\n",
    "\n",
    "        bottleneck_dimension  =  target_dimension // proj_factor\n",
    "        self.conv1  =  nn.Sequential(\n",
    "            nn.Conv2d(in_dimension, bottleneck_dimension, kernel_size = 3, padding = 1, stride = 1 ),\n",
    "            BNReLU(bottleneck_dimension, activation = activation, nonlinearity = True)\n",
    "        )\n",
    "\n",
    "        self.mhsa  =  MHSA(\n",
    "            in_channels = bottleneck_dimension, \n",
    "            heads = 4, curr_h = curr_h, curr_w = curr_w,\n",
    "            pos_enc_type = pos_enc_type\n",
    "        )\n",
    "        conv2_list  =  []\n",
    "        if stride !=  1:\n",
    "            assert stride  ==  2, stride\n",
    "            conv2_list.append(nn.AvgPool2d(kernel_size = (2, 2), stride = (2, 2)))  # TODO: 'same' in tf.pooling\n",
    "        conv2_list.append(BNReLU(bottleneck_dimension, activation = activation, nonlinearity = True))\n",
    "        \n",
    "        self.conv2  =  nn.Sequential(*conv2_list)\n",
    "\n",
    "        self.conv3  =  nn.Sequential(\n",
    "            nn.Conv2d(bottleneck_dimension, target_dimension, kernel_size = 3,padding = 1, stride = 1),\n",
    "            BNReLU(target_dimension, nonlinearity = False, init_zero = True),\n",
    "        )\n",
    "        self.last_act  =  get_act(activation)\n",
    "\n",
    "\n",
    "    def forward(self, x):\n",
    "        # print(\"x origin:\", x.shape)\n",
    "        if self.shortcut is not None:\n",
    "            shortcut  =  self.shortcut(x)\n",
    "        else:\n",
    "            shortcut  =  x\n",
    "        Q_h  =  Q_w  =  4\n",
    "        N, C, H, W  =  x.shape\n",
    "        P_h, P_w  =  H // Q_h, W // Q_w\n",
    "        # print(\"x:\", x.shape, \"P_h:\",P_h, \"P_w:\", P_w)\n",
    "        x  =  x.reshape(N * P_h * P_w, C, Q_h, Q_w)\n",
    "        print(\"x:origin\", x.shape)\n",
    "        out  =  self.conv1(x)\n",
    "        print(\"out in :\", out.shape)\n",
    "        out  =  self.mhsa(out)\n",
    "        print(\"out out :\", out.shape)\n",
    "        out  =  out.permute(0, 3, 1, 2)  # back to pytorch dim order\n",
    "\n",
    "        out  =  self.conv2(out)\n",
    "        out  =  self.conv3(out)\n",
    "        # print(\"out:\", out.shape)\n",
    "        N1, C1, H1, W1  =  out.shape\n",
    "        out  =  out.reshape(N, C1, int(H), int(W))\n",
    "\n",
    "        out +=  shortcut\n",
    "        out  =  self.last_act(out)\n",
    "\n",
    "        return out"
   ]
  },
  {
   "cell_type": "code",
   "execution_count": 6,
   "metadata": {
    "ExecuteTime": {
     "end_time": "2023-08-19T02:58:01.655273Z",
     "start_time": "2023-08-19T02:58:01.640067Z"
    }
   },
   "outputs": [],
   "source": [
    "def _make_bot_layer(ch_in, ch_out, w = 4 ):\n",
    "\n",
    "    W  =  H  =  w\n",
    "    dim_in  =  ch_in\n",
    "    dim_out  =  ch_out\n",
    "\n",
    "    stage5  =  []\n",
    "\n",
    "    stage5.append(\n",
    "        BotBlock(in_dimension = dim_in, curr_h = H, curr_w = W, stride = 1 , target_dimension = dim_out)\n",
    "    )\n",
    "\n",
    "    return nn.Sequential(*stage5)"
   ]
  },
  {
   "cell_type": "code",
   "execution_count": 7,
   "metadata": {
    "ExecuteTime": {
     "end_time": "2023-08-19T02:58:02.283913Z",
     "start_time": "2023-08-19T02:58:02.274937Z"
    }
   },
   "outputs": [],
   "source": [
    "class ResGroupFormer(nn.Module):\n",
    "    def __init__(self, ch_in, ch_out):\n",
    "        super().__init__()\n",
    "        self.g1 = _make_bot_layer(\n",
    "                    ch_in = ch_in, #  2 * middle_channel[i],             \n",
    "                    ch_out = ch_out, #middle_channel[ i+1 ], \n",
    "                    w = 4\n",
    "                ) \n",
    "        self.g2 = _make_bot_layer(\n",
    "                    ch_in = ch_in, # 2 * middle_channel[i],             \n",
    "                    ch_out = ch_out, #middle_channel[ i+1 ], \n",
    "                    w = 4\n",
    "                ) \n",
    "        self.g3 = _make_bot_layer(\n",
    "                    ch_in = ch_in, #, 2 * middle_channel[i],             \n",
    "                    ch_out = ch_out,# , middle_channel[ i+1 ], \n",
    "                    w = 2\n",
    "                )\n",
    "        self.sigmod = nn.Sigmoid()\n",
    "    def forward(self, x):\n",
    "        x_clone = x.clone().detach()\n",
    "        x = self.g1(x)\n",
    "        x = self.g2(x)\n",
    "        y = self.g3(x_clone)\n",
    "        x = self.sigmod(x + y)\n",
    "        return x"
   ]
  },
  {
   "cell_type": "code",
   "execution_count": 8,
   "metadata": {
    "ExecuteTime": {
     "end_time": "2023-08-19T02:58:03.091754Z",
     "start_time": "2023-08-19T02:58:03.072805Z"
    }
   },
   "outputs": [],
   "source": [
    "class Decode(nn.Module):\n",
    "    def __init__(self, ch_in, ch_out):\n",
    "        dim_in = ch_in\n",
    "        dim_out = ch_out\n",
    "        super(Decode, self).__init__()\n",
    "        self.conv = nn.Sequential(\n",
    "            nn.Conv2d( dim_in, dim_out, kernel_size = 1, stride = 1, padding = 0),\n",
    "            nn.BatchNorm2d(dim_out),\n",
    "            nn.ReLU(),\n",
    "            nn.Conv2d(dim_out, dim_out, kernel_size = 1, stride = 1, padding = 0),\n",
    "            nn.BatchNorm2d(dim_out),\n",
    "            nn.ReLU(),\n",
    "            nn.Conv2d(dim_out, dim_out, kernel_size = 1, stride = 1, padding = 0),\n",
    "            nn.BatchNorm2d(dim_out),\n",
    "            nn.ReLU(),\n",
    "        )\n",
    "        self.up = nn.Upsample( scale_factor = 2)\n",
    "        \n",
    "    def forward(self, x, y):\n",
    "        y = self.up(y)\n",
    "        x = torch.cat([x,y], 1)\n",
    "        x = self.conv(x)\n",
    "        return x\n",
    "        "
   ]
  },
  {
   "cell_type": "code",
   "execution_count": 9,
   "metadata": {
    "ExecuteTime": {
     "end_time": "2023-08-19T02:58:04.274023Z",
     "start_time": "2023-08-19T02:58:04.064163Z"
    }
   },
   "outputs": [],
   "source": [
    "from model_server.GTU.models.pvtv2 import pvt_v2_b2"
   ]
  },
  {
   "cell_type": "code",
   "execution_count": 10,
   "metadata": {
    "ExecuteTime": {
     "end_time": "2023-08-19T02:58:04.842985Z",
     "start_time": "2023-08-19T02:58:04.822016Z"
    }
   },
   "outputs": [],
   "source": [
    "class SKConv(nn.Module):\n",
    "    #                  64       32   2  8  2\n",
    "    def __init__(self, features_list, out_features, WH, M, G, r, stride=1 ,L=32):\n",
    "        \"\"\" Constructor\n",
    "        Args:\n",
    "            features: input channel dimensionality.\n",
    "            WH: input spatial dimensionality, used for GAP kernel size.\n",
    "            M: the number of branchs.\n",
    "            G: num of convolution groups.\n",
    "            r: the radio for compute d, the length of z.\n",
    "            stride: stride, default 1.\n",
    "            L: the minimum dim of the vector z in paper, default 32\n",
    "        \"\"\"\n",
    "        super(SKConv, self).__init__()\n",
    "        features = features_list[-1]\n",
    "        d = max(int(features/r), L)\n",
    "        self.M = M\n",
    "        self.features = features\n",
    "        self.convs = nn.ModuleList()\n",
    "        for i in range(M):\n",
    "            self.convs.append(nn.Sequential(\n",
    "                nn.Conv2d(features_list[i], out_features, kernel_size=3, stride=1, padding=1, groups=G),\n",
    "                nn.BatchNorm2d(out_features),\n",
    "                # nn.ReLU()\n",
    "            ))\n",
    "        self.gap = nn.AdaptiveAvgPool2d(1)\n",
    "        self.fc = nn.Linear(features, d)\n",
    "        self.fcs = nn.ModuleList()\n",
    "        for i in range(M):\n",
    "            self.fcs.append(\n",
    "                nn.Linear(d, features)\n",
    "            )\n",
    "        self.softmax = nn.Softmax(dim=1)\n",
    "        \n",
    "    def forward(self, x):\n",
    "        for i, conv in enumerate(self.convs):\n",
    "            fea = conv(x[i]).unsqueeze_(dim=1)\n",
    "            if i == 0:\n",
    "                feas = fea\n",
    "            else:\n",
    "                feas = torch.cat([feas, fea], dim=1)\n",
    "            # print(i)\n",
    "        # print(feas.shape)\n",
    "        fea_U = torch.sum(feas, dim=1)\n",
    "        fea_s = self.gap(fea_U).squeeze_()\n",
    "        # print(fea_U.shape, fea_s.shape)\n",
    "        fea_z = self.fc(fea_s)\n",
    "        for i, fc in enumerate(self.fcs):\n",
    "            vector = fc(fea_z).unsqueeze_(dim=1)\n",
    "            if i == 0:\n",
    "                attention_vectors = vector\n",
    "            else:\n",
    "                attention_vectors = torch.cat([attention_vectors, vector], dim=1)\n",
    "            # print(i)\n",
    "        attention_vectors = self.softmax(attention_vectors)\n",
    "        attention_vectors = attention_vectors.unsqueeze(-1).unsqueeze(-1)\n",
    "        # if attention_vectors.shape[0] != 1 :\n",
    "        #     attention_vectors = attention_vectors.unsqueeze(0)\n",
    "        # print( attention_vectors.shape , feas.shape )\n",
    "        fea_v = (feas * attention_vectors).sum(dim=1)\n",
    "        return fea_v"
   ]
  },
  {
   "cell_type": "code",
   "execution_count": 11,
   "metadata": {
    "ExecuteTime": {
     "end_time": "2023-08-19T02:58:06.234707Z",
     "start_time": "2023-08-19T02:58:06.197530Z"
    }
   },
   "outputs": [],
   "source": [
    "\n",
    "class GT_U_DC_PVTNet(nn.Module):\n",
    "    def __init__(self, img_ch  =  1, output_ch  =  1, \n",
    "                middle_channel = [64, 128, 256, 512, 1024], \n",
    "                encode_len = 5, \n",
    "                need_return_dict = True,\n",
    "                need_supervision = False,\n",
    "                decode_type = \"conv\",\n",
    "                path = './pretrained_pth/pvt_v2_b2.pth'\n",
    "\n",
    "        ):\n",
    "        super(GT_U_DC_PVTNet, self).__init__()\n",
    "        pvt_channel = [64, 128, 320, 512]\n",
    "        self.index_len = encode_len - 1\n",
    "        self.need_return_dict = need_return_dict\n",
    "        self.downsample = nn.AvgPool2d(2)\n",
    "        self.Maxpool  =  nn.MaxPool2d(kernel_size = 2,stride = 2)\n",
    "        self.erode = MinPool(2,2,1)\n",
    "        self.dilate = nn.MaxPool2d(2, stride = 1)\n",
    "        self.encode_list = nn.ModuleList()\n",
    "        self.up_list = nn.ModuleList()\n",
    "        self.decode_list = nn.ModuleList()\n",
    "        self.sk_list = nn.ModuleList()\n",
    "        if self.need_return_dict:\n",
    "            self.supervision_list = nn.ModuleList()\n",
    "        self.select  =  nn.Conv2d( 2, output_ch, kernel_size = 1, stride = 1, padding = 0)\n",
    "        middle_channel = middle_channel[ len(middle_channel) - encode_len : ]\n",
    "        middle_channel =  [ img_ch, *middle_channel]\n",
    "        self.need_supervision = need_supervision\n",
    "        print( middle_channel )\n",
    "        self.pre_encode = _make_bot_layer(\n",
    "            ch_in = middle_channel[0],         \n",
    "            ch_out = middle_channel[ 1 ], \n",
    "            w = 4\n",
    "        )\n",
    "        for i in range(1, encode_len):\n",
    "            self.encode_list.append( \n",
    "                ResGroupFormer(2 * middle_channel[i],  middle_channel[ i+1 ])\n",
    "#                 _make_bot_layer(\n",
    "#                     ch_in = 2 * middle_channel[i],             \n",
    "#                     ch_out = middle_channel[ i+1 ], \n",
    "#                     w = 4\n",
    "#                 ) \n",
    "            )\n",
    "        \n",
    "        for i in range(1, encode_len):\n",
    "            now_dim = encode_len - i + 1\n",
    "            next_dim = encode_len - i\n",
    "            # print( middle_channel[ now_dim ],   middle_channel[ next_dim ])\n",
    "            self.up_list.append( up_conv(ch_in = middle_channel[now_dim ] , ch_out = 2 * middle_channel[next_dim]) )\n",
    "            \n",
    "            if i < self.index_len + 1:\n",
    "                print(pvt_channel[  self.index_len - i ], middle_channel[now_dim ])\n",
    "                self.sk_list.append( \n",
    "                    SKConv([pvt_channel[  self.index_len - i], middle_channel[now_dim ]], middle_channel[now_dim ], 32,2,8,2)\n",
    "                )\n",
    "                \n",
    "            if decode_type == \"conv\":\n",
    "                self.decode_list.append( \n",
    "                    Decode(ch_in = 2 * middle_channel[ now_dim ], ch_out = middle_channel[next_dim]) \n",
    "                )\n",
    "            else:\n",
    "                self.decode_list.append( \n",
    "                     _make_bot_layer(\n",
    "                        ch_in = 2 * middle_channel[ now_dim ], \n",
    "                        ch_out = middle_channel[next_dim],\n",
    "                        w = 2 ** i\n",
    "                    ) \n",
    "                )\n",
    "            \n",
    "            if self.need_supervision:\n",
    "                self.supervision_list.append( nn.Conv2d(middle_channel[next_dim], output_ch, 1, 1) )\n",
    "            #  _make_bot_layer(\n",
    "            #     ch_in = 2 * middle_channel[ now_dim ], \n",
    "            #     ch_out = middle_channel[next_dim],\n",
    "            #     w = 2 ** i) \n",
    "            #  )\n",
    "            \n",
    "        self.CBR = nn.ModuleList()\n",
    "        for i in range(encode_len):\n",
    "            self.CBR.append(\n",
    "                nn.Sequential(\n",
    "                    nn.Conv2d(middle_channel[0], middle_channel[i+1], 3, 1, 1),\n",
    "                    nn.BatchNorm2d(middle_channel[i+1]),\n",
    "                    nn.ReLU(),\n",
    "                )\n",
    "            )\n",
    "        self.last_up = nn.Upsample(scale_factor = 2)\n",
    "        self.last_decode = nn.Conv2d(middle_channel[next_dim], output_ch, kernel_size = 1, stride = 1, padding = 0)\n",
    "        self.supervision_list.append( nn.Conv2d(middle_channel[next_dim], output_ch, 1, 1) )\n",
    "\n",
    "        self.backbone = pvt_v2_b2()  # [64, 128, 320, 512]\n",
    "        \n",
    "        save_model = torch.load(path)\n",
    "        model_dict = self.backbone.state_dict()\n",
    "        state_dict = {k: v for k, v in save_model.items() if k in model_dict.keys()}\n",
    "        model_dict.update(state_dict)\n",
    "        self.backbone.load_state_dict(model_dict)\n",
    "        n_p = sum(x.numel() for x in self.backbone.parameters()) # number parameters\n",
    "        n_g = sum(x.numel() for x in self.backbone.parameters() if x.requires_grad)  # number gradients\n",
    "        print(f\"pvt Summary: {len(list(self.backbone.modules()))} layers, {n_p} parameters, {n_p/1e6} M, {n_g} gradients\")\n",
    "\n",
    "\n",
    "\n",
    "    def build_results(self, x,y,z, super_vision  = None):\n",
    "        if super_vision is None:\n",
    "            return {\n",
    "            \"mask\": x,\n",
    "            \"cmask\": y,\n",
    "            \"edge\":z,\n",
    "        }\n",
    "        else:\n",
    "            return {\n",
    "                \"mask\": x,\n",
    "                \"cmask\": y,\n",
    "                \"edge\":z,\n",
    "                \"super\":super_vision\n",
    "            }\n",
    "            \n",
    "    \n",
    "    def build_feature_pyramid(self, x): # 80\n",
    "        x_list = []\n",
    "        for i in range(self.index_len + 1):\n",
    "            x = self.downsample(x) \n",
    "            x_list.append( x )\n",
    "        return   x_list\n",
    "    \n",
    "    def edge_hot_map(self, x):\n",
    "        x = x.clone().detach()\n",
    "        edge = nn.functional.pad(x, (1, 0, 1, 0))\n",
    "        edge = self.dilate(edge) - self.erode(edge)\n",
    "        return edge\n",
    "    \n",
    "    @torch.no_grad()\n",
    "    def pvt_backbone(self, x):\n",
    "        x = x.clone().detach()\n",
    "        pvt_x = torch.cat([x,x,x], 1)\n",
    "        pvt = self.backbone(pvt_x)\n",
    "        return pvt\n",
    "    \n",
    "    def forward(self,x):\n",
    "        pvt = self.pvt_backbone(x)\n",
    "        c1, c2, c3, c4 = pvt\n",
    "       \n",
    "        pvt_decode = list( reversed( pvt[:len(self.sk_list)] ) )#  [c3, c2, c1]\n",
    "        print(c1.shape, c2.shape, c3.shape, c4.shape)\n",
    "        x_list = self.build_feature_pyramid( x )\n",
    "        pre_x_list = []\n",
    "        out_list = []\n",
    "        supervision = []\n",
    "        for index in range(len(x_list)):\n",
    "            pre_x = self.CBR[index](x_list[index])\n",
    "            pre_x_list.append(pre_x)\n",
    "            # print(x_list[index].shape, pre_x.shape)\n",
    "        # pre_x_list = [x, *pre_x_list]\n",
    "       \n",
    "        out = self.pre_encode( x )\n",
    "        out_pool = self.Maxpool(out)\n",
    "        out_list.append(out)\n",
    "        print( \"x{}:{} {}\".format( 0, out.shape, out_pool.shape ))\n",
    "        \n",
    "        # encoding\n",
    "        for index in range(self.index_len):\n",
    "            print(\"encode:{},{}\".format(pre_x_list[index].shape, out_pool.shape  ))\n",
    "            x_temp = torch.cat( [pre_x_list[index], out_pool], 1) \n",
    "            # print( \"x{} cat:{}\".format( index, x.shape))\n",
    "            out = self.encode_list[index]( x_temp )\n",
    "            out_pool = self.Maxpool(out)\n",
    "            out_list.append(out)\n",
    "            \n",
    "            print( \"x{}:{} {}\".format( index + 1, out.shape, out_pool.shape ))\n",
    "            \n",
    "        x_temp = out_pool \n",
    "        # decoding\n",
    "        \n",
    "        for index in range(len(self.sk_list)):\n",
    "            up = out_list[ self.index_len - index ]\n",
    "            print(\"index:\", index, self.index_len - index, \"pvt and up\", pvt_decode[index].shape, up.shape)\n",
    "            conmbine_feature = self.sk_list[index](( self.last_up( pvt_decode[index] ), up))\n",
    "            out_list[ self.index_len - index] = conmbine_feature\n",
    "            # print(\"index:\", index, self.index_len - index, \"pvt and up\", pvt_decode[index].shape, up.shape)\n",
    "        \n",
    "            \n",
    "        for index in range(self.index_len):\n",
    "            # up = self.up_list[index](x_temp)\n",
    "            # x_temp = torch.cat( [up, out_list[ self.index_len - index ] ], dim = 1)\n",
    "            up = out_list[ self.index_len - index ]\n",
    "           \n",
    "            print(\"decode (up, x_temp):\", up.shape, x_temp.shape)\n",
    "            x_temp = self.decode_list[index](up, x_temp)\n",
    "            \n",
    "            \n",
    "            # x_temp = self.decode_list[index](x_temp)\n",
    "            supervision.append(x_temp)\n",
    "            # self.need_supervision[index](x_temp)\n",
    "            # print( \"decode{}:{} {}\".format( index, up.shape, x_temp.shape))\n",
    "        \n",
    "        # print(\"final decode:\", x_temp.shape)\n",
    "        outp = self.last_up(x_temp)\n",
    "        outp = self.last_decode(outp)\n",
    "        \n",
    "        edge = self.edge_hot_map(outp)\n",
    "        outp= self.select(torch.cat([outp, edge], 1))\n",
    "        # print(\"outp:{}\".format( outp.shape ))\n",
    "        if self.need_supervision:\n",
    "            for i in range( self.index_len ):\n",
    "                supervision[i] = self.supervision_list[i](supervision[i])\n",
    "            return self.build_results(outp, outp, edge, supervision) if self.need_return_dict else( out, edge, supervision) \n",
    "        return self.build_results(outp, outp, edge) if self.need_return_dict else( out, edge ) \n"
   ]
  },
  {
   "cell_type": "code",
   "execution_count": 12,
   "metadata": {
    "ExecuteTime": {
     "end_time": "2023-08-19T02:58:08.464121Z",
     "start_time": "2023-08-19T02:58:07.200498Z"
    }
   },
   "outputs": [
    {
     "name": "stdout",
     "output_type": "stream",
     "text": [
      "[1, 64, 128, 256, 512, 1024]\n",
      "512 1024\n",
      "320 512\n",
      "128 256\n",
      "64 128\n",
      "pvt Summary: 319 layers, 24849856 parameters, 24.849856 M, 24849856 gradients\n"
     ]
    }
   ],
   "source": [
    "model = GT_U_DC_PVTNet(1,1, encode_len = 5, path = r\"H:/program/outpage/AITOOTH/model_server/GTU/models/pretrained_pth/pvt_v2_b2.pth\")# .to(\"cpu\")"
   ]
  },
  {
   "cell_type": "code",
   "execution_count": 13,
   "metadata": {
    "ExecuteTime": {
     "end_time": "2023-08-19T02:58:10.424576Z",
     "start_time": "2023-08-19T02:58:09.201673Z"
    }
   },
   "outputs": [],
   "source": [
    "model = model.to(\"cuda:0\")"
   ]
  },
  {
   "cell_type": "code",
   "execution_count": 14,
   "metadata": {
    "ExecuteTime": {
     "end_time": "2023-08-19T02:58:10.454496Z",
     "start_time": "2023-08-19T02:58:10.441532Z"
    }
   },
   "outputs": [],
   "source": [
    "batch_image = torch.zeros((2,1, 320, 320)).to(\"cuda:0\")"
   ]
  },
  {
   "cell_type": "code",
   "execution_count": 15,
   "metadata": {
    "ExecuteTime": {
     "end_time": "2023-08-19T02:58:21.047333Z",
     "start_time": "2023-08-19T02:58:13.882498Z"
    }
   },
   "outputs": [
    {
     "name": "stdout",
     "output_type": "stream",
     "text": [
      "torch.Size([2, 64, 80, 80]) torch.Size([2, 128, 40, 40]) torch.Size([2, 320, 20, 20]) torch.Size([2, 512, 10, 10])\n",
      "x:origin torch.Size([12800, 1, 4, 4])\n",
      "out in : torch.Size([12800, 16, 4, 4])\n",
      "out out : torch.Size([12800, 4, 4, 16])\n",
      "x0:torch.Size([2, 64, 320, 320]) torch.Size([2, 64, 160, 160])\n",
      "encode:torch.Size([2, 64, 160, 160]),torch.Size([2, 64, 160, 160])\n",
      "x:origin torch.Size([3200, 128, 4, 4])\n",
      "out in : torch.Size([3200, 32, 4, 4])\n",
      "out out : torch.Size([3200, 4, 4, 32])\n",
      "x:origin torch.Size([3200, 128, 4, 4])\n",
      "out in : torch.Size([3200, 32, 4, 4])\n",
      "out out : torch.Size([3200, 4, 4, 32])\n",
      "x:origin torch.Size([3200, 128, 4, 4])\n",
      "out in : torch.Size([3200, 32, 4, 4])\n"
     ]
    },
    {
     "ename": "RuntimeError",
     "evalue": "shape '[-1, 16, 4, 7]' is invalid for input of size 614400",
     "output_type": "error",
     "traceback": [
      "\u001b[1;31m---------------------------------------------------------------------------\u001b[0m",
      "\u001b[1;31mRuntimeError\u001b[0m                              Traceback (most recent call last)",
      "Input \u001b[1;32mIn [15]\u001b[0m, in \u001b[0;36m<cell line: 1>\u001b[1;34m()\u001b[0m\n\u001b[0;32m      1\u001b[0m \u001b[38;5;28;01mwith\u001b[39;00m torch\u001b[38;5;241m.\u001b[39mno_grad():\n\u001b[1;32m----> 2\u001b[0m     ans \u001b[38;5;241m=\u001b[39m \u001b[43mmodel\u001b[49m\u001b[43m(\u001b[49m\u001b[43mbatch_image\u001b[49m\u001b[43m)\u001b[49m\n",
      "File \u001b[1;32mE:\\anaconda\\envs\\DSIM\\lib\\site-packages\\torch\\nn\\modules\\module.py:1110\u001b[0m, in \u001b[0;36mModule._call_impl\u001b[1;34m(self, *input, **kwargs)\u001b[0m\n\u001b[0;32m   1106\u001b[0m \u001b[38;5;66;03m# If we don't have any hooks, we want to skip the rest of the logic in\u001b[39;00m\n\u001b[0;32m   1107\u001b[0m \u001b[38;5;66;03m# this function, and just call forward.\u001b[39;00m\n\u001b[0;32m   1108\u001b[0m \u001b[38;5;28;01mif\u001b[39;00m \u001b[38;5;129;01mnot\u001b[39;00m (\u001b[38;5;28mself\u001b[39m\u001b[38;5;241m.\u001b[39m_backward_hooks \u001b[38;5;129;01mor\u001b[39;00m \u001b[38;5;28mself\u001b[39m\u001b[38;5;241m.\u001b[39m_forward_hooks \u001b[38;5;129;01mor\u001b[39;00m \u001b[38;5;28mself\u001b[39m\u001b[38;5;241m.\u001b[39m_forward_pre_hooks \u001b[38;5;129;01mor\u001b[39;00m _global_backward_hooks\n\u001b[0;32m   1109\u001b[0m         \u001b[38;5;129;01mor\u001b[39;00m _global_forward_hooks \u001b[38;5;129;01mor\u001b[39;00m _global_forward_pre_hooks):\n\u001b[1;32m-> 1110\u001b[0m     \u001b[38;5;28;01mreturn\u001b[39;00m forward_call(\u001b[38;5;241m*\u001b[39m\u001b[38;5;28minput\u001b[39m, \u001b[38;5;241m*\u001b[39m\u001b[38;5;241m*\u001b[39mkwargs)\n\u001b[0;32m   1111\u001b[0m \u001b[38;5;66;03m# Do not call functions when jit is used\u001b[39;00m\n\u001b[0;32m   1112\u001b[0m full_backward_hooks, non_full_backward_hooks \u001b[38;5;241m=\u001b[39m [], []\n",
      "Input \u001b[1;32mIn [11]\u001b[0m, in \u001b[0;36mGT_U_DC_PVTNet.forward\u001b[1;34m(self, x)\u001b[0m\n\u001b[0;32m    164\u001b[0m x_temp \u001b[38;5;241m=\u001b[39m torch\u001b[38;5;241m.\u001b[39mcat( [pre_x_list[index], out_pool], \u001b[38;5;241m1\u001b[39m) \n\u001b[0;32m    165\u001b[0m \u001b[38;5;66;03m# print( \"x{} cat:{}\".format( index, x.shape))\u001b[39;00m\n\u001b[1;32m--> 166\u001b[0m out \u001b[38;5;241m=\u001b[39m \u001b[38;5;28;43mself\u001b[39;49m\u001b[38;5;241;43m.\u001b[39;49m\u001b[43mencode_list\u001b[49m\u001b[43m[\u001b[49m\u001b[43mindex\u001b[49m\u001b[43m]\u001b[49m\u001b[43m(\u001b[49m\u001b[43m \u001b[49m\u001b[43mx_temp\u001b[49m\u001b[43m \u001b[49m\u001b[43m)\u001b[49m\n\u001b[0;32m    167\u001b[0m out_pool \u001b[38;5;241m=\u001b[39m \u001b[38;5;28mself\u001b[39m\u001b[38;5;241m.\u001b[39mMaxpool(out)\n\u001b[0;32m    168\u001b[0m out_list\u001b[38;5;241m.\u001b[39mappend(out)\n",
      "File \u001b[1;32mE:\\anaconda\\envs\\DSIM\\lib\\site-packages\\torch\\nn\\modules\\module.py:1110\u001b[0m, in \u001b[0;36mModule._call_impl\u001b[1;34m(self, *input, **kwargs)\u001b[0m\n\u001b[0;32m   1106\u001b[0m \u001b[38;5;66;03m# If we don't have any hooks, we want to skip the rest of the logic in\u001b[39;00m\n\u001b[0;32m   1107\u001b[0m \u001b[38;5;66;03m# this function, and just call forward.\u001b[39;00m\n\u001b[0;32m   1108\u001b[0m \u001b[38;5;28;01mif\u001b[39;00m \u001b[38;5;129;01mnot\u001b[39;00m (\u001b[38;5;28mself\u001b[39m\u001b[38;5;241m.\u001b[39m_backward_hooks \u001b[38;5;129;01mor\u001b[39;00m \u001b[38;5;28mself\u001b[39m\u001b[38;5;241m.\u001b[39m_forward_hooks \u001b[38;5;129;01mor\u001b[39;00m \u001b[38;5;28mself\u001b[39m\u001b[38;5;241m.\u001b[39m_forward_pre_hooks \u001b[38;5;129;01mor\u001b[39;00m _global_backward_hooks\n\u001b[0;32m   1109\u001b[0m         \u001b[38;5;129;01mor\u001b[39;00m _global_forward_hooks \u001b[38;5;129;01mor\u001b[39;00m _global_forward_pre_hooks):\n\u001b[1;32m-> 1110\u001b[0m     \u001b[38;5;28;01mreturn\u001b[39;00m forward_call(\u001b[38;5;241m*\u001b[39m\u001b[38;5;28minput\u001b[39m, \u001b[38;5;241m*\u001b[39m\u001b[38;5;241m*\u001b[39mkwargs)\n\u001b[0;32m   1111\u001b[0m \u001b[38;5;66;03m# Do not call functions when jit is used\u001b[39;00m\n\u001b[0;32m   1112\u001b[0m full_backward_hooks, non_full_backward_hooks \u001b[38;5;241m=\u001b[39m [], []\n",
      "Input \u001b[1;32mIn [7]\u001b[0m, in \u001b[0;36mResGroupFormer.forward\u001b[1;34m(self, x)\u001b[0m\n\u001b[0;32m     22\u001b[0m x \u001b[38;5;241m=\u001b[39m \u001b[38;5;28mself\u001b[39m\u001b[38;5;241m.\u001b[39mg1(x)\n\u001b[0;32m     23\u001b[0m x \u001b[38;5;241m=\u001b[39m \u001b[38;5;28mself\u001b[39m\u001b[38;5;241m.\u001b[39mg2(x)\n\u001b[1;32m---> 24\u001b[0m y \u001b[38;5;241m=\u001b[39m \u001b[38;5;28;43mself\u001b[39;49m\u001b[38;5;241;43m.\u001b[39;49m\u001b[43mg3\u001b[49m\u001b[43m(\u001b[49m\u001b[43mx_clone\u001b[49m\u001b[43m)\u001b[49m\n\u001b[0;32m     25\u001b[0m x \u001b[38;5;241m=\u001b[39m \u001b[38;5;28mself\u001b[39m\u001b[38;5;241m.\u001b[39msigmod(x \u001b[38;5;241m+\u001b[39m y)\n\u001b[0;32m     26\u001b[0m \u001b[38;5;28;01mreturn\u001b[39;00m x\n",
      "File \u001b[1;32mE:\\anaconda\\envs\\DSIM\\lib\\site-packages\\torch\\nn\\modules\\module.py:1110\u001b[0m, in \u001b[0;36mModule._call_impl\u001b[1;34m(self, *input, **kwargs)\u001b[0m\n\u001b[0;32m   1106\u001b[0m \u001b[38;5;66;03m# If we don't have any hooks, we want to skip the rest of the logic in\u001b[39;00m\n\u001b[0;32m   1107\u001b[0m \u001b[38;5;66;03m# this function, and just call forward.\u001b[39;00m\n\u001b[0;32m   1108\u001b[0m \u001b[38;5;28;01mif\u001b[39;00m \u001b[38;5;129;01mnot\u001b[39;00m (\u001b[38;5;28mself\u001b[39m\u001b[38;5;241m.\u001b[39m_backward_hooks \u001b[38;5;129;01mor\u001b[39;00m \u001b[38;5;28mself\u001b[39m\u001b[38;5;241m.\u001b[39m_forward_hooks \u001b[38;5;129;01mor\u001b[39;00m \u001b[38;5;28mself\u001b[39m\u001b[38;5;241m.\u001b[39m_forward_pre_hooks \u001b[38;5;129;01mor\u001b[39;00m _global_backward_hooks\n\u001b[0;32m   1109\u001b[0m         \u001b[38;5;129;01mor\u001b[39;00m _global_forward_hooks \u001b[38;5;129;01mor\u001b[39;00m _global_forward_pre_hooks):\n\u001b[1;32m-> 1110\u001b[0m     \u001b[38;5;28;01mreturn\u001b[39;00m forward_call(\u001b[38;5;241m*\u001b[39m\u001b[38;5;28minput\u001b[39m, \u001b[38;5;241m*\u001b[39m\u001b[38;5;241m*\u001b[39mkwargs)\n\u001b[0;32m   1111\u001b[0m \u001b[38;5;66;03m# Do not call functions when jit is used\u001b[39;00m\n\u001b[0;32m   1112\u001b[0m full_backward_hooks, non_full_backward_hooks \u001b[38;5;241m=\u001b[39m [], []\n",
      "File \u001b[1;32mE:\\anaconda\\envs\\DSIM\\lib\\site-packages\\torch\\nn\\modules\\container.py:141\u001b[0m, in \u001b[0;36mSequential.forward\u001b[1;34m(self, input)\u001b[0m\n\u001b[0;32m    139\u001b[0m \u001b[38;5;28;01mdef\u001b[39;00m \u001b[38;5;21mforward\u001b[39m(\u001b[38;5;28mself\u001b[39m, \u001b[38;5;28minput\u001b[39m):\n\u001b[0;32m    140\u001b[0m     \u001b[38;5;28;01mfor\u001b[39;00m module \u001b[38;5;129;01min\u001b[39;00m \u001b[38;5;28mself\u001b[39m:\n\u001b[1;32m--> 141\u001b[0m         \u001b[38;5;28minput\u001b[39m \u001b[38;5;241m=\u001b[39m \u001b[43mmodule\u001b[49m\u001b[43m(\u001b[49m\u001b[38;5;28;43minput\u001b[39;49m\u001b[43m)\u001b[49m\n\u001b[0;32m    142\u001b[0m     \u001b[38;5;28;01mreturn\u001b[39;00m \u001b[38;5;28minput\u001b[39m\n",
      "File \u001b[1;32mE:\\anaconda\\envs\\DSIM\\lib\\site-packages\\torch\\nn\\modules\\module.py:1110\u001b[0m, in \u001b[0;36mModule._call_impl\u001b[1;34m(self, *input, **kwargs)\u001b[0m\n\u001b[0;32m   1106\u001b[0m \u001b[38;5;66;03m# If we don't have any hooks, we want to skip the rest of the logic in\u001b[39;00m\n\u001b[0;32m   1107\u001b[0m \u001b[38;5;66;03m# this function, and just call forward.\u001b[39;00m\n\u001b[0;32m   1108\u001b[0m \u001b[38;5;28;01mif\u001b[39;00m \u001b[38;5;129;01mnot\u001b[39;00m (\u001b[38;5;28mself\u001b[39m\u001b[38;5;241m.\u001b[39m_backward_hooks \u001b[38;5;129;01mor\u001b[39;00m \u001b[38;5;28mself\u001b[39m\u001b[38;5;241m.\u001b[39m_forward_hooks \u001b[38;5;129;01mor\u001b[39;00m \u001b[38;5;28mself\u001b[39m\u001b[38;5;241m.\u001b[39m_forward_pre_hooks \u001b[38;5;129;01mor\u001b[39;00m _global_backward_hooks\n\u001b[0;32m   1109\u001b[0m         \u001b[38;5;129;01mor\u001b[39;00m _global_forward_hooks \u001b[38;5;129;01mor\u001b[39;00m _global_forward_pre_hooks):\n\u001b[1;32m-> 1110\u001b[0m     \u001b[38;5;28;01mreturn\u001b[39;00m forward_call(\u001b[38;5;241m*\u001b[39m\u001b[38;5;28minput\u001b[39m, \u001b[38;5;241m*\u001b[39m\u001b[38;5;241m*\u001b[39mkwargs)\n\u001b[0;32m   1111\u001b[0m \u001b[38;5;66;03m# Do not call functions when jit is used\u001b[39;00m\n\u001b[0;32m   1112\u001b[0m full_backward_hooks, non_full_backward_hooks \u001b[38;5;241m=\u001b[39m [], []\n",
      "Input \u001b[1;32mIn [5]\u001b[0m, in \u001b[0;36mBotBlock.forward\u001b[1;34m(self, x)\u001b[0m\n\u001b[0;32m     52\u001b[0m out  \u001b[38;5;241m=\u001b[39m  \u001b[38;5;28mself\u001b[39m\u001b[38;5;241m.\u001b[39mconv1(x)\n\u001b[0;32m     53\u001b[0m \u001b[38;5;28mprint\u001b[39m(\u001b[38;5;124m\"\u001b[39m\u001b[38;5;124mout in :\u001b[39m\u001b[38;5;124m\"\u001b[39m, out\u001b[38;5;241m.\u001b[39mshape)\n\u001b[1;32m---> 54\u001b[0m out  \u001b[38;5;241m=\u001b[39m  \u001b[38;5;28;43mself\u001b[39;49m\u001b[38;5;241;43m.\u001b[39;49m\u001b[43mmhsa\u001b[49m\u001b[43m(\u001b[49m\u001b[43mout\u001b[49m\u001b[43m)\u001b[49m\n\u001b[0;32m     55\u001b[0m \u001b[38;5;28mprint\u001b[39m(\u001b[38;5;124m\"\u001b[39m\u001b[38;5;124mout out :\u001b[39m\u001b[38;5;124m\"\u001b[39m, out\u001b[38;5;241m.\u001b[39mshape)\n\u001b[0;32m     56\u001b[0m out  \u001b[38;5;241m=\u001b[39m  out\u001b[38;5;241m.\u001b[39mpermute(\u001b[38;5;241m0\u001b[39m, \u001b[38;5;241m3\u001b[39m, \u001b[38;5;241m1\u001b[39m, \u001b[38;5;241m2\u001b[39m)  \u001b[38;5;66;03m# back to pytorch dim order\u001b[39;00m\n",
      "File \u001b[1;32mE:\\anaconda\\envs\\DSIM\\lib\\site-packages\\torch\\nn\\modules\\module.py:1110\u001b[0m, in \u001b[0;36mModule._call_impl\u001b[1;34m(self, *input, **kwargs)\u001b[0m\n\u001b[0;32m   1106\u001b[0m \u001b[38;5;66;03m# If we don't have any hooks, we want to skip the rest of the logic in\u001b[39;00m\n\u001b[0;32m   1107\u001b[0m \u001b[38;5;66;03m# this function, and just call forward.\u001b[39;00m\n\u001b[0;32m   1108\u001b[0m \u001b[38;5;28;01mif\u001b[39;00m \u001b[38;5;129;01mnot\u001b[39;00m (\u001b[38;5;28mself\u001b[39m\u001b[38;5;241m.\u001b[39m_backward_hooks \u001b[38;5;129;01mor\u001b[39;00m \u001b[38;5;28mself\u001b[39m\u001b[38;5;241m.\u001b[39m_forward_hooks \u001b[38;5;129;01mor\u001b[39;00m \u001b[38;5;28mself\u001b[39m\u001b[38;5;241m.\u001b[39m_forward_pre_hooks \u001b[38;5;129;01mor\u001b[39;00m _global_backward_hooks\n\u001b[0;32m   1109\u001b[0m         \u001b[38;5;129;01mor\u001b[39;00m _global_forward_hooks \u001b[38;5;129;01mor\u001b[39;00m _global_forward_pre_hooks):\n\u001b[1;32m-> 1110\u001b[0m     \u001b[38;5;28;01mreturn\u001b[39;00m forward_call(\u001b[38;5;241m*\u001b[39m\u001b[38;5;28minput\u001b[39m, \u001b[38;5;241m*\u001b[39m\u001b[38;5;241m*\u001b[39mkwargs)\n\u001b[0;32m   1111\u001b[0m \u001b[38;5;66;03m# Do not call functions when jit is used\u001b[39;00m\n\u001b[0;32m   1112\u001b[0m full_backward_hooks, non_full_backward_hooks \u001b[38;5;241m=\u001b[39m [], []\n",
      "File \u001b[1;32mH:\\program\\outpage\\AITOOTH\\test\\..\\model\\GTU\\models\\GT_UNet.py:194\u001b[0m, in \u001b[0;36mMHSA.forward\u001b[1;34m(self, input)\u001b[0m\n\u001b[0;32m    191\u001b[0m k  \u001b[38;5;241m=\u001b[39m  \u001b[38;5;28mself\u001b[39m\u001b[38;5;241m.\u001b[39mk_proj(\u001b[38;5;28minput\u001b[39m)\n\u001b[0;32m    192\u001b[0m v  \u001b[38;5;241m=\u001b[39m  \u001b[38;5;28mself\u001b[39m\u001b[38;5;241m.\u001b[39mv_proj(\u001b[38;5;28minput\u001b[39m)\n\u001b[1;32m--> 194\u001b[0m o  \u001b[38;5;241m=\u001b[39m  \u001b[38;5;28;43mself\u001b[39;49m\u001b[38;5;241;43m.\u001b[39;49m\u001b[43mself_attention\u001b[49m\u001b[43m(\u001b[49m\u001b[43mq\u001b[49m\u001b[43m \u001b[49m\u001b[38;5;241;43m=\u001b[39;49m\u001b[43m \u001b[49m\u001b[43mq\u001b[49m\u001b[43m,\u001b[49m\u001b[43m \u001b[49m\u001b[43mk\u001b[49m\u001b[43m \u001b[49m\u001b[38;5;241;43m=\u001b[39;49m\u001b[43m \u001b[49m\u001b[43mk\u001b[49m\u001b[43m,\u001b[49m\u001b[43m \u001b[49m\u001b[43mv\u001b[49m\u001b[43m \u001b[49m\u001b[38;5;241;43m=\u001b[39;49m\u001b[43m \u001b[49m\u001b[43mv\u001b[49m\u001b[43m)\u001b[49m\n\u001b[0;32m    195\u001b[0m \u001b[38;5;28;01mreturn\u001b[39;00m o\n",
      "File \u001b[1;32mE:\\anaconda\\envs\\DSIM\\lib\\site-packages\\torch\\nn\\modules\\module.py:1110\u001b[0m, in \u001b[0;36mModule._call_impl\u001b[1;34m(self, *input, **kwargs)\u001b[0m\n\u001b[0;32m   1106\u001b[0m \u001b[38;5;66;03m# If we don't have any hooks, we want to skip the rest of the logic in\u001b[39;00m\n\u001b[0;32m   1107\u001b[0m \u001b[38;5;66;03m# this function, and just call forward.\u001b[39;00m\n\u001b[0;32m   1108\u001b[0m \u001b[38;5;28;01mif\u001b[39;00m \u001b[38;5;129;01mnot\u001b[39;00m (\u001b[38;5;28mself\u001b[39m\u001b[38;5;241m.\u001b[39m_backward_hooks \u001b[38;5;129;01mor\u001b[39;00m \u001b[38;5;28mself\u001b[39m\u001b[38;5;241m.\u001b[39m_forward_hooks \u001b[38;5;129;01mor\u001b[39;00m \u001b[38;5;28mself\u001b[39m\u001b[38;5;241m.\u001b[39m_forward_pre_hooks \u001b[38;5;129;01mor\u001b[39;00m _global_backward_hooks\n\u001b[0;32m   1109\u001b[0m         \u001b[38;5;129;01mor\u001b[39;00m _global_forward_hooks \u001b[38;5;129;01mor\u001b[39;00m _global_forward_pre_hooks):\n\u001b[1;32m-> 1110\u001b[0m     \u001b[38;5;28;01mreturn\u001b[39;00m forward_call(\u001b[38;5;241m*\u001b[39m\u001b[38;5;28minput\u001b[39m, \u001b[38;5;241m*\u001b[39m\u001b[38;5;241m*\u001b[39mkwargs)\n\u001b[0;32m   1111\u001b[0m \u001b[38;5;66;03m# Do not call functions when jit is used\u001b[39;00m\n\u001b[0;32m   1112\u001b[0m full_backward_hooks, non_full_backward_hooks \u001b[38;5;241m=\u001b[39m [], []\n",
      "File \u001b[1;32mH:\\program\\outpage\\AITOOTH\\test\\..\\model\\GTU\\models\\GT_UNet.py:63\u001b[0m, in \u001b[0;36mRelPosSelfAttention.forward\u001b[1;34m(self, q, k, v)\u001b[0m\n\u001b[0;32m     61\u001b[0m logits  \u001b[38;5;241m=\u001b[39m  torch\u001b[38;5;241m.\u001b[39meinsum(\u001b[38;5;124m'\u001b[39m\u001b[38;5;124mbnhwd,bnpqd->bnhwpq\u001b[39m\u001b[38;5;124m'\u001b[39m, q, k)\n\u001b[0;32m     62\u001b[0m \u001b[38;5;28;01mif\u001b[39;00m \u001b[38;5;28mself\u001b[39m\u001b[38;5;241m.\u001b[39mrelative:\n\u001b[1;32m---> 63\u001b[0m     logits \u001b[38;5;241m+\u001b[39m\u001b[38;5;241m=\u001b[39m  \u001b[38;5;28;43mself\u001b[39;49m\u001b[38;5;241;43m.\u001b[39;49m\u001b[43mrelative_logits\u001b[49m\u001b[43m(\u001b[49m\u001b[43mq\u001b[49m\u001b[43m)\u001b[49m\n\u001b[0;32m     64\u001b[0m weights  \u001b[38;5;241m=\u001b[39m  torch\u001b[38;5;241m.\u001b[39mreshape(logits, [\u001b[38;5;241m-\u001b[39m\u001b[38;5;241m1\u001b[39m, heads, h, w, h \u001b[38;5;241m*\u001b[39m w])\n\u001b[0;32m     65\u001b[0m weights  \u001b[38;5;241m=\u001b[39m  F\u001b[38;5;241m.\u001b[39msoftmax(weights, dim \u001b[38;5;241m=\u001b[39m \u001b[38;5;241m-\u001b[39m\u001b[38;5;241m1\u001b[39m)\n",
      "File \u001b[1;32mH:\\program\\outpage\\AITOOTH\\test\\..\\model\\GTU\\models\\GT_UNet.py:74\u001b[0m, in \u001b[0;36mRelPosSelfAttention.relative_logits\u001b[1;34m(self, q)\u001b[0m\n\u001b[0;32m     72\u001b[0m \u001b[38;5;28;01mdef\u001b[39;00m \u001b[38;5;21mrelative_logits\u001b[39m(\u001b[38;5;28mself\u001b[39m, q):\n\u001b[0;32m     73\u001b[0m     \u001b[38;5;66;03m# Relative logits in width dimension.\u001b[39;00m\n\u001b[1;32m---> 74\u001b[0m     rel_logits_w  \u001b[38;5;241m=\u001b[39m  \u001b[38;5;28;43mself\u001b[39;49m\u001b[38;5;241;43m.\u001b[39;49m\u001b[43mrelative_logits_1d\u001b[49m\u001b[43m(\u001b[49m\u001b[43mq\u001b[49m\u001b[43m,\u001b[49m\u001b[43m \u001b[49m\u001b[38;5;28;43mself\u001b[39;49m\u001b[38;5;241;43m.\u001b[39;49m\u001b[43mrel_emb_w\u001b[49m\u001b[43m,\u001b[49m\u001b[43m \u001b[49m\u001b[43mtranspose_mask\u001b[49m\u001b[43m \u001b[49m\u001b[38;5;241;43m=\u001b[39;49m\u001b[43m \u001b[49m\u001b[43m[\u001b[49m\u001b[38;5;241;43m0\u001b[39;49m\u001b[43m,\u001b[49m\u001b[43m \u001b[49m\u001b[38;5;241;43m1\u001b[39;49m\u001b[43m,\u001b[49m\u001b[43m \u001b[49m\u001b[38;5;241;43m2\u001b[39;49m\u001b[43m,\u001b[49m\u001b[43m \u001b[49m\u001b[38;5;241;43m4\u001b[39;49m\u001b[43m,\u001b[49m\u001b[43m \u001b[49m\u001b[38;5;241;43m3\u001b[39;49m\u001b[43m,\u001b[49m\u001b[43m \u001b[49m\u001b[38;5;241;43m5\u001b[39;49m\u001b[43m]\u001b[49m\u001b[43m)\u001b[49m\n\u001b[0;32m     75\u001b[0m     \u001b[38;5;66;03m# Relative logits in height dimension\u001b[39;00m\n\u001b[0;32m     76\u001b[0m     rel_logits_h  \u001b[38;5;241m=\u001b[39m  \u001b[38;5;28mself\u001b[39m\u001b[38;5;241m.\u001b[39mrelative_logits_1d(q\u001b[38;5;241m.\u001b[39mpermute(\u001b[38;5;241m0\u001b[39m, \u001b[38;5;241m1\u001b[39m, \u001b[38;5;241m3\u001b[39m, \u001b[38;5;241m2\u001b[39m, \u001b[38;5;241m4\u001b[39m), \u001b[38;5;28mself\u001b[39m\u001b[38;5;241m.\u001b[39mrel_emb_h,\n\u001b[0;32m     77\u001b[0m                                            transpose_mask \u001b[38;5;241m=\u001b[39m [\u001b[38;5;241m0\u001b[39m, \u001b[38;5;241m1\u001b[39m, \u001b[38;5;241m4\u001b[39m, \u001b[38;5;241m2\u001b[39m, \u001b[38;5;241m5\u001b[39m, \u001b[38;5;241m3\u001b[39m])\n",
      "File \u001b[1;32mH:\\program\\outpage\\AITOOTH\\test\\..\\model\\GTU\\models\\GT_UNet.py:83\u001b[0m, in \u001b[0;36mRelPosSelfAttention.relative_logits_1d\u001b[1;34m(self, q, rel_k, transpose_mask)\u001b[0m\n\u001b[0;32m     81\u001b[0m bs, heads, h, w, dim  \u001b[38;5;241m=\u001b[39m  q\u001b[38;5;241m.\u001b[39mshape\n\u001b[0;32m     82\u001b[0m rel_logits  \u001b[38;5;241m=\u001b[39m  torch\u001b[38;5;241m.\u001b[39meinsum(\u001b[38;5;124m'\u001b[39m\u001b[38;5;124mbhxyd,md->bhxym\u001b[39m\u001b[38;5;124m'\u001b[39m, q, rel_k)\n\u001b[1;32m---> 83\u001b[0m rel_logits  \u001b[38;5;241m=\u001b[39m  \u001b[43mtorch\u001b[49m\u001b[38;5;241;43m.\u001b[39;49m\u001b[43mreshape\u001b[49m\u001b[43m(\u001b[49m\u001b[43mrel_logits\u001b[49m\u001b[43m,\u001b[49m\u001b[43m \u001b[49m\u001b[43m[\u001b[49m\u001b[38;5;241;43m-\u001b[39;49m\u001b[38;5;241;43m1\u001b[39;49m\u001b[43m,\u001b[49m\u001b[43m \u001b[49m\u001b[43mheads\u001b[49m\u001b[43m \u001b[49m\u001b[38;5;241;43m*\u001b[39;49m\u001b[43m \u001b[49m\u001b[43mh\u001b[49m\u001b[43m,\u001b[49m\u001b[43m \u001b[49m\u001b[43mw\u001b[49m\u001b[43m,\u001b[49m\u001b[43m \u001b[49m\u001b[38;5;241;43m2\u001b[39;49m\u001b[43m \u001b[49m\u001b[38;5;241;43m*\u001b[39;49m\u001b[43m \u001b[49m\u001b[43mw\u001b[49m\u001b[43m \u001b[49m\u001b[38;5;241;43m-\u001b[39;49m\u001b[43m \u001b[49m\u001b[38;5;241;43m1\u001b[39;49m\u001b[43m]\u001b[49m\u001b[43m)\u001b[49m\n\u001b[0;32m     84\u001b[0m rel_logits  \u001b[38;5;241m=\u001b[39m  \u001b[38;5;28mself\u001b[39m\u001b[38;5;241m.\u001b[39mrel_to_abs(rel_logits)\n\u001b[0;32m     85\u001b[0m rel_logits  \u001b[38;5;241m=\u001b[39m  torch\u001b[38;5;241m.\u001b[39mreshape(rel_logits, [\u001b[38;5;241m-\u001b[39m\u001b[38;5;241m1\u001b[39m, heads, h, w, w])\n",
      "\u001b[1;31mRuntimeError\u001b[0m: shape '[-1, 16, 4, 7]' is invalid for input of size 614400"
     ]
    }
   ],
   "source": [
    "with torch.no_grad():\n",
    "    ans = model(batch_image)"
   ]
  },
  {
   "cell_type": "code",
   "execution_count": 148,
   "metadata": {
    "ExecuteTime": {
     "end_time": "2023-08-06T01:46:26.916762Z",
     "start_time": "2023-08-06T01:46:26.898805Z"
    }
   },
   "outputs": [
    {
     "data": {
      "text/plain": [
       "torch.Size([2, 1, 320, 320])"
      ]
     },
     "execution_count": 148,
     "metadata": {},
     "output_type": "execute_result"
    }
   ],
   "source": [
    "ans['mask'].shape"
   ]
  },
  {
   "cell_type": "code",
   "execution_count": 161,
   "metadata": {
    "ExecuteTime": {
     "end_time": "2023-08-07T04:49:05.168317Z",
     "start_time": "2023-08-07T04:49:05.163329Z"
    }
   },
   "outputs": [],
   "source": [
    "a = [1,2]"
   ]
  },
  {
   "cell_type": "code",
   "execution_count": 162,
   "metadata": {
    "ExecuteTime": {
     "end_time": "2023-08-07T04:49:10.188175Z",
     "start_time": "2023-08-07T04:49:10.180045Z"
    }
   },
   "outputs": [
    {
     "data": {
      "text/plain": [
       "[2]"
      ]
     },
     "execution_count": 162,
     "metadata": {},
     "output_type": "execute_result"
    }
   ],
   "source": [
    "a[1:]"
   ]
  },
  {
   "cell_type": "code",
   "execution_count": 155,
   "metadata": {
    "ExecuteTime": {
     "end_time": "2023-08-07T04:36:30.009498Z",
     "start_time": "2023-08-07T04:36:29.999449Z"
    }
   },
   "outputs": [],
   "source": [
    "mhsa  =  MHSA(\n",
    "    in_channels = 128//4, \n",
    "            heads = 4, curr_h = 4, curr_w = 4,\n",
    "            pos_enc_type = \"relative\"\n",
    "        )"
   ]
  },
  {
   "cell_type": "code",
   "execution_count": 159,
   "metadata": {
    "ExecuteTime": {
     "end_time": "2023-08-07T04:44:05.192985Z",
     "start_time": "2023-08-07T04:44:05.183937Z"
    }
   },
   "outputs": [],
   "source": [
    "batch_image = torch.zeros((16, 32, 4, 4))"
   ]
  },
  {
   "cell_type": "code",
   "execution_count": 160,
   "metadata": {
    "ExecuteTime": {
     "end_time": "2023-08-07T04:44:05.701578Z",
     "start_time": "2023-08-07T04:44:05.630768Z"
    }
   },
   "outputs": [
    {
     "data": {
      "text/plain": [
       "tensor([[[[0., 0., 0.,  ..., 0., 0., 0.],\n",
       "          [0., 0., 0.,  ..., 0., 0., 0.],\n",
       "          [0., 0., 0.,  ..., 0., 0., 0.],\n",
       "          [0., 0., 0.,  ..., 0., 0., 0.]],\n",
       "\n",
       "         [[0., 0., 0.,  ..., 0., 0., 0.],\n",
       "          [0., 0., 0.,  ..., 0., 0., 0.],\n",
       "          [0., 0., 0.,  ..., 0., 0., 0.],\n",
       "          [0., 0., 0.,  ..., 0., 0., 0.]],\n",
       "\n",
       "         [[0., 0., 0.,  ..., 0., 0., 0.],\n",
       "          [0., 0., 0.,  ..., 0., 0., 0.],\n",
       "          [0., 0., 0.,  ..., 0., 0., 0.],\n",
       "          [0., 0., 0.,  ..., 0., 0., 0.]],\n",
       "\n",
       "         [[0., 0., 0.,  ..., 0., 0., 0.],\n",
       "          [0., 0., 0.,  ..., 0., 0., 0.],\n",
       "          [0., 0., 0.,  ..., 0., 0., 0.],\n",
       "          [0., 0., 0.,  ..., 0., 0., 0.]]],\n",
       "\n",
       "\n",
       "        [[[0., 0., 0.,  ..., 0., 0., 0.],\n",
       "          [0., 0., 0.,  ..., 0., 0., 0.],\n",
       "          [0., 0., 0.,  ..., 0., 0., 0.],\n",
       "          [0., 0., 0.,  ..., 0., 0., 0.]],\n",
       "\n",
       "         [[0., 0., 0.,  ..., 0., 0., 0.],\n",
       "          [0., 0., 0.,  ..., 0., 0., 0.],\n",
       "          [0., 0., 0.,  ..., 0., 0., 0.],\n",
       "          [0., 0., 0.,  ..., 0., 0., 0.]],\n",
       "\n",
       "         [[0., 0., 0.,  ..., 0., 0., 0.],\n",
       "          [0., 0., 0.,  ..., 0., 0., 0.],\n",
       "          [0., 0., 0.,  ..., 0., 0., 0.],\n",
       "          [0., 0., 0.,  ..., 0., 0., 0.]],\n",
       "\n",
       "         [[0., 0., 0.,  ..., 0., 0., 0.],\n",
       "          [0., 0., 0.,  ..., 0., 0., 0.],\n",
       "          [0., 0., 0.,  ..., 0., 0., 0.],\n",
       "          [0., 0., 0.,  ..., 0., 0., 0.]]],\n",
       "\n",
       "\n",
       "        [[[0., 0., 0.,  ..., 0., 0., 0.],\n",
       "          [0., 0., 0.,  ..., 0., 0., 0.],\n",
       "          [0., 0., 0.,  ..., 0., 0., 0.],\n",
       "          [0., 0., 0.,  ..., 0., 0., 0.]],\n",
       "\n",
       "         [[0., 0., 0.,  ..., 0., 0., 0.],\n",
       "          [0., 0., 0.,  ..., 0., 0., 0.],\n",
       "          [0., 0., 0.,  ..., 0., 0., 0.],\n",
       "          [0., 0., 0.,  ..., 0., 0., 0.]],\n",
       "\n",
       "         [[0., 0., 0.,  ..., 0., 0., 0.],\n",
       "          [0., 0., 0.,  ..., 0., 0., 0.],\n",
       "          [0., 0., 0.,  ..., 0., 0., 0.],\n",
       "          [0., 0., 0.,  ..., 0., 0., 0.]],\n",
       "\n",
       "         [[0., 0., 0.,  ..., 0., 0., 0.],\n",
       "          [0., 0., 0.,  ..., 0., 0., 0.],\n",
       "          [0., 0., 0.,  ..., 0., 0., 0.],\n",
       "          [0., 0., 0.,  ..., 0., 0., 0.]]],\n",
       "\n",
       "\n",
       "        ...,\n",
       "\n",
       "\n",
       "        [[[0., 0., 0.,  ..., 0., 0., 0.],\n",
       "          [0., 0., 0.,  ..., 0., 0., 0.],\n",
       "          [0., 0., 0.,  ..., 0., 0., 0.],\n",
       "          [0., 0., 0.,  ..., 0., 0., 0.]],\n",
       "\n",
       "         [[0., 0., 0.,  ..., 0., 0., 0.],\n",
       "          [0., 0., 0.,  ..., 0., 0., 0.],\n",
       "          [0., 0., 0.,  ..., 0., 0., 0.],\n",
       "          [0., 0., 0.,  ..., 0., 0., 0.]],\n",
       "\n",
       "         [[0., 0., 0.,  ..., 0., 0., 0.],\n",
       "          [0., 0., 0.,  ..., 0., 0., 0.],\n",
       "          [0., 0., 0.,  ..., 0., 0., 0.],\n",
       "          [0., 0., 0.,  ..., 0., 0., 0.]],\n",
       "\n",
       "         [[0., 0., 0.,  ..., 0., 0., 0.],\n",
       "          [0., 0., 0.,  ..., 0., 0., 0.],\n",
       "          [0., 0., 0.,  ..., 0., 0., 0.],\n",
       "          [0., 0., 0.,  ..., 0., 0., 0.]]],\n",
       "\n",
       "\n",
       "        [[[0., 0., 0.,  ..., 0., 0., 0.],\n",
       "          [0., 0., 0.,  ..., 0., 0., 0.],\n",
       "          [0., 0., 0.,  ..., 0., 0., 0.],\n",
       "          [0., 0., 0.,  ..., 0., 0., 0.]],\n",
       "\n",
       "         [[0., 0., 0.,  ..., 0., 0., 0.],\n",
       "          [0., 0., 0.,  ..., 0., 0., 0.],\n",
       "          [0., 0., 0.,  ..., 0., 0., 0.],\n",
       "          [0., 0., 0.,  ..., 0., 0., 0.]],\n",
       "\n",
       "         [[0., 0., 0.,  ..., 0., 0., 0.],\n",
       "          [0., 0., 0.,  ..., 0., 0., 0.],\n",
       "          [0., 0., 0.,  ..., 0., 0., 0.],\n",
       "          [0., 0., 0.,  ..., 0., 0., 0.]],\n",
       "\n",
       "         [[0., 0., 0.,  ..., 0., 0., 0.],\n",
       "          [0., 0., 0.,  ..., 0., 0., 0.],\n",
       "          [0., 0., 0.,  ..., 0., 0., 0.],\n",
       "          [0., 0., 0.,  ..., 0., 0., 0.]]],\n",
       "\n",
       "\n",
       "        [[[0., 0., 0.,  ..., 0., 0., 0.],\n",
       "          [0., 0., 0.,  ..., 0., 0., 0.],\n",
       "          [0., 0., 0.,  ..., 0., 0., 0.],\n",
       "          [0., 0., 0.,  ..., 0., 0., 0.]],\n",
       "\n",
       "         [[0., 0., 0.,  ..., 0., 0., 0.],\n",
       "          [0., 0., 0.,  ..., 0., 0., 0.],\n",
       "          [0., 0., 0.,  ..., 0., 0., 0.],\n",
       "          [0., 0., 0.,  ..., 0., 0., 0.]],\n",
       "\n",
       "         [[0., 0., 0.,  ..., 0., 0., 0.],\n",
       "          [0., 0., 0.,  ..., 0., 0., 0.],\n",
       "          [0., 0., 0.,  ..., 0., 0., 0.],\n",
       "          [0., 0., 0.,  ..., 0., 0., 0.]],\n",
       "\n",
       "         [[0., 0., 0.,  ..., 0., 0., 0.],\n",
       "          [0., 0., 0.,  ..., 0., 0., 0.],\n",
       "          [0., 0., 0.,  ..., 0., 0., 0.],\n",
       "          [0., 0., 0.,  ..., 0., 0., 0.]]]], grad_fn=<UnsafeViewBackward0>)"
      ]
     },
     "execution_count": 160,
     "metadata": {},
     "output_type": "execute_result"
    }
   ],
   "source": [
    "mhsa(batch_image)"
   ]
  },
  {
   "cell_type": "code",
   "execution_count": null,
   "metadata": {},
   "outputs": [],
   "source": []
  }
 ],
 "metadata": {
  "hide_input": false,
  "kernelspec": {
   "display_name": "DSIM",
   "language": "python",
   "name": "dsim"
  },
  "language_info": {
   "codemirror_mode": {
    "name": "ipython",
    "version": 3
   },
   "file_extension": ".py",
   "mimetype": "text/x-python",
   "name": "python",
   "nbconvert_exporter": "python",
   "pygments_lexer": "ipython3",
   "version": "3.10.4"
  },
  "latex_envs": {
   "LaTeX_envs_menu_present": true,
   "autoclose": false,
   "autocomplete": true,
   "bibliofile": "biblio.bib",
   "cite_by": "apalike",
   "current_citInitial": 1,
   "eqLabelWithNumbers": true,
   "eqNumInitial": 1,
   "hotkeys": {
    "equation": "Ctrl-E",
    "itemize": "Ctrl-I"
   },
   "labels_anchors": false,
   "latex_user_defs": false,
   "report_style_numbering": false,
   "user_envs_cfg": false
  },
  "toc": {
   "base_numbering": 1,
   "nav_menu": {},
   "number_sections": true,
   "sideBar": true,
   "skip_h1_title": false,
   "title_cell": "Table of Contents",
   "title_sidebar": "Contents",
   "toc_cell": false,
   "toc_position": {},
   "toc_section_display": true,
   "toc_window_display": false
  },
  "varInspector": {
   "cols": {
    "lenName": 16,
    "lenType": 16,
    "lenVar": 40
   },
   "kernels_config": {
    "python": {
     "delete_cmd_postfix": "",
     "delete_cmd_prefix": "del ",
     "library": "var_list.py",
     "varRefreshCmd": "print(var_dic_list())"
    },
    "r": {
     "delete_cmd_postfix": ") ",
     "delete_cmd_prefix": "rm(",
     "library": "var_list.r",
     "varRefreshCmd": "cat(var_dic_list()) "
    }
   },
   "types_to_exclude": [
    "module",
    "function",
    "builtin_function_or_method",
    "instance",
    "_Feature"
   ],
   "window_display": false
  }
 },
 "nbformat": 4,
 "nbformat_minor": 2
}
